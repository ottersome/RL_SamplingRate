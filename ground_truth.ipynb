{
 "cells": [
  {
   "attachments": {},
   "cell_type": "markdown",
   "metadata": {},
   "source": [
    "# Introduction\n",
    "\n",
    "This file will show us the ground truth that Ernest Provided in Matlab. Hopefully we can automate it a bit futher than this:"
   ]
  },
  {
   "attachments": {},
   "cell_type": "markdown",
   "metadata": {},
   "source": [
    "Previously we had mentioned about the ability for us to work with expectation across paths. This is a general case of the approach that Ernest\n",
    "showed us in the previous meeting. \n",
    "Let us begin with:\n",
    "$$\n",
    "\\begin{align*}\n",
    "P(\\text{error} | \\Delta) &= \\sum_{\\rho\\in \\mathcal{P}} P(\\epsilon , \\rho | \\Delta)\\\\\n",
    "    &=\\sum_{\\rho\\in \\mathcal{P}} P(\\epsilon | \\rho , \\Delta)P(\\rho | \\Delta)\\\\\n",
    "    &=\\sum_{\\rho\\in \\mathcal{P}} P(\\epsilon | \\rho , \\Delta)P_\\Delta(\\rho)\\\\\n",
    "    &=\\mathbb{E}\\left[P(\\epsilon | \\rho , \\Delta)\\right]\\\\\n",
    "\\end{align*}\n",
    "$$"
   ]
  },
  {
   "attachments": {},
   "cell_type": "markdown",
   "metadata": {},
   "source": [
    "Alas we obtain an expection of error $\\epsilon$ over all the possible paths $\\rho$. \n",
    "\n",
    "Let's expand each term for binary hypothesis testing as follows:\n",
    "$$\n",
    "\\begin{align}\n",
    "P(\\epsilon | \\rho, \\Delta) &= P(\\epsilon_{I} | \\rho, \\Delta) + P(\\epsilon_{II} | \\rho, \\Delta)\\\\\n",
    "    &= P(\\hat{H} = 0 , H^*=1| \\rho, \\Delta) + P(\\hat{H} = 1 , H^*=0| \\rho, \\Delta)\\\\\n",
    "\\end{align}\n",
    "$$"
   ]
  },
  {
   "attachments": {},
   "cell_type": "markdown",
   "metadata": {},
   "source": [
    "A critical observation to be made here is that $\\hat{H}|\\rho \\perp H^*|\\rho$. This is because at the moment that we have observed our path $\\rho$ the decision function collapases and becomes completely determined and independent of the hypothesis. \n",
    "Furthermore, the probability of selecting a hypothesis is such that $P(\\hat{H}=i) \\in \\{0,1\\}$. We thus end up with \n",
    "$$\n",
    "\\begin{align}\n",
    "P(\\epsilon|\\rho,\\Delta) &= P(\\hat{H} = 0 | \\rho, \\Delta) P(H^* = 1 | \\rho, \\Delta) + P(\\hat{H} = 1 | \\rho, \\Delta) P(H^* = 0 | \\rho, \\Delta)\\\\\n",
    "    &= P(\\hat{H} = 0 | \\rho, \\Delta) P(H^* = 1 | \\rho, \\Delta) + P(\\hat{H} = 1 | \\rho, \\Delta) P(H^* = 0 | \\rho, \\Delta)\\\\\n",
    "    &= P(\\hat{H} = i | \\rho, \\Delta) P(H^* = j | \\rho, \\Delta) \\\\\n",
    "    &= P(H^* = j | \\rho, \\Delta) \\\\\n",
    "\\end{align}\n",
    "$$\n",
    "Where only one term will be non-zero, the one where $P(\\hat{H}|\\rho, \\Delta) = 1$"
   ]
  },
  {
   "attachments": {},
   "cell_type": "markdown",
   "metadata": {},
   "source": [
    "\n",
    "\n",
    "WIth Ernest's Derivation we have:\n",
    "\n",
    "$$\n",
    "\\begin{align*}\n",
    "P(\\epsilon| \\rho, \\Delta) &= P(H^* = j | \\rho, \\Delta) =\\frac{P(H^*=j, \\rho|\\Delta)}{P(\\rho | \\Delta)}\\\\\n",
    "    &=\\frac{P(\\rho|H^*=j,\\Delta)P(H^*=h|\\Delta)}{P(\\rho | \\Delta)}\\\\\n",
    "    &=\\frac{P^{(j)}_\\Delta(\\rho)\\frac{1}{|\\mathcal{H}|}}{P(\\rho | \\Delta)}\n",
    "\\end{align*}\n",
    "$$\n",
    "\n",
    "Notice that the only stochasticity in this system comes from the prior for the hypotheses $\\{\\mathcal{H}_i\\}^N$\n"
   ]
  },
  {
   "attachments": {},
   "cell_type": "markdown",
   "metadata": {},
   "source": [
    "\n",
    "Now hhere is where i am not entirely sure about my derivation. \n",
    "\n",
    "Tying it all together we have \n",
    "\n",
    "$$\n",
    "\\begin{align}\n",
    "P(\\epsilon| \\Delta) &= \\mathbb{E}\\left[P(\\epsilon|p,\\Delta)\\right]\\\\\n",
    "    &= \\mathbb{E}\\left[\\frac{P^{(j)}_\\Delta(\\rho)\\frac{1}{|\\mathcal{H}|}}{P(\\rho | \\Delta)}\\right]\n",
    "\\end{align}\n",
    "$$"
   ]
  },
  {
   "attachments": {},
   "cell_type": "markdown",
   "metadata": {},
   "source": [
    "# Lets Test This with Code"
   ]
  },
  {
   "cell_type": "code",
   "execution_count": 2,
   "metadata": {},
   "outputs": [],
   "source": [
    "import numpy as np\n",
    "import sys\n",
    "import matplotlib.pyplot as plt\n",
    "import datetime\n",
    "import argparse\n",
    "from sklearn.metrics import roc_curve\n",
    "from math import factorial\n",
    "from scipy.linalg import expm\n",
    "import sp_sims\n",
    "from sp_sims.simulators.stochasticprocesses import *\n",
    "from sp_sims.statistics.statistics import *\n",
    "from sp_sims.estimators.algos import *\n",
    "from IPython.display import clear_output\n",
    "from sp_sims.sanitycheck.truebirthdeath import *\n",
    "#from sp_sims.utils.utils import *\n",
    "import random\n",
    "from tqdm import tqdm\n",
    "from time import sleep\n",
    "import time"
   ]
  },
  {
   "cell_type": "code",
   "execution_count": 200,
   "metadata": {},
   "outputs": [
    {
     "data": {
      "text/plain": [
       "<module 'sp_sims.statistics.statistics' from '/Users/rac716/Research/RL_RateOptimization/sp_sims/statistics/statistics.py'>"
      ]
     },
     "execution_count": 200,
     "metadata": {},
     "output_type": "execute_result"
    }
   ],
   "source": [
    "import importlib\n",
    "importlib.reload(sp_sims.simulators.stochasticprocesses)\n",
    "importlib.reload(sp_sims.statistics.statistics)"
   ]
  },
  {
   "cell_type": "code",
   "execution_count": 75,
   "metadata": {},
   "outputs": [
    {
     "name": "stdout",
     "output_type": "stream",
     "text": [
      "The autoreload extension is already loaded. To reload it, use:\n",
      "  %reload_ext autoreload\n"
     ]
    }
   ],
   "source": [
    "%load_ext autoreload\n",
    "%autoreload 2"
   ]
  },
  {
   "attachments": {},
   "cell_type": "markdown",
   "metadata": {},
   "source": [
    "# Prepping"
   ]
  },
  {
   "cell_type": "code",
   "execution_count": 3,
   "metadata": {},
   "outputs": [],
   "source": [
    "# We may change args here:\n",
    "class Args:\n",
    "  xres = 100\n",
    "  length = 10000\n",
    "  max_samples = 1000 # Mostly to keep computational costs down.\n",
    "  state_limit = 1#Inclusive\n",
    "  init_state = 0\n",
    "  num_samples =2\n",
    "  detection_guesses =1000\n",
    "args = Args()"
   ]
  },
  {
   "cell_type": "code",
   "execution_count": 4,
   "metadata": {},
   "outputs": [],
   "source": [
    "# Some Util Functions\n",
    "def take_a_guess(tape, p0, p1):\n",
    "    num = 0\n",
    "    denum = 0\n",
    "    # num = 1\n",
    "    # denum = 1\n",
    "    for i in range(len(tape)-1):\n",
    "        from_state = tape[i]\n",
    "        to_state = tape[i+1]\n",
    "        # num  *= p0[from_state,to_state]\n",
    "        # denum *= p1[from_state,to_state]\n",
    "        num += np.log(p0[from_state,to_state])\n",
    "        denum += np.log(p1[from_state,to_state])\n",
    "\n",
    "    return 0 if num > denum else 1\n",
    "def return_ls(tape, p0, p1):\n",
    "    num = 1\n",
    "    denum = 1\n",
    "    for i in range(len(tape)-1):\n",
    "        from_state = tape[i]\n",
    "        to_state = tape[i+1]\n",
    "        num  *= p0[from_state,to_state]\n",
    "        denum *= p1[from_state,to_state]\n",
    "    return num,denum\n",
    "def stats_for_single_22paths(sts,hts,samp_rate, p0s, p1s, path = [0,0]):\n",
    "    # Take all Paths \n",
    "    # This count how many i->j transitiosn per hypothesis are encountered\n",
    "    hyp_counts = np.zeros(2) # 2 For 2 number of hypothesis\n",
    "    # Dice them for sampling rates\n",
    "    for i,p in enumerate(sts):\n",
    "        idx_true_hyp = true_values[i]\n",
    "        sampled_tape = quick_sample(samp_rate, sts[i],hts[i])\n",
    "\n",
    "        count = ((tmpSampTape[:-1] == path[0]) & (tmpSampTape[1] == path[1])).sum()\n",
    "        hyp_counts[idx_true_hyp] += count\n",
    "\n",
    "    return hyp_counts\n"
   ]
  },
  {
   "cell_type": "code",
   "execution_count": 29,
   "metadata": {},
   "outputs": [],
   "source": [
    "# Some Setup \n",
    "#rates0 = {\"lam\": 2/10,\"mu\":4/10}\n",
    "#rates1 = {\"lam\": 100/10,\"mu\":120/10}\n",
    "np.random.seed(int(time.time()))\n",
    "rates0 = {\"lam\": 1,\"mu\":1.5}\n",
    "rates1 = {\"lam\": 0.1,\"mu\":0.2}\n",
    "rates = [rates0,rates1]\n",
    "samp_rates = np.logspace(-3,6,args.xres, base=2)\n",
    "tgm0 = np.array([[-rates0['lam'],rates0['lam']],[rates0['mu'],-rates0['mu']]])\n",
    "tgm1 = np.array([[-rates1['lam'],rates1['lam']],[rates1['mu'],-rates1['mu']]])\n",
    "\n",
    "\n",
    "hts, sts = ([],[])\n",
    "last_times  = []\n",
    "true_values = np.random.choice(2,args.detection_guesses)\n",
    "# Generate The Tapes\n",
    "for i in range(args.detection_guesses):\n",
    "    roe = RaceOfExponentials(args.length,rates[true_values[i]],state_limit=args.state_limit)\n",
    "    holdTimes_tape, state_tape = roe.generate_history(args.init_state)\n",
    "    hts.append(holdTimes_tape);\n",
    "    sts.append(state_tape)\n",
    "    last_times.append(np.cumsum(holdTimes_tape)[-1])\n",
    "\n",
    "# Preparation of True Probabilities\n",
    "true_p0s = []\n",
    "true_p1s = []\n",
    "# Crete all the *known* probability functions.\n",
    "for srIdx, cur_samp_rate in enumerate(samp_rates):\n",
    "    true_p0s.append(expm(tgm0*(1/cur_samp_rate)))\n",
    "    true_p1s.append(expm(tgm1*(1/cur_samp_rate)))\n"
   ]
  },
  {
   "attachments": {},
   "cell_type": "markdown",
   "metadata": {},
   "source": [
    "# Generation of Paths"
   ]
  },
  {
   "attachments": {},
   "cell_type": "markdown",
   "metadata": {},
   "source": [
    "## For a Particular Path $(0\\to0)$"
   ]
  },
  {
   "cell_type": "code",
   "execution_count": null,
   "metadata": {},
   "outputs": [],
   "source": [
    "# This is all we Need\n",
    "fixed_state_tape = [0,0]\n",
    "fixed_true_values= np.random.choice(2,args.detection_guesses)\n",
    "fixed_guesses = np.zeros((len(samp_rates), args.detection_guesses))\n",
    "\n",
    "# Take Our Guesses\n",
    "guesses = np.zeros((len(samp_rates), args.detection_guesses))\n",
    "for i in tqdm(np.arange(args.detection_guesses)):\n",
    "    # Prepare for Decimation: First sample with the quickest rate. -> Smallest Unit of Time Interval\n",
    "    sampled_tape = fixed_state_tape # Yes, a bit hacky\n",
    "    # Go Over the \n",
    "    for srIdx, cur_samp_rate in enumerate(samp_rates):\n",
    "        # Fetch Values for Current Rate\n",
    "        true_p0 = true_p0s[srIdx]\n",
    "        true_p1 = true_p1s[srIdx]\n",
    "        true_ps = [true_p0,true_p1]\n",
    "        \n",
    "        # How many of the baseline intervals fit into the slow rate interval\n",
    "        decimateInterval = int(base_samp_rate/cur_samp_rate)\n",
    "        tmpSampTape = sampled_tape[0::decimateInterval]\n",
    "        ############################################\n",
    "        # Limit the NUmebr of Samples\n",
    "        ############################################\n",
    "        fixed_guesses[srIdx, i] = take_a_guess(sampled_tape, true_p0, true_p1)\n",
    "        l0, l1 = return_ls(sampled_tape, true_p0, true_p1) # Shall not use this as it results in very small quantities\n",
    "        # l0 = return_lr(limited_sampled_tape, true_p0, true_p1)\n",
    "        # l1 = 1\n",
    "        ###################################################################\n",
    "        # Add Per Sample\n",
    "        #l0Vcs[srIdx, i] = l0\n",
    "        #l1cs[srIdx, i] = l1"
   ]
  },
  {
   "attachments": {},
   "cell_type": "markdown",
   "metadata": {},
   "source": [
    "## For Any Path"
   ]
  },
  {
   "cell_type": "code",
   "execution_count": 28,
   "metadata": {},
   "outputs": [
    {
     "name": "stdout",
     "output_type": "stream",
     "text": [
      "Sampling at fastest rate :  64.0\n",
      "Decimating and collecting stats...\n"
     ]
    }
   ],
   "source": [
    "########################################\n",
    "# Generation\n",
    "########################################\n",
    "base_samp_rate = samp_rates[-1]\n",
    "# LIkelihoods in 2D. On First Axis Sampling Rates, On Second Axis number of guesses\n",
    "# Go Over the Detection Guesses\n",
    "path_of_interest = [0,0]\n",
    "print(\"Sampling at fastest rate : \", base_samp_rate)\n",
    "sampled_tapes = (quick_sample(base_samp_rate, sts[0],hts[0]), quick_sample(base_samp_rate, sts[1],hts[1]))\n",
    "#sampled_tapes = (simple_sample(base_samp_rate, sts[0],hts[0],max_samples=args.max_samples), simple_sample(base_samp_rate, sts[1],hts[1], max_samples=args.max_samples))\n",
    "print(\"Decimating and collecting stats...\")"
   ]
  },
  {
   "cell_type": "code",
   "execution_count": 41,
   "metadata": {},
   "outputs": [
    {
     "name": "stderr",
     "output_type": "stream",
     "text": [
      "100%|██████████| 1000/1000 [00:04<00:00, 210.34it/s]"
     ]
    },
    {
     "name": "stdout",
     "output_type": "stream",
     "text": [
      "Shortest Length of path is:  9370.0\n"
     ]
    },
    {
     "name": "stderr",
     "output_type": "stream",
     "text": [
      "\n"
     ]
    }
   ],
   "source": [
    "# Do Decimation here.\n",
    "l0cs = np.zeros((len(samp_rates), args.detection_guesses))\n",
    "l1cs = np.zeros((len(samp_rates), args.detection_guesses))\n",
    "guesses = np.zeros((len(samp_rates), args.detection_guesses))\n",
    "path_hyp_counts = np.zeros((len(samp_rates),2)) # 2 for number of hypothesis\n",
    "totpath_hyp_counts = np.zeros((len(samp_rates),2)) # 2 for number of hypothesis\n",
    "shortest_path =  np.inf\n",
    "for i in tqdm(np.arange(args.detection_guesses)):\n",
    "    idx_true_hyp = true_values[i]\n",
    "    sampled_tape = sampled_tapes[idx_true_hyp]\n",
    "    # Prepare for Decimation: First sample with the quickest rate. -> Smallest Unit of Time Interval\n",
    "    # Go Over the \n",
    "    for srIdx, cur_samp_rate in enumerate(samp_rates):\n",
    "        # Fetch Values for Current Rate\n",
    "        true_p0 = true_p0s[srIdx]\n",
    "        true_p1 = true_p1s[srIdx]\n",
    "        true_ps = [true_p0,true_p1]\n",
    "        \n",
    "        # How many of the baseline intervals fit into the slow rate interval\n",
    "        decimateInterval = int(base_samp_rate/cur_samp_rate)\n",
    "        tmpSampTape = sampled_tape[0::decimateInterval]\n",
    "        shortest_path = np.min([len(tmpSampTape), shortest_path])\n",
    "\n",
    "\n",
    "        tmpSampTape = tmpSampTape[:9000]# Limit number of transitions observed\n",
    "\n",
    "        # Count How much of each specific path we have\n",
    "        count = ((tmpSampTape[:-1] == path_of_interest[0]) & (tmpSampTape[1:] == path_of_interest[1])).sum()\n",
    "        totpath_hyp_counts[srIdx,idx_true_hyp] += (tmpSampTape[:-1] == path_of_interest[0]).sum()\n",
    "        path_hyp_counts[srIdx,idx_true_hyp] += count\n",
    "\n",
    "# Some Stats \n",
    "print(\"Shortest Length of path is: \",shortest_path)"
   ]
  },
  {
   "attachments": {},
   "cell_type": "markdown",
   "metadata": {},
   "source": [
    "## Debugging/Stats"
   ]
  },
  {
   "cell_type": "code",
   "execution_count": 146,
   "metadata": {},
   "outputs": [
    {
     "name": "stdout",
     "output_type": "stream",
     "text": [
      "The sampled tapes for each 0 and 1 have different shapes\n",
      "(213214,)\n",
      "(1909756,)\n"
     ]
    }
   ],
   "source": [
    "print(\"The sampled tapes for each 0 and 1 have different shapes\")\n",
    "print(sampled_tapes[0].shape)\n",
    "print(sampled_tapes[1].shape)"
   ]
  },
  {
   "cell_type": "code",
   "execution_count": null,
   "metadata": {},
   "outputs": [],
   "source": [
    "# Let me see both of these\n",
    "di = int(base_samp_rate/1)\n",
    "meep0 = sampled_tapes[0][0::di]\n",
    "meep1 = sampled_tapes[1][0::di]\n",
    "plt.plot(np.linspace(0,833,833), meep0)\n",
    "count0 = ((meep0[:-1] == path_of_interest[0]) & (meep0[1:] == path_of_interest[1])).sum()\n",
    "count1 = ((meep1[:-1] == path_of_interest[0]) & (meep1[1:] == path_of_interest[1])).sum()\n",
    "print(\"Hyp0 count is: {} out of {} total transitions\".format(count0,832))\n",
    "print(\"Hyp1 count is: {} out of {} total transitions\".format(count1,832))\n",
    "plt.show()"
   ]
  },
  {
   "cell_type": "code",
   "execution_count": 120,
   "metadata": {},
   "outputs": [
    {
     "name": "stdout",
     "output_type": "stream",
     "text": [
      "This is for parameters :  {'lam': 0.1, 'mu': 0.2}\n",
      "Printing Frome:  1984\n"
     ]
    },
    {
     "data": {
      "image/png": "[encoded data removed]",
      "text/plain": [
       "<Figure size 640x480 with 1 Axes>"
      ]
     },
     "metadata": {},
     "output_type": "display_data"
    }
   ],
   "source": [
    "print(\"This is for parameters : \", rates[true_values[-1]])\n",
    "window = 5000\n",
    "init_place = int(np.random.choice(len(tmpSampTape)-window,1))\n",
    "print(\"Printing Frome: \", init_place)\n",
    "rango = tmpSampTape[init_place:init_place+window]\n",
    "plt.plot(range(len(rango)), rango)\n",
    "plt.show()"
   ]
  },
  {
   "cell_type": "code",
   "execution_count": null,
   "metadata": {},
   "outputs": [],
   "source": []
  },
  {
   "attachments": {},
   "cell_type": "markdown",
   "metadata": {},
   "source": [
    "# Data Processing"
   ]
  },
  {
   "attachments": {},
   "cell_type": "markdown",
   "metadata": {},
   "source": [
    "## Single Path Error Probability\n",
    "\n",
    "At this point we want to test the single error equation that we derived before:\n",
    "\n",
    "$$\n",
    "P(\\epsilon| \\rho, \\Delta) =\\frac{P^{(j)}_\\Delta(\\rho)\\frac{1}{|\\mathcal{H}|}}{P(\\rho | \\Delta)}\n",
    "$$\n"
   ]
  },
  {
   "cell_type": "code",
   "execution_count": null,
   "metadata": {},
   "outputs": [],
   "source": [
    "# For A single Path\n",
    "fixed_fprs = []\n",
    "fixed_fnrs = []\n",
    "\n",
    "# For each Guess Run, what is the correct hypothesis.\n",
    "num_tnegs = np.sum(true_values == 0)#TN + FP\n",
    "num_tpos = np.sum(true_values == 1)#TP + FN\n",
    "\n",
    "for srIdx, cur_samp_rate in enumerate(samp_rates):\n",
    "    # Will be fixed for a fixed path\n",
    "    guesses = fixed_guesses[srIdx]\n",
    "\n",
    "    hits_index = (true_values == guesses)\n",
    "    tp = (true_values[hits_index] == 1).sum()\n",
    "    tn = (true_values[hits_index] == 0).sum()\n",
    "    \n",
    "    # Type I and II errors.\n",
    "    fixed_fprs.append((num_tnegs-tn)/(num_tnegs))\n",
    "    fixed_fnrs.append((num_tpos-tp)/(num_tpos))# Type 2 Error\n"
   ]
  },
  {
   "cell_type": "code",
   "execution_count": null,
   "metadata": {},
   "outputs": [],
   "source": [
    "# Lets start graphing:\n",
    "print(fixed_fprs)\n",
    "print(fixed_fnrs)"
   ]
  },
  {
   "cell_type": "code",
   "execution_count": 35,
   "metadata": {},
   "outputs": [
    {
     "name": "stderr",
     "output_type": "stream",
     "text": [
      "100%|██████████| 100/100 [00:00<00:00, 854237.07it/s]\n"
     ]
    },
    {
     "data": {
      "image/png": "[encoded data removed]",
      "text/plain": [
       "<Figure size 640x480 with 1 Axes>"
      ]
     },
     "metadata": {},
     "output_type": "display_data"
    }
   ],
   "source": [
    "# Graphy Graph\n",
    "\n",
    "#P(error | path, \\Deleta)\n",
    "tperror = np.zeros(len(samp_rates))\n",
    "bloop = []\n",
    "numerical_errors = []\n",
    "# For Now we will focus on Type I error  because H1 should always be preferred. \n",
    "for i in tqdm(np.arange(len(samp_rates))):\n",
    "    sr = samp_rates[i]\n",
    "    #num = true_p1s[i][0,0] if true_p0s[i][0,0] > true_p1s[i][0,0] else true_p0s[i][0,0]\n",
    "    num = true_p0s[i][0,0] \n",
    "    denum = true_p0s[i][0,0] + true_p1s[i][0,0]\n",
    "    tperror[i] = num/denum\n",
    "\n",
    "\n",
    "# Get the Numerical Erros\n",
    "numerical_errors = (path_hyp_counts[:,0]) / (path_hyp_counts).sum(axis=1)\n",
    "\n",
    "plt.plot(samp_rates, numerical_errors,color='green')\n",
    "plt.plot(samp_rates, tperror, color='orange')\n",
    "plt.xscale('log',base=2)\n",
    "#plt.ylim((0,1))\n",
    "plt.show()\n"
   ]
  },
  {
   "cell_type": "code",
   "execution_count": null,
   "metadata": {},
   "outputs": [],
   "source": [
    "path_hyp_counts[:,0]/totpath_hyp_counts[:,0]"
   ]
  },
  {
   "cell_type": "code",
   "execution_count": 43,
   "metadata": {},
   "outputs": [
    {
     "data": {
      "image/png": "[encoded data removed]",
      "text/plain": [
       "<Figure size 640x480 with 1 Axes>"
      ]
     },
     "metadata": {},
     "output_type": "display_data"
    }
   ],
   "source": [
    "# See If Probabilities Change:\n",
    "p00_0s = np.array([p[0,0] for p in true_p0s])\n",
    "p00_1s = np.array([p[0,0] for p in true_p1s])\n",
    "\n",
    "# Numerical(Excellent this agrees)\n",
    "plt.plot(samp_rates, path_hyp_counts[:,0]/totpath_hyp_counts[:,0], label=\"Emp_H0\")\n",
    "\n",
    "# Theoretical \n",
    "plt.plot(samp_rates, p00_0s, label=\"H_0\")\n",
    "plt.plot(samp_rates, p00_1s, label=\"H_1\")\n",
    "plt.plot(samp_rates, p00_0s/(p00_0s+p00_1s), label=\"H_1\")\n",
    "plt.legend()\n",
    "plt.title(\"P(0,0) per Hypothesis\")\n",
    "plt.xscale('log',base=2)\n",
    "plt.show()\n",
    "# Clearym in our particular case H1 is superior than Hypothesis 0 for every single sampling rate. "
   ]
  },
  {
   "cell_type": "code",
   "execution_count": null,
   "metadata": {},
   "outputs": [],
   "source": [
    "for i,j in enumerate(samp_rates):\n",
    "    clear_output(wait=True)\n",
    "    print(fixed_fprs[i])\n",
    "    print(fixed_guesses[i])\n",
    "    print(true_p0s[i])\n",
    "    print(true_p1s[i])\n",
    "    sleep(0.1)"
   ]
  },
  {
   "attachments": {},
   "cell_type": "markdown",
   "metadata": {},
   "source": [
    "## General Path Error Probability"
   ]
  },
  {
   "cell_type": "code",
   "execution_count": null,
   "metadata": {},
   "outputs": [],
   "source": [
    "########################################\n",
    "# Process the Results\n",
    "########################################\n",
    "# Number of true positive and negatives\n",
    "num_tnegs = np.sum(true_values == 0)#TN + FP\n",
    "num_tpos = np.sum(true_values == 1)#TP + FN\n",
    "\n",
    "# Our main stars here\n",
    "fprs = [] # False Positive Rates\n",
    "fnrs = [] # False Negative Rates\n",
    "\n",
    "# At this point we have our guesses saved\n",
    "# Loop through all Sampling Rates we have used\n",
    "for srIdx, cur_samp_rate in enumerate(samp_rates):\n",
    "    # For Plotting ROC Curve\n",
    "    guess = guesses[srIdx]\n",
    "    # Take likelihoods for this sampling rate\n",
    "    l0c = l0cs[srIdx]\n",
    "    l1c = l1cs[srIdx]\n",
    "\n",
    "    # Hits and True Probabilities\n",
    "    hits_index = (true_values == guess)\n",
    "    tp = (true_values[hits_index] == 1).sum()\n",
    "    tn = (true_values[hits_index] == 0).sum()\n",
    "\n",
    "    # Correct\n",
    "    sensitivities.append(tp/num_tpos)\n",
    "    invspecificities.append(1-(tn/num_tnegs))\n",
    "\n",
    "    # False Positive and Negative Rates\n",
    "    fprs.append((num_tnegs-tn)/(num_tnegs))\n",
    "    fnrs.append((num_tpos-tp)/(num_tpos))# Type 2 Error\n",
    "\n",
    "    \n",
    "    #This section for H0 case\n",
    "    # I dont knwo why Ernest focuses on when we get it right\n",
    "    # idxLocs = (true_values == 0)\n",
    "    # lInterest = l0c[idxLocs]# Just get the one of interest\n",
    "    lInterest = l0c\n",
    "\n",
    "    l0s.append(np.mean(lInterest))\n",
    "    v0s.append(np.std(lInterest))\n",
    "    mi0s.append(np.min(lInterest))\n",
    "    ma0s.append(np.max(lInterest))\n",
    "    \n",
    "    #This section for H1 case\n",
    "    # # Again same as above\n",
    "    # idxLocs = (true_values == 1)\n",
    "    # lInterest = l1c[idxLocs] # Get Likelihood 1\n",
    "    lInterest = l1c\n",
    "\n",
    "    l1s.append(np.mean(lInterest))\n",
    "    v1s.append(np.std(lInterest))\n",
    "\n",
    "    mi1s.append(np.min(lInterest))\n",
    "    ma1s.append(np.max(lInterest))\n",
    "\n",
    "    num_hits = (true_values == guess).sum()\n",
    "    hit_rates.append(num_hits/args.detection_guesses)\n"
   ]
  },
  {
   "attachments": {},
   "cell_type": "markdown",
   "metadata": {},
   "source": [
    "# Policy Gradient Algorithms\n",
    "In this section we will implement policy gradient algorithms, and if necessary we will do PPO. "
   ]
  },
  {
   "attachments": {},
   "cell_type": "markdown",
   "metadata": {},
   "source": [
    "There is nothing episodic about our run and environment. We may think of our environment as a simple bandit environmen in the sense that there is only a single step. \n",
    "However, Policy Gradients may still work in these cases. \n",
    "\n",
    "An extra bit of caveat that we must mention is that we work with actions in continuous space. In these cases I have read that it Bayesian Networks are used. More specficically \n",
    "we could draw actions from teh gaussian distribution. In this caswe would learn an appropriate mean and standard deviation. "
   ]
  },
  {
   "cell_type": "code",
   "execution_count": 29,
   "metadata": {},
   "outputs": [],
   "source": [
    "import torch "
   ]
  },
  {
   "cell_type": "code",
   "execution_count": null,
   "metadata": {},
   "outputs": [],
   "source": []
  },
  {
   "attachments": {},
   "cell_type": "markdown",
   "metadata": {},
   "source": [
    "## More Generally:"
   ]
  },
  {
   "attachments": {},
   "cell_type": "markdown",
   "metadata": {},
   "source": [
    "\n",
    "$$\n",
    "\\begin{align}\n",
    "P(\\epsilon|\\rho,\\Delta) &= \\sum_i \\sum_j P(\\hat{H} = i | \\rho, \\Delta) P(H^* = j | \\rho, \\Delta)\\\\\n",
    "    &= \\sum_j P(H^* = j | \\rho, \\Delta)\\\\\n",
    "    &= \\sum_j P(H^* = j | \\rho, \\Delta)\\\\\n",
    "\\end{align}\n",
    "$$"
   ]
  },
  {
   "cell_type": "code",
   "execution_count": null,
   "metadata": {},
   "outputs": [],
   "source": []
  },
  {
   "attachments": {},
   "cell_type": "markdown",
   "metadata": {},
   "source": [
    "We may then say that "
   ]
  },
  {
   "cell_type": "code",
   "execution_count": null,
   "metadata": {},
   "outputs": [],
   "source": []
  },
  {
   "attachments": {},
   "cell_type": "markdown",
   "metadata": {},
   "source": [
    "In This file we will"
   ]
  }
 ],
 "metadata": {
  "kernelspec": {
   "display_name": "Python 3",
   "language": "python",
   "name": "python3"
  },
  "language_info": {
   "codemirror_mode": {
    "name": "ipython",
    "version": 3
   },
   "file_extension": ".py",
   "mimetype": "text/x-python",
   "name": "python",
   "nbconvert_exporter": "python",
   "pygments_lexer": "ipython3",
   "version": "3.9.15"
  },
  "orig_nbformat": 4
 },
 "nbformat": 4,
 "nbformat_minor": 2
}
