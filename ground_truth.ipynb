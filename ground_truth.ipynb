{
 "cells": [
  {
   "attachments": {},
   "cell_type": "markdown",
   "metadata": {},
   "source": [
    "# Introduction\n",
    "\n",
    "This file will show us the ground truth that Ernest Provided in Matlab. Hopefully we can automate it a bit futher than this:"
   ]
  },
  {
   "attachments": {},
   "cell_type": "markdown",
   "metadata": {},
   "source": [
    "Previously we had mentioned about the ability for us to work with expectation across paths. This is a general case of the approach that Ernest\n",
    "showed us in the previous meeting. \n",
    "Let us begin with:\n",
    "$$\n",
    "\\begin{align*}\n",
    "P(\\text{error} | \\Delta) &= \\sum_{\\rho\\in \\mathcal{P}} P(\\epsilon , \\rho | \\Delta)\\\\\n",
    "    &=\\sum_{\\rho\\in \\mathcal{P}} P(\\epsilon | \\rho , \\Delta)P(\\rho | \\Delta)\\\\\n",
    "    &=\\sum_{\\rho\\in \\mathcal{P}} P(\\epsilon | \\rho , \\Delta)P_\\Delta(\\rho)\\\\\n",
    "    &=\\mathbb{E}\\left[P(\\epsilon | \\rho , \\Delta)\\right]\\\\\n",
    "\\end{align*}\n",
    "$$"
   ]
  },
  {
   "attachments": {},
   "cell_type": "markdown",
   "metadata": {},
   "source": [
    "Alas we obtain an expection of error $\\epsilon$ over all the possible paths $\\rho$. \n",
    "\n",
    "Let's expand each term for binary hypothesis testing as follows:\n",
    "$$\n",
    "\\begin{align}\n",
    "P(\\epsilon | \\rho, \\Delta) &= P(\\epsilon_{I} | \\rho, \\Delta) + P(\\epsilon_{II} | \\rho, \\Delta)\\\\\n",
    "    &= P(\\hat{H} = 0 , H^*=1| \\rho, \\Delta) + P(\\hat{H} = 1 , H^*=0| \\rho, \\Delta)\\\\\n",
    "\\end{align}\n",
    "$$"
   ]
  },
  {
   "attachments": {},
   "cell_type": "markdown",
   "metadata": {},
   "source": [
    "A critical observation to be made here is that $\\hat{H}|\\rho \\perp H^*|\\rho$. This is because at the moment that we have observed our path $\\rho$ the decision function collapases and becomes completely determined and independent of the hypothesis. \n",
    "Furthermore, the probability of selecting a hypothesis is such that $P(\\hat{H}=i) \\in \\{0,1\\}$. We thus end up with \n",
    "$$\n",
    "\\begin{align}\n",
    "P(\\epsilon|\\rho,\\Delta) &= P(\\hat{H} = 0 | \\rho, \\Delta) P(H^* = 1 | \\rho, \\Delta) + P(\\hat{H} = 1 | \\rho, \\Delta) P(H^* = 0 | \\rho, \\Delta)\\\\\n",
    "    &= P(\\hat{H} = 0 | \\rho, \\Delta) P(H^* = 1 | \\rho, \\Delta) + P(\\hat{H} = 1 | \\rho, \\Delta) P(H^* = 0 | \\rho, \\Delta)\\\\\n",
    "    &= P(\\hat{H} = i | \\rho, \\Delta) P(H^* = j | \\rho, \\Delta) \\\\\n",
    "    &= P(H^* = j | \\rho, \\Delta) \\\\\n",
    "\\end{align}\n",
    "$$\n",
    "Where only one term will be non-zero, the one where $P(\\hat{H}|\\rho, \\Delta) = 1$"
   ]
  },
  {
   "attachments": {},
   "cell_type": "markdown",
   "metadata": {},
   "source": [
    "\n",
    "\n",
    "WIth Ernest's Derivation we have:\n",
    "\n",
    "$$\n",
    "\\begin{align*}\n",
    "P(\\epsilon| \\rho, \\Delta) &= P(H^* = j | \\rho, \\Delta) =\\frac{P(H^*=j, \\rho|\\Delta)}{P(\\rho | \\Delta)}\\\\\n",
    "    &=\\frac{P(\\rho|H^*=j,\\Delta)P(H^*=h|\\Delta)}{P(\\rho | \\Delta)}\\\\\n",
    "    &=\\frac{P^{(j)}_\\Delta(\\rho)\\frac{1}{|\\mathcal{H}|}}{P(\\rho | \\Delta)}\n",
    "\\end{align*}\n",
    "$$\n",
    "\n",
    "Notice that the only stochasticity in this system comes from the prior for the hypotheses $\\{\\mathcal{H}_i\\}^N$\n"
   ]
  },
  {
   "attachments": {},
   "cell_type": "markdown",
   "metadata": {},
   "source": [
    "\n",
    "Now hhere is where i am not entirely sure about my derivation. \n",
    "\n",
    "Tying it all together we have \n",
    "\n",
    "$$\n",
    "\\begin{align}\n",
    "P(\\epsilon| \\Delta) &= \\mathbb{E}\\left[P(\\epsilon|p,\\Delta)\\right]\\\\\n",
    "    &= \\mathbb{E}\\left[\\frac{P^{(j)}_\\Delta(\\rho)\\frac{1}{|\\mathcal{H}|}}{P(\\rho | \\Delta)}\\right]\n",
    "\\end{align}\n",
    "$$"
   ]
  },
  {
   "attachments": {},
   "cell_type": "markdown",
   "metadata": {},
   "source": [
    "# Lets Test This with Code"
   ]
  },
  {
   "cell_type": "code",
   "execution_count": 162,
   "metadata": {},
   "outputs": [],
   "source": [
    "import numpy as np\n",
    "import sys\n",
    "import matplotlib.pyplot as plt\n",
    "import datetime\n",
    "import argparse\n",
    "from sklearn.metrics import roc_curve\n",
    "from math import factorial\n",
    "from scipy.linalg import expm\n",
    "import sp_sims\n",
    "from sp_sims.simulators.stochasticprocesses import *\n",
    "from sp_sims.statistics.statistics import *\n",
    "from sp_sims.estimators.algos import *\n",
    "from IPython.display import clear_output\n",
    "from sp_sims.sanitycheck.truebirthdeath import *\n",
    "#from sp_sims.utils.utils import *\n",
    "import random\n",
    "from tqdm import tqdm\n",
    "from time import sleep\n",
    "import time"
   ]
  },
  {
   "cell_type": "code",
   "execution_count": 200,
   "metadata": {},
   "outputs": [
    {
     "data": {
      "text/plain": [
       "<module 'sp_sims.statistics.statistics' from '/Users/rac716/Research/RL_RateOptimization/sp_sims/statistics/statistics.py'>"
      ]
     },
     "execution_count": 200,
     "metadata": {},
     "output_type": "execute_result"
    }
   ],
   "source": [
    "import importlib\n",
    "importlib.reload(sp_sims.simulators.stochasticprocesses)\n",
    "importlib.reload(sp_sims.statistics.statistics)"
   ]
  },
  {
   "cell_type": "code",
   "execution_count": 75,
   "metadata": {},
   "outputs": [
    {
     "name": "stdout",
     "output_type": "stream",
     "text": [
      "The autoreload extension is already loaded. To reload it, use:\n",
      "  %reload_ext autoreload\n"
     ]
    }
   ],
   "source": [
    "%load_ext autoreload\n",
    "%autoreload 2"
   ]
  },
  {
   "attachments": {},
   "cell_type": "markdown",
   "metadata": {},
   "source": [
    "# Prepping"
   ]
  },
  {
   "cell_type": "code",
   "execution_count": 212,
   "metadata": {},
   "outputs": [],
   "source": [
    "# We may change args here:\n",
    "class Args:\n",
    "  xres = 100\n",
    "  length = 10000\n",
    "  max_samples = 1000 # Mostly to keep computational costs down.\n",
    "  state_limit = 1#Inclusive\n",
    "  init_state = 0\n",
    "  num_samples =2\n",
    "  detection_guesses =1000\n",
    "args = Args()"
   ]
  },
  {
   "cell_type": "code",
   "execution_count": 20,
   "metadata": {},
   "outputs": [],
   "source": [
    "# Some Util Functions\n",
    "def take_a_guess(tape, p0, p1):\n",
    "    num = 0\n",
    "    denum = 0\n",
    "    # num = 1\n",
    "    # denum = 1\n",
    "    for i in range(len(tape)-1):\n",
    "        from_state = tape[i]\n",
    "        to_state = tape[i+1]\n",
    "        # num  *= p0[from_state,to_state]\n",
    "        # denum *= p1[from_state,to_state]\n",
    "        num += np.log(p0[from_state,to_state])\n",
    "        denum += np.log(p1[from_state,to_state])\n",
    "\n",
    "    return 0 if num > denum else 1\n",
    "def return_ls(tape, p0, p1):\n",
    "    num = 1\n",
    "    denum = 1\n",
    "    for i in range(len(tape)-1):\n",
    "        from_state = tape[i]\n",
    "        to_state = tape[i+1]\n",
    "        num  *= p0[from_state,to_state]\n",
    "        denum *= p1[from_state,to_state]\n",
    "    return num,denum\n",
    "def stats_for_single_22paths(sts,hts,samp_rate, p0s, p1s, path = [0,0]):\n",
    "    # Take all Paths \n",
    "    # This count how many i->j transitiosn per hypothesis are encountered\n",
    "    hyp_counts = np.zeros(2) # 2 For 2 number of hypothesis\n",
    "    # Dice them for sampling rates\n",
    "    for i,p in enumerate(sts):\n",
    "        idx_true_hyp = true_values[i]\n",
    "        sampled_tape = quick_sample(samp_rate, sts[i],hts[i])\n",
    "\n",
    "        count = ((tmpSampTape[:-1] == path[0]) & (tmpSampTape[1] == path[1])).sum()\n",
    "        hyp_counts[idx_true_hyp] += count\n",
    "\n",
    "    return hyp_counts\n"
   ]
  },
  {
   "cell_type": "code",
   "execution_count": 213,
   "metadata": {},
   "outputs": [],
   "source": [
    "# Some Setup \n",
    "#rates0 = {\"lam\": 2/10,\"mu\":4/10}\n",
    "#rates1 = {\"lam\": 100/10,\"mu\":120/10}\n",
    "np.random.seed(int(time.time()))\n",
    "rates0 = {\"lam\": 1,\"mu\":1.5}\n",
    "rates1 = {\"lam\": 0.1,\"mu\":0.2}\n",
    "rates = [rates0,rates1]\n",
    "samp_rates = np.logspace(-3,6,args.xres, base=2)\n",
    "tgm0 = np.array([[-rates0['lam'],rates0['lam']],[rates0['mu'],-rates0['mu']]])\n",
    "tgm1 = np.array([[-rates1['lam'],rates1['lam']],[rates1['mu'],-rates1['mu']]])\n",
    "\n",
    "\n",
    "hts, sts = ([],[])\n",
    "last_times  = []\n",
    "true_values = np.random.choice(2,args.detection_guesses)\n",
    "# Generate The Tapes\n",
    "for i in range(args.detection_guesses):\n",
    "    roe = RaceOfExponentials(args.length,rates[true_values[i]],state_limit=args.state_limit)\n",
    "    holdTimes_tape, state_tape = roe.generate_history(args.init_state)\n",
    "    hts.append(holdTimes_tape);\n",
    "    sts.append(state_tape)\n",
    "    last_times.append(np.cumsum(holdTimes_tape)[-1])\n",
    "\n",
    "# Preparation of True Probabilities\n",
    "true_p0s = []\n",
    "true_p1s = []\n",
    "# Crete all the *known* probability functions.\n",
    "for srIdx, cur_samp_rate in enumerate(samp_rates):\n",
    "    true_p0s.append(expm(tgm0*(1/cur_samp_rate)))\n",
    "    true_p1s.append(expm(tgm1*(1/cur_samp_rate)))\n"
   ]
  },
  {
   "attachments": {},
   "cell_type": "markdown",
   "metadata": {},
   "source": [
    "# Generation of Paths"
   ]
  },
  {
   "attachments": {},
   "cell_type": "markdown",
   "metadata": {},
   "source": [
    "## For a Particular Path $(0\\to0)$"
   ]
  },
  {
   "cell_type": "code",
   "execution_count": null,
   "metadata": {},
   "outputs": [],
   "source": [
    "# This is all we Need\n",
    "fixed_state_tape = [0,0]\n",
    "fixed_true_values= np.random.choice(2,args.detection_guesses)\n",
    "fixed_guesses = np.zeros((len(samp_rates), args.detection_guesses))\n",
    "\n",
    "# Take Our Guesses\n",
    "guesses = np.zeros((len(samp_rates), args.detection_guesses))\n",
    "for i in tqdm(np.arange(args.detection_guesses)):\n",
    "    # Prepare for Decimation: First sample with the quickest rate. -> Smallest Unit of Time Interval\n",
    "    sampled_tape = fixed_state_tape # Yes, a bit hacky\n",
    "    # Go Over the \n",
    "    for srIdx, cur_samp_rate in enumerate(samp_rates):\n",
    "        # Fetch Values for Current Rate\n",
    "        true_p0 = true_p0s[srIdx]\n",
    "        true_p1 = true_p1s[srIdx]\n",
    "        true_ps = [true_p0,true_p1]\n",
    "        \n",
    "        # How many of the baseline intervals fit into the slow rate interval\n",
    "        decimateInterval = int(base_samp_rate/cur_samp_rate)\n",
    "        tmpSampTape = sampled_tape[0::decimateInterval]\n",
    "        ############################################\n",
    "        # Limit the NUmebr of Samples\n",
    "        ############################################\n",
    "        fixed_guesses[srIdx, i] = take_a_guess(sampled_tape, true_p0, true_p1)\n",
    "        l0, l1 = return_ls(sampled_tape, true_p0, true_p1) # Shall not use this as it results in very small quantities\n",
    "        # l0 = return_lr(limited_sampled_tape, true_p0, true_p1)\n",
    "        # l1 = 1\n",
    "        ###################################################################\n",
    "        # Add Per Sample\n",
    "        #l0Vcs[srIdx, i] = l0\n",
    "        #l1cs[srIdx, i] = l1"
   ]
  },
  {
   "attachments": {},
   "cell_type": "markdown",
   "metadata": {},
   "source": [
    "## For Any Path"
   ]
  },
  {
   "cell_type": "code",
   "execution_count": 226,
   "metadata": {},
   "outputs": [
    {
     "ename": "KeyboardInterrupt",
     "evalue": "",
     "output_type": "error",
     "traceback": [
      "\u001b[0;31m---------------------------------------------------------------------------\u001b[0m",
      "\u001b[0;31mKeyboardInterrupt\u001b[0m                         Traceback (most recent call last)",
      "Cell \u001b[0;32mIn[226], line 5\u001b[0m\n\u001b[1;32m      1\u001b[0m \u001b[39m########################################\u001b[39;00m\n\u001b[1;32m      2\u001b[0m \u001b[39m# Generation\u001b[39;00m\n\u001b[1;32m      3\u001b[0m \u001b[39m########################################\u001b[39;00m\n\u001b[1;32m      4\u001b[0m base_samp_rate \u001b[39m=\u001b[39m samp_rates[\u001b[39m-\u001b[39m\u001b[39m1\u001b[39m]\n\u001b[0;32m----> 5\u001b[0m guesses \u001b[39m=\u001b[39m np\u001b[39m.\u001b[39mzeros((\u001b[39mlen\u001b[39m(samp_rates), args\u001b[39m.\u001b[39mdetection_guesses))\n\u001b[1;32m      6\u001b[0m \u001b[39m# LIkelihoods in 2D. On First Axis Sampling Rates, On Second Axis number of guesses\u001b[39;00m\n\u001b[1;32m      7\u001b[0m l0cs \u001b[39m=\u001b[39m np\u001b[39m.\u001b[39mzeros((\u001b[39mlen\u001b[39m(samp_rates), args\u001b[39m.\u001b[39mdetection_guesses))\n",
      "Cell \u001b[0;32mIn[226], line 5\u001b[0m\n\u001b[1;32m      1\u001b[0m \u001b[39m########################################\u001b[39;00m\n\u001b[1;32m      2\u001b[0m \u001b[39m# Generation\u001b[39;00m\n\u001b[1;32m      3\u001b[0m \u001b[39m########################################\u001b[39;00m\n\u001b[1;32m      4\u001b[0m base_samp_rate \u001b[39m=\u001b[39m samp_rates[\u001b[39m-\u001b[39m\u001b[39m1\u001b[39m]\n\u001b[0;32m----> 5\u001b[0m guesses \u001b[39m=\u001b[39m np\u001b[39m.\u001b[39mzeros((\u001b[39mlen\u001b[39m(samp_rates), args\u001b[39m.\u001b[39mdetection_guesses))\n\u001b[1;32m      6\u001b[0m \u001b[39m# LIkelihoods in 2D. On First Axis Sampling Rates, On Second Axis number of guesses\u001b[39;00m\n\u001b[1;32m      7\u001b[0m l0cs \u001b[39m=\u001b[39m np\u001b[39m.\u001b[39mzeros((\u001b[39mlen\u001b[39m(samp_rates), args\u001b[39m.\u001b[39mdetection_guesses))\n",
      "File \u001b[0;32m_pydevd_bundle/pydevd_cython.pyx:1457\u001b[0m, in \u001b[0;36m_pydevd_bundle.pydevd_cython.SafeCallWrapper.__call__\u001b[0;34m()\u001b[0m\n",
      "File \u001b[0;32m_pydevd_bundle/pydevd_cython.pyx:701\u001b[0m, in \u001b[0;36m_pydevd_bundle.pydevd_cython.PyDBFrame.trace_dispatch\u001b[0;34m()\u001b[0m\n",
      "File \u001b[0;32m_pydevd_bundle/pydevd_cython.pyx:1152\u001b[0m, in \u001b[0;36m_pydevd_bundle.pydevd_cython.PyDBFrame.trace_dispatch\u001b[0;34m()\u001b[0m\n",
      "File \u001b[0;32m_pydevd_bundle/pydevd_cython.pyx:1135\u001b[0m, in \u001b[0;36m_pydevd_bundle.pydevd_cython.PyDBFrame.trace_dispatch\u001b[0;34m()\u001b[0m\n",
      "File \u001b[0;32m_pydevd_bundle/pydevd_cython.pyx:312\u001b[0m, in \u001b[0;36m_pydevd_bundle.pydevd_cython.PyDBFrame.do_wait_suspend\u001b[0;34m()\u001b[0m\n",
      "File \u001b[0;32m~/miniforge3/envs/rs39/lib/python3.9/site-packages/debugpy/_vendored/pydevd/pydevd.py:2070\u001b[0m, in \u001b[0;36mPyDB.do_wait_suspend\u001b[0;34m(self, thread, frame, event, arg, exception_type)\u001b[0m\n\u001b[1;32m   2067\u001b[0m             from_this_thread\u001b[39m.\u001b[39mappend(frame_custom_thread_id)\n\u001b[1;32m   2069\u001b[0m     \u001b[39mwith\u001b[39;00m \u001b[39mself\u001b[39m\u001b[39m.\u001b[39m_threads_suspended_single_notification\u001b[39m.\u001b[39mnotify_thread_suspended(thread_id, thread, stop_reason):\n\u001b[0;32m-> 2070\u001b[0m         keep_suspended \u001b[39m=\u001b[39m \u001b[39mself\u001b[39;49m\u001b[39m.\u001b[39;49m_do_wait_suspend(thread, frame, event, arg, suspend_type, from_this_thread, frames_tracker)\n\u001b[1;32m   2072\u001b[0m frames_list \u001b[39m=\u001b[39m \u001b[39mNone\u001b[39;00m\n\u001b[1;32m   2074\u001b[0m \u001b[39mif\u001b[39;00m keep_suspended:\n\u001b[1;32m   2075\u001b[0m     \u001b[39m# This means that we should pause again after a set next statement.\u001b[39;00m\n",
      "File \u001b[0;32m~/miniforge3/envs/rs39/lib/python3.9/site-packages/debugpy/_vendored/pydevd/pydevd.py:2096\u001b[0m, in \u001b[0;36mPyDB._do_wait_suspend\u001b[0;34m(self, thread, frame, event, arg, suspend_type, from_this_thread, frames_tracker)\u001b[0m\n\u001b[1;32m   2093\u001b[0m     \u001b[39mself\u001b[39m\u001b[39m.\u001b[39m_activate_gui_if_needed()\n\u001b[1;32m   2095\u001b[0m \u001b[39mwhile\u001b[39;00m \u001b[39mTrue\u001b[39;00m:\n\u001b[0;32m-> 2096\u001b[0m     \u001b[39mwith\u001b[39;00m \u001b[39mself\u001b[39m\u001b[39m.\u001b[39m_main_lock:  \u001b[39m# Use lock to check if suspended state changed\u001b[39;00m\n\u001b[1;32m   2097\u001b[0m         \u001b[39mif\u001b[39;00m info\u001b[39m.\u001b[39mpydev_state \u001b[39m!=\u001b[39m STATE_SUSPEND \u001b[39mor\u001b[39;00m (\u001b[39mself\u001b[39m\u001b[39m.\u001b[39mpydb_disposed \u001b[39mand\u001b[39;00m \u001b[39mnot\u001b[39;00m \u001b[39mself\u001b[39m\u001b[39m.\u001b[39mterminate_requested):\n\u001b[1;32m   2098\u001b[0m             \u001b[39m# Note: we can't exit here if terminate was requested while a breakpoint was hit.\u001b[39;00m\n\u001b[1;32m   2099\u001b[0m             \u001b[39mbreak\u001b[39;00m\n",
      "\u001b[0;31mKeyboardInterrupt\u001b[0m: "
     ]
    }
   ],
   "source": [
    "########################################\n",
    "# Generation\n",
    "########################################\n",
    "base_samp_rate = samp_rates[-1]\n",
    "guesses = np.zeros((len(samp_rates), args.detection_guesses))\n",
    "# LIkelihoods in 2D. On First Axis Sampling Rates, On Second Axis number of guesses\n",
    "l0cs = np.zeros((len(samp_rates), args.detection_guesses))\n",
    "l1cs = np.zeros((len(samp_rates), args.detection_guesses))\n",
    "# Go Over the Detection Guesses\n",
    "path_hyp_counts = np.zeros((len(samp_rates),2)) # 2 for number of hypothesis\n",
    "totpath_hyp_counts = np.zeros((len(samp_rates),2)) # 2 for number of hypothesis\n",
    "path_of_interest = [0,0]\n",
    "print(\"Sampling at fastest rate : \", base_samp_rate)\n",
    "sampled_tapes = (quick_sample(base_samp_rate, sts[0],hts[0],max_samples=args.max_samples), quick_sample(base_samp_rate, sts[1],hts[1], max_samples=args.max_samples))\n",
    "#sampled_tapes = (simple_sample(base_samp_rate, sts[0],hts[0],max_samples=args.max_samples), simple_sample(base_samp_rate, sts[1],hts[1], max_samples=args.max_samples))\n",
    "shortest_path =  np.inf\n",
    "print(\"Decimating and collecting stats...\")\n",
    "#for i in tqdm(np.arange(args.detection_guesses)):"
   ]
  },
  {
   "cell_type": "code",
   "execution_count": 225,
   "metadata": {},
   "outputs": [
    {
     "ename": "KeyboardInterrupt",
     "evalue": "",
     "output_type": "error",
     "traceback": [
      "\u001b[0;31m---------------------------------------------------------------------------\u001b[0m",
      "\u001b[0;31mKeyboardInterrupt\u001b[0m                         Traceback (most recent call last)",
      "Cell \u001b[0;32mIn[225], line 31\u001b[0m\n\u001b[1;32m     28\u001b[0m l0cs[srIdx, i] \u001b[39m=\u001b[39m l0\n\u001b[1;32m     29\u001b[0m l1cs[srIdx, i] \u001b[39m=\u001b[39m l1\n\u001b[0;32m---> 31\u001b[0m tmpSampTape \u001b[39m=\u001b[39m tmpSampTape[\u001b[39m120\u001b[39m:\u001b[39m220\u001b[39m]\n\u001b[1;32m     33\u001b[0m \u001b[39m# Count How much of each specific path we have\u001b[39;00m\n\u001b[1;32m     34\u001b[0m count \u001b[39m=\u001b[39m ((tmpSampTape[:\u001b[39m-\u001b[39m\u001b[39m1\u001b[39m] \u001b[39m==\u001b[39m path_of_interest[\u001b[39m0\u001b[39m]) \u001b[39m&\u001b[39m (tmpSampTape[\u001b[39m1\u001b[39m:] \u001b[39m==\u001b[39m path_of_interest[\u001b[39m1\u001b[39m]))\u001b[39m.\u001b[39msum()\n",
      "Cell \u001b[0;32mIn[225], line 31\u001b[0m\n\u001b[1;32m     28\u001b[0m l0cs[srIdx, i] \u001b[39m=\u001b[39m l0\n\u001b[1;32m     29\u001b[0m l1cs[srIdx, i] \u001b[39m=\u001b[39m l1\n\u001b[0;32m---> 31\u001b[0m tmpSampTape \u001b[39m=\u001b[39m tmpSampTape[\u001b[39m120\u001b[39m:\u001b[39m220\u001b[39m]\n\u001b[1;32m     33\u001b[0m \u001b[39m# Count How much of each specific path we have\u001b[39;00m\n\u001b[1;32m     34\u001b[0m count \u001b[39m=\u001b[39m ((tmpSampTape[:\u001b[39m-\u001b[39m\u001b[39m1\u001b[39m] \u001b[39m==\u001b[39m path_of_interest[\u001b[39m0\u001b[39m]) \u001b[39m&\u001b[39m (tmpSampTape[\u001b[39m1\u001b[39m:] \u001b[39m==\u001b[39m path_of_interest[\u001b[39m1\u001b[39m]))\u001b[39m.\u001b[39msum()\n",
      "File \u001b[0;32m_pydevd_bundle/pydevd_cython.pyx:1457\u001b[0m, in \u001b[0;36m_pydevd_bundle.pydevd_cython.SafeCallWrapper.__call__\u001b[0;34m()\u001b[0m\n",
      "File \u001b[0;32m_pydevd_bundle/pydevd_cython.pyx:701\u001b[0m, in \u001b[0;36m_pydevd_bundle.pydevd_cython.PyDBFrame.trace_dispatch\u001b[0;34m()\u001b[0m\n",
      "File \u001b[0;32m_pydevd_bundle/pydevd_cython.pyx:1152\u001b[0m, in \u001b[0;36m_pydevd_bundle.pydevd_cython.PyDBFrame.trace_dispatch\u001b[0;34m()\u001b[0m\n",
      "File \u001b[0;32m_pydevd_bundle/pydevd_cython.pyx:1135\u001b[0m, in \u001b[0;36m_pydevd_bundle.pydevd_cython.PyDBFrame.trace_dispatch\u001b[0;34m()\u001b[0m\n",
      "File \u001b[0;32m_pydevd_bundle/pydevd_cython.pyx:312\u001b[0m, in \u001b[0;36m_pydevd_bundle.pydevd_cython.PyDBFrame.do_wait_suspend\u001b[0;34m()\u001b[0m\n",
      "File \u001b[0;32m~/miniforge3/envs/rs39/lib/python3.9/site-packages/debugpy/_vendored/pydevd/pydevd.py:2070\u001b[0m, in \u001b[0;36mPyDB.do_wait_suspend\u001b[0;34m(self, thread, frame, event, arg, exception_type)\u001b[0m\n\u001b[1;32m   2067\u001b[0m             from_this_thread\u001b[39m.\u001b[39mappend(frame_custom_thread_id)\n\u001b[1;32m   2069\u001b[0m     \u001b[39mwith\u001b[39;00m \u001b[39mself\u001b[39m\u001b[39m.\u001b[39m_threads_suspended_single_notification\u001b[39m.\u001b[39mnotify_thread_suspended(thread_id, thread, stop_reason):\n\u001b[0;32m-> 2070\u001b[0m         keep_suspended \u001b[39m=\u001b[39m \u001b[39mself\u001b[39;49m\u001b[39m.\u001b[39;49m_do_wait_suspend(thread, frame, event, arg, suspend_type, from_this_thread, frames_tracker)\n\u001b[1;32m   2072\u001b[0m frames_list \u001b[39m=\u001b[39m \u001b[39mNone\u001b[39;00m\n\u001b[1;32m   2074\u001b[0m \u001b[39mif\u001b[39;00m keep_suspended:\n\u001b[1;32m   2075\u001b[0m     \u001b[39m# This means that we should pause again after a set next statement.\u001b[39;00m\n",
      "File \u001b[0;32m~/miniforge3/envs/rs39/lib/python3.9/site-packages/debugpy/_vendored/pydevd/pydevd.py:2106\u001b[0m, in \u001b[0;36mPyDB._do_wait_suspend\u001b[0;34m(self, thread, frame, event, arg, suspend_type, from_this_thread, frames_tracker)\u001b[0m\n\u001b[1;32m   2103\u001b[0m         \u001b[39mself\u001b[39m\u001b[39m.\u001b[39m_call_input_hook()\n\u001b[1;32m   2105\u001b[0m     \u001b[39mself\u001b[39m\u001b[39m.\u001b[39mprocess_internal_commands()\n\u001b[0;32m-> 2106\u001b[0m     time\u001b[39m.\u001b[39;49msleep(\u001b[39m0.01\u001b[39;49m)\n\u001b[1;32m   2108\u001b[0m \u001b[39mself\u001b[39m\u001b[39m.\u001b[39mcancel_async_evaluation(get_current_thread_id(thread), \u001b[39mstr\u001b[39m(\u001b[39mid\u001b[39m(frame)))\n\u001b[1;32m   2110\u001b[0m \u001b[39m# process any stepping instructions\u001b[39;00m\n",
      "\u001b[0;31mKeyboardInterrupt\u001b[0m: "
     ]
    }
   ],
   "source": [
    "# Do Decimation here.\n",
    "for i in np.arange(args.detection_guesses):\n",
    "    idx_true_hyp = true_values[i]\n",
    "    sampled_tape = sampled_tapes[idx_true_hyp]\n",
    "    # Prepare for Decimation: First sample with the quickest rate. -> Smallest Unit of Time Interval\n",
    "    # Go Over the \n",
    "    for srIdx, cur_samp_rate in enumerate(samp_rates):\n",
    "        # Fetch Values for Current Rate\n",
    "        true_p0 = true_p0s[srIdx]\n",
    "        true_p1 = true_p1s[srIdx]\n",
    "        true_ps = [true_p0,true_p1]\n",
    "        \n",
    "        # How many of the baseline intervals fit into the slow rate interval\n",
    "        decimateInterval = int(base_samp_rate/cur_samp_rate)\n",
    "        tmpSampTape = sampled_tape[0::decimateInterval]\n",
    "        shortest_path = np.min([len(tmpSampTape), shortest_path])\n",
    "        ############################################\n",
    "        # Limit the NUmebr of Samples\n",
    "        ############################################\n",
    "        \n",
    "        #limited_sampled_tape = tmpSampTape[0:args.num_samples] \n",
    "        #guesses[srIdx, i] = take_a_guess(limited_sampled_tape, true_p0, true_p1)\n",
    "        #l0, l1 = return_ls(tmpSampTape[0:args.num_samples], true_p0, true_p1) # Shall not use this as it results in very small quantities\n",
    "        # l0 = return_lr(limited_sampled_tape, true_p0, true_p1)\n",
    "        # l1 = 1\n",
    "        ###################################################################\n",
    "        # Add Per Sample\n",
    "        l0cs[srIdx, i] = l0\n",
    "        l1cs[srIdx, i] = l1\n",
    "\n",
    "        tmpSampTape = tmpSampTape[120:220]\n",
    "\n",
    "        # Count How much of each specific path we have\n",
    "        count = ((tmpSampTape[:-1] == path_of_interest[0]) & (tmpSampTape[1:] == path_of_interest[1])).sum()\n",
    "        totpath_hyp_counts[srIdx,idx_true_hyp] += len(tmpSampTape)-1\n",
    "        path_hyp_counts[srIdx,idx_true_hyp] += count\n",
    "\n",
    "# Some Stats \n",
    "print(\"Shortest Length of path is: \",shortest_path)"
   ]
  },
  {
   "attachments": {},
   "cell_type": "markdown",
   "metadata": {},
   "source": [
    "## Debugging/Stats"
   ]
  },
  {
   "cell_type": "code",
   "execution_count": 146,
   "metadata": {},
   "outputs": [
    {
     "name": "stdout",
     "output_type": "stream",
     "text": [
      "The sampled tapes for each 0 and 1 have different shapes\n",
      "(213214,)\n",
      "(1909756,)\n"
     ]
    }
   ],
   "source": [
    "print(\"The sampled tapes for each 0 and 1 have different shapes\")\n",
    "print(sampled_tapes[0].shape)\n",
    "print(sampled_tapes[1].shape)"
   ]
  },
  {
   "cell_type": "code",
   "execution_count": 140,
   "metadata": {},
   "outputs": [
    {
     "name": "stdout",
     "output_type": "stream",
     "text": [
      "Hyp0 count is: 349 out of 832 total transitions\n",
      "Hyp1 count is: 4615 out of 832 total transitions\n"
     ]
    },
    {
     "data": {
      "image/png": "[encoded data removed]",
      "text/plain": [
       "<Figure size 640x480 with 1 Axes>"
      ]
     },
     "metadata": {},
     "output_type": "display_data"
    }
   ],
   "source": [
    "# Let me see both of these\n",
    "di = int(base_samp_rate/1)\n",
    "meep0 = sampled_tapes[0][0::di]\n",
    "meep1 = sampled_tapes[1][0::di]\n",
    "plt.plot(np.linspace(0,833,833), meep0)\n",
    "count0 = ((meep0[:-1] == path_of_interest[0]) & (meep0[1:] == path_of_interest[1])).sum()\n",
    "count1 = ((meep1[:-1] == path_of_interest[0]) & (meep1[1:] == path_of_interest[1])).sum()\n",
    "print(\"Hyp0 count is: {} out of {} total transitions\".format(count0,832))\n",
    "print(\"Hyp1 count is: {} out of {} total transitions\".format(count1,832))\n",
    "plt.show()"
   ]
  },
  {
   "cell_type": "code",
   "execution_count": 120,
   "metadata": {},
   "outputs": [
    {
     "name": "stdout",
     "output_type": "stream",
     "text": [
      "This is for parameters :  {'lam': 0.1, 'mu': 0.2}\n",
      "Printing Frome:  1984\n"
     ]
    },
    {
     "data": {
      "image/png": "[encoded data removed]",
      "text/plain": [
       "<Figure size 640x480 with 1 Axes>"
      ]
     },
     "metadata": {},
     "output_type": "display_data"
    }
   ],
   "source": [
    "print(\"This is for parameters : \", rates[true_values[-1]])\n",
    "window = 5000\n",
    "init_place = int(np.random.choice(len(tmpSampTape)-window,1))\n",
    "print(\"Printing Frome: \", init_place)\n",
    "rango = tmpSampTape[init_place:init_place+window]\n",
    "plt.plot(range(len(rango)), rango)\n",
    "plt.show()"
   ]
  },
  {
   "cell_type": "code",
   "execution_count": null,
   "metadata": {},
   "outputs": [],
   "source": []
  },
  {
   "attachments": {},
   "cell_type": "markdown",
   "metadata": {},
   "source": [
    "# Data Processing"
   ]
  },
  {
   "attachments": {},
   "cell_type": "markdown",
   "metadata": {},
   "source": [
    "## Single Path Error Probability\n",
    "\n",
    "At this point we want to test the single error equation that we derived before:\n",
    "\n",
    "$$\n",
    "P(\\epsilon| \\rho, \\Delta) =\\frac{P^{(j)}_\\Delta(\\rho)\\frac{1}{|\\mathcal{H}|}}{P(\\rho | \\Delta)}\n",
    "$$\n"
   ]
  },
  {
   "cell_type": "code",
   "execution_count": null,
   "metadata": {},
   "outputs": [],
   "source": [
    "# For A single Path\n",
    "fixed_fprs = []\n",
    "fixed_fnrs = []\n",
    "\n",
    "# For each Guess Run, what is the correct hypothesis.\n",
    "num_tnegs = np.sum(true_values == 0)#TN + FP\n",
    "num_tpos = np.sum(true_values == 1)#TP + FN\n",
    "\n",
    "for srIdx, cur_samp_rate in enumerate(samp_rates):\n",
    "    # Will be fixed for a fixed path\n",
    "    guesses = fixed_guesses[srIdx]\n",
    "\n",
    "    hits_index = (true_values == guesses)\n",
    "    tp = (true_values[hits_index] == 1).sum()\n",
    "    tn = (true_values[hits_index] == 0).sum()\n",
    "    \n",
    "    # Type I and II errors.\n",
    "    fixed_fprs.append((num_tnegs-tn)/(num_tnegs))\n",
    "    fixed_fnrs.append((num_tpos-tp)/(num_tpos))# Type 2 Error\n"
   ]
  },
  {
   "cell_type": "code",
   "execution_count": null,
   "metadata": {},
   "outputs": [],
   "source": [
    "# Lets start graphing:\n",
    "print(fixed_fprs)\n",
    "print(fixed_fnrs)"
   ]
  },
  {
   "cell_type": "code",
   "execution_count": 217,
   "metadata": {},
   "outputs": [
    {
     "name": "stderr",
     "output_type": "stream",
     "text": [
      "100%|██████████| 100/100 [00:00<00:00, 855980.41it/s]\n",
      "/var/folders/_c/l7slpvfj7f1f3xrbzl_7c9440000gn/T/ipykernel_89118/821361584.py:17: RuntimeWarning: invalid value encountered in divide\n",
      "  numerical_errors = (path_hyp_counts[:,0]) / (path_hyp_counts).sum(axis=1)\n"
     ]
    },
    {
     "data": {
      "image/png": "[encoded data removed]",
      "text/plain": [
       "<Figure size 640x480 with 1 Axes>"
      ]
     },
     "metadata": {},
     "output_type": "display_data"
    }
   ],
   "source": [
    "# Graphy Graph\n",
    "\n",
    "#P(error | path, \\Deleta)\n",
    "tperror = np.zeros(len(samp_rates))\n",
    "bloop = []\n",
    "numerical_errors = []\n",
    "# For Now we will focus on Type I error  because H1 should always be preferred. \n",
    "for i in tqdm(np.arange(len(samp_rates))):\n",
    "    sr = samp_rates[i]\n",
    "    #num = true_p1s[i][0,0] if true_p0s[i][0,0] > true_p1s[i][0,0] else true_p0s[i][0,0]\n",
    "    num = true_p0s[i][0,0] \n",
    "    denum = true_p0s[i][0,0] + true_p1s[i][0,0]\n",
    "    tperror[i] = num/denum\n",
    "\n",
    "\n",
    "# Get the Numerical Erros\n",
    "numerical_errors = (path_hyp_counts[:,0]) / (path_hyp_counts).sum(axis=1)\n",
    "\n",
    "plt.plot(samp_rates, numerical_errors,color='green')\n",
    "plt.plot(samp_rates, tperror, color='orange')\n",
    "plt.xscale('log',base=2)\n",
    "#plt.ylim((0,1))\n",
    "plt.show()\n"
   ]
  },
  {
   "cell_type": "code",
   "execution_count": 52,
   "metadata": {},
   "outputs": [
    {
     "data": {
      "text/plain": [
       "array([0.41176471, 0.29126214, 0.36538462, 0.36538462, 0.45714286,\n",
       "       0.33018868, 0.31775701, 0.33333333, 0.2293578 , 0.44954128,\n",
       "       0.41818182, 0.36936937, 0.44642857, 0.30088496, 0.42105263,\n",
       "       0.35652174, 0.46086957, 0.28448276, 0.34188034, 0.30508475,\n",
       "       0.31092437, 0.375     , 0.33884298, 0.27868852, 0.38211382,\n",
       "       0.33870968, 0.384     , 0.37301587, 0.27559055, 0.33858268,\n",
       "       0.30232558, 0.39534884, 0.30769231, 0.41984733, 0.44360902,\n",
       "       0.47761194, 0.39259259, 0.34558824, 0.37956204, 0.3115942 ,\n",
       "       0.25179856, 0.37142857, 0.39007092, 0.4084507 , 0.35664336,\n",
       "       0.33333333, 0.27586207, 0.25342466, 0.39864865, 0.32214765,\n",
       "       0.46      , 0.34437086, 0.36842105, 0.32026144, 0.32467532,\n",
       "       0.29487179, 0.44585987, 0.39873418, 0.30188679, 0.35      ,\n",
       "       0.37654321, 0.3803681 , 0.29268293, 0.37575758, 0.37125749,\n",
       "       0.33333333, 0.34319527, 0.34502924, 0.29069767, 0.41618497,\n",
       "       0.41142857, 0.42613636, 0.36158192, 0.27932961, 0.41111111,\n",
       "       0.39779006, 0.3715847 , 0.36413043, 0.37096774, 0.3368984 ,\n",
       "       0.44680851, 0.36842105, 0.2513089 , 0.39378238, 0.46391753,\n",
       "       0.34183673, 0.43654822, 0.38693467, 0.355     , 0.37128713,\n",
       "       0.33004926, 0.36585366, 0.33333333, 0.375     , 0.35238095,\n",
       "       0.36492891, 0.36150235, 0.34883721, 0.36111111, 0.30733945,\n",
       "       0.34545455, 0.28506787, 0.40358744, 0.39555556, 0.3215859 ,\n",
       "       0.39473684, 0.34782609, 0.31465517, 0.33476395, 0.35319149,\n",
       "       0.40084388, 0.30543933, 0.39834025, 0.38683128, 0.33877551,\n",
       "       0.34552846, 0.33064516, 0.344     , 0.30952381, 0.32283465,\n",
       "       0.3515625 , 0.32170543, 0.36923077, 0.37022901, 0.42424242,\n",
       "       0.34586466, 0.33208955, 0.35555556, 0.37132353, 0.32481752,\n",
       "       0.33333333, 0.31294964, 0.36654804, 0.40282686, 0.35438596,\n",
       "       0.33449477, 0.30449827, 0.28424658, 0.34353741, 0.35810811,\n",
       "       0.40268456, 0.34      , 0.39273927, 0.38032787, 0.37459283,\n",
       "       0.39032258, 0.33333333, 0.37142857, 0.3533123 , 0.346875  ,\n",
       "       0.32298137, 0.37538462, 0.41590214, 0.36170213, 0.37650602,\n",
       "       0.33532934, 0.34421365, 0.32058824, 0.39766082, 0.36231884,\n",
       "       0.31034483, 0.38857143, 0.35127479, 0.34366197, 0.35097493,\n",
       "       0.37396122, 0.34615385, 0.32970027, 0.35501355, 0.32707775,\n",
       "       0.328     , 0.35185185, 0.35958005, 0.31510417, 0.33850129,\n",
       "       0.34871795, 0.36386768, 0.39141414, 0.33333333, 0.37562189,\n",
       "       0.3654321 , 0.36519608, 0.34549878, 0.30843373, 0.38277512,\n",
       "       0.36904762, 0.3490566 , 0.37470726, 0.34338747, 0.34872979,\n",
       "       0.3180778 , 0.32426304, 0.34684685, 0.29977629, 0.31263858,\n",
       "       0.37885463, 0.36681223, 0.29718004, 0.31397849, 0.35042735,\n",
       "       0.35031847, 0.30882353, 0.32359081, 0.29399586, 0.35112936,\n",
       "       0.33265306, 0.31578947, 0.34939759, 0.34661355, 0.35177866,\n",
       "       0.37524558, 0.3625731 , 0.34816248, 0.3646833 , 0.378327  ,\n",
       "       0.34716981, 0.37640449, 0.34386617, 0.37084871, 0.33150183,\n",
       "       0.34972678, 0.32851986, 0.35304659, 0.35346359, 0.34038801,\n",
       "       0.36363636, 0.37673611, 0.37241379, 0.31282051, 0.37351443,\n",
       "       0.36026936, 0.35117057, 0.36484245, 0.36184211, 0.33823529,\n",
       "       0.34035656, 0.36070853, 0.37220447, 0.36349206, 0.31761006,\n",
       "       0.37850467, 0.36068111, 0.3696319 , 0.38414634, 0.32878788,\n",
       "       0.38288288, 0.37014925, 0.34268833, 0.39060206, 0.37026239,\n",
       "       0.37950938, 0.3543759 , 0.36894587, 0.37094499, 0.35294118,\n",
       "       0.3783032 , 0.33701657, 0.37585734, 0.3763587 , 0.36657682,\n",
       "       0.39223561, 0.36569149, 0.36279683, 0.36173001, 0.36540962,\n",
       "       0.38610039, 0.39591315, 0.36628644, 0.37987421, 0.3732834 ,\n",
       "       0.38166047, 0.37223587, 0.37560976, 0.37772397, 0.37454982,\n",
       "       0.39354067, 0.39501779, 0.39294118, 0.37456243, 0.36689815,\n",
       "       0.40298507, 0.39749431, 0.37868481, 0.38132733, 0.37681159,\n",
       "       0.36353591, 0.37677985, 0.39258451, 0.39891892, 0.38370847,\n",
       "       0.37300744, 0.37632135, 0.38155136, 0.36863967, 0.37849018,\n",
       "       0.39344262, 0.37423935, 0.37575758, 0.393     , 0.3814741 ,\n",
       "       0.382643  , 0.39648438, 0.38581147, 0.41097209, 0.38122605,\n",
       "       0.38672986, 0.3745283 , 0.38281979, 0.38625812, 0.375     ,\n",
       "       0.38792315, 0.4       , 0.39783978, 0.39269813, 0.40655447,\n",
       "       0.39559471, 0.39581517, 0.40242845, 0.38250429, 0.41005968,\n",
       "       0.40373198, 0.39564124, 0.39666667, 0.38359569, 0.3980344 ,\n",
       "       0.39495114, 0.3951417 , 0.392     , 0.38504375, 0.4       ,\n",
       "       0.3836478 , 0.40217391, 0.39351852, 0.39953988, 0.40777439,\n",
       "       0.39352897, 0.41062079, 0.397474  , 0.40398818, 0.4108584 ,\n",
       "       0.39971035, 0.41654676, 0.40785714, 0.41234918, 0.40803383,\n",
       "       0.40546218, 0.40959666, 0.41769547, 0.40395095, 0.40162272,\n",
       "       0.40698455, 0.40666667, 0.41059603, 0.40565417, 0.40992167,\n",
       "       0.40349741, 0.41607717, 0.41225271, 0.41798607, 0.41860465,\n",
       "       0.42233313, 0.42229102, 0.42506143, 0.40792683, 0.4107683 ,\n",
       "       0.42136855, 0.42321429, 0.43118724, 0.42003515, 0.43114468,\n",
       "       0.43170029, 0.43142857, 0.42006803, 0.4232715 , 0.42339833,\n",
       "       0.42339833, 0.42430939, 0.42990142, 0.42236699, 0.42841765,\n",
       "       0.42613333, 0.42758985, 0.42640126, 0.42640126, 0.43561786,\n",
       "       0.43621399, 0.43679918, 0.43109541, 0.451     , 0.451     ,\n",
       "       0.43041109, 0.43697891, 0.43856241, 0.43856241, 0.44396344,\n",
       "       0.44761905, 0.44507308, 0.44237051, 0.44237051, 0.44064665,\n",
       "       0.44627343, 0.45067873, 0.45067873, 0.45120859, 0.44552702,\n",
       "       0.44552702, 0.44960561, 0.4425661 , 0.45263609, 0.45263609,\n",
       "       0.44934294, 0.45515507, 0.45515507, 0.44780447, 0.44635545,\n",
       "       0.44635545, 0.45506073, 0.452     , 0.452     , 0.45770751,\n",
       "       0.45770751, 0.45372901, 0.46489198, 0.46489198, 0.4632381 ,\n",
       "       0.46388262, 0.46388262, 0.45059435, 0.45059435, 0.46681335,\n",
       "       0.46362649, 0.46362649, 0.47035714, 0.47035714, 0.46863989,\n",
       "       0.46863989, 0.46905424, 0.47325103, 0.47325103, 0.4699121 ,\n",
       "       0.4699121 , 0.472     , 0.472     , 0.46927374, 0.46927374,\n",
       "       0.47085492, 0.47085492, 0.47989789, 0.47989789, 0.47768699,\n",
       "       0.47768699, 0.48220365, 0.48220365, 0.47973179, 0.47973179,\n",
       "       0.48484848, 0.48484848, 0.48272808, 0.48272808, 0.49099361,\n",
       "       0.49099361, 0.48571429, 0.48571429, 0.4886204 , 0.4886204 ,\n",
       "       0.48881524, 0.48881524, 0.48941368, 0.48941368, 0.48941368,\n",
       "       0.496     , 0.496     , 0.49423782, 0.49423782, 0.49832862,\n",
       "       0.49832862, 0.49832862, 0.49747602, 0.49747602, 0.49678058,\n",
       "       0.49678058, 0.49678058, 0.49902865, 0.49902865, 0.5002381 ,\n",
       "       0.5002381 , 0.5002381 , 0.50116659, 0.50116659, 0.50116659,\n",
       "       0.504     , 0.504     , 0.50425246, 0.50425246, 0.50425246,\n",
       "       0.50690033, 0.50690033, 0.50690033, 0.50889222, 0.50889222,\n",
       "       0.50889222, 0.5097423 , 0.5097423 , 0.5097423 , 0.51064701,\n",
       "       0.51064701, 0.51064701, 0.51      , 0.51      , 0.51      ,\n",
       "       0.51874268, 0.51874268, 0.51874268, 0.51638095, 0.51638095,\n",
       "       0.51638095, 0.51234912, 0.51234912, 0.51234912, 0.51556279,\n",
       "       0.51556279, 0.51556279, 0.51556279, 0.52343199, 0.52343199,\n",
       "       0.52343199, 0.52151552, 0.52151552, 0.52151552, 0.52151552,\n",
       "       0.5265    , 0.5265    , 0.5265    , 0.5265    , 0.52517403,\n",
       "       0.52517403, 0.52517403, 0.52576996, 0.52576996, 0.52576996,\n",
       "       0.52576996, 0.5258266 , 0.5258266 , 0.5258266 , 0.5258266 ,\n",
       "       0.52952465, 0.52952465, 0.52952465, 0.52952465, 0.52952465,\n",
       "       0.53357143, 0.53357143, 0.53357143, 0.53357143, 0.5341066 ,\n",
       "       0.5341066 , 0.5341066 , 0.5341066 , 0.53693333, 0.53693333,\n",
       "       0.53693333, 0.53693333, 0.53693333, 0.53921317, 0.53921317,\n",
       "       0.53921317, 0.53921317, 0.53921317, 0.5385663 , 0.5385663 ,\n",
       "       0.5385663 , 0.5385663 , 0.5385663 , 0.54035714, 0.54035714,\n",
       "       0.54035714, 0.54035714, 0.54035714, 0.54274286, 0.54274286,\n",
       "       0.54274286, 0.54274286, 0.54274286, 0.54419012, 0.54419012,\n",
       "       0.54419012, 0.54419012, 0.54419012, 0.54419012, 0.54714016,\n",
       "       0.54714016, 0.54714016, 0.54714016, 0.54714016, 0.54714016,\n",
       "       0.548     , 0.548     , 0.548     , 0.548     , 0.548     ,\n",
       "       0.548     , 0.55057143, 0.55057143, 0.55057143, 0.55057143,\n",
       "       0.55057143, 0.55057143, 0.55206731, 0.55206731, 0.55206731,\n",
       "       0.55206731, 0.55206731, 0.55206731, 0.55206731, 0.55446987,\n",
       "       0.55446987, 0.55446987, 0.55446987, 0.55446987, 0.55446987,\n",
       "       0.55446987, 0.5559333 , 0.5559333 , 0.5559333 , 0.5559333 ,\n",
       "       0.5559333 , 0.5559333 , 0.5559333 , 0.55790035, 0.55790035,\n",
       "       0.55790035, 0.55790035, 0.55790035, 0.55790035, 0.55790035,\n",
       "       0.55790035, 0.56053139, 0.56053139, 0.56053139, 0.56053139,\n",
       "       0.56053139, 0.56053139, 0.56053139, 0.56053139, 0.56053139,\n",
       "       0.56262916, 0.56262916, 0.56262916, 0.56262916, 0.56262916,\n",
       "       0.56262916, 0.56262916, 0.56262916, 0.56262916, 0.56595481,\n",
       "       0.56595481, 0.56595481, 0.56595481, 0.56595481, 0.56595481,\n",
       "       0.56595481, 0.56595481, 0.56595481, 0.56751043, 0.56751043,\n",
       "       0.56751043, 0.56751043, 0.56751043, 0.56751043, 0.56751043,\n",
       "       0.56751043, 0.56751043, 0.56751043, 0.56751043, 0.5698722 ,\n",
       "       0.5698722 , 0.5698722 , 0.5698722 , 0.5698722 , 0.5698722 ,\n",
       "       0.5698722 , 0.5698722 , 0.5698722 , 0.5698722 , 0.5698722 ,\n",
       "       0.57192515, 0.57192515, 0.57192515, 0.57192515, 0.57192515,\n",
       "       0.57192515, 0.57192515, 0.57192515, 0.57192515, 0.57192515,\n",
       "       0.57192515, 0.57192515, 0.57192515, 0.57390186, 0.57390186,\n",
       "       0.57390186, 0.57390186, 0.57390186, 0.57390186, 0.57390186,\n",
       "       0.57390186, 0.57390186, 0.57390186, 0.57390186, 0.57390186,\n",
       "       0.57390186, 0.57390186, 0.57527046, 0.57527046, 0.57527046,\n",
       "       0.57527046, 0.57527046, 0.57527046, 0.57527046, 0.57527046,\n",
       "       0.57527046, 0.57527046, 0.57527046, 0.57527046, 0.57527046,\n",
       "       0.57527046, 0.57527046, 0.57829478, 0.57829478, 0.57829478,\n",
       "       0.57829478, 0.57829478, 0.57829478, 0.57829478, 0.57829478,\n",
       "       0.57829478, 0.57829478, 0.57829478, 0.57829478, 0.57829478,\n",
       "       0.57829478, 0.57829478, 0.57829478, 0.57829478, 0.57829478,\n",
       "       0.58040739, 0.58040739, 0.58040739, 0.58040739, 0.58040739,\n",
       "       0.58040739, 0.58040739, 0.58040739, 0.58040739, 0.58040739,\n",
       "       0.58040739, 0.58040739, 0.58040739, 0.58040739, 0.58040739,\n",
       "       0.58040739, 0.58040739, 0.58040739, 0.58040739, 0.58040739,\n",
       "       0.58298217, 0.58298217, 0.58298217, 0.58298217, 0.58298217,\n",
       "       0.58298217, 0.58298217, 0.58298217, 0.58298217, 0.58298217,\n",
       "       0.58298217, 0.58298217, 0.58298217, 0.58298217, 0.58298217,\n",
       "       0.58298217, 0.58298217, 0.58298217, 0.58298217, 0.58298217,\n",
       "       0.58298217, 0.58298217, 0.58298217, 0.58298217, 0.58504114,\n",
       "       0.58504114, 0.58504114, 0.58504114, 0.58504114, 0.58504114,\n",
       "       0.58504114, 0.58504114, 0.58504114, 0.58504114, 0.58504114,\n",
       "       0.58504114, 0.58504114, 0.58504114, 0.58504114, 0.58504114,\n",
       "       0.58504114, 0.58504114, 0.58504114, 0.58504114, 0.58504114,\n",
       "       0.58504114, 0.58504114, 0.58504114, 0.58504114, 0.58504114,\n",
       "       0.58504114, 0.58504114, 0.58504114, 0.58729252, 0.58729252,\n",
       "       0.58729252, 0.58729252, 0.58729252, 0.58729252, 0.58729252,\n",
       "       0.58729252, 0.58729252, 0.58729252, 0.58729252, 0.58729252,\n",
       "       0.58729252, 0.58729252, 0.58729252, 0.58729252, 0.58729252,\n",
       "       0.58729252, 0.58729252, 0.58729252, 0.58729252, 0.58729252,\n",
       "       0.58729252, 0.58729252, 0.58729252, 0.58729252, 0.58729252,\n",
       "       0.58729252, 0.58729252, 0.58729252, 0.58729252, 0.58729252,\n",
       "       0.58729252, 0.58729252, 0.58729252, 0.58729252, 0.58729252,\n",
       "       0.58729252, 0.58974945, 0.58974945, 0.58974945, 0.58974945,\n",
       "       0.58974945, 0.58974945, 0.58974945, 0.58974945, 0.58974945,\n",
       "       0.58974945, 0.58974945, 0.58974945, 0.58974945, 0.58974945,\n",
       "       0.58974945, 0.58974945, 0.58974945, 0.58974945, 0.58974945,\n",
       "       0.58974945, 0.58974945, 0.58974945, 0.58974945, 0.58974945,\n",
       "       0.58974945, 0.58974945, 0.58974945, 0.58974945, 0.58974945,\n",
       "       0.58974945, 0.58974945, 0.58974945, 0.58974945, 0.58974945,\n",
       "       0.58974945, 0.58974945, 0.58974945, 0.58974945, 0.58974945,\n",
       "       0.58974945, 0.58974945, 0.58974945, 0.58974945, 0.58974945,\n",
       "       0.58974945, 0.58974945, 0.58974945, 0.58974945, 0.58974945,\n",
       "       0.58974945, 0.58974945, 0.58974945, 0.58974945, 0.59222261,\n",
       "       0.59222261, 0.59222261, 0.59222261, 0.59222261, 0.59222261,\n",
       "       0.59222261, 0.59222261, 0.59222261, 0.59222261, 0.59222261,\n",
       "       0.59222261, 0.59222261, 0.59222261, 0.59222261, 0.59222261,\n",
       "       0.59222261, 0.59222261, 0.59222261, 0.59222261, 0.59222261,\n",
       "       0.59222261, 0.59222261, 0.59222261, 0.59222261, 0.59222261,\n",
       "       0.59222261, 0.59222261, 0.59222261, 0.59222261, 0.59222261,\n",
       "       0.59222261, 0.59222261, 0.59222261, 0.59222261, 0.59222261,\n",
       "       0.59222261, 0.59222261, 0.59222261, 0.59222261, 0.59222261,\n",
       "       0.59222261, 0.59222261, 0.59222261, 0.59222261, 0.59222261,\n",
       "       0.59222261, 0.59222261, 0.59222261, 0.59222261, 0.59222261,\n",
       "       0.59222261, 0.59222261, 0.59222261, 0.59222261, 0.59222261,\n",
       "       0.59222261, 0.59222261, 0.59222261, 0.59222261, 0.59222261,\n",
       "       0.59222261, 0.59222261, 0.59222261, 0.59222261, 0.59222261,\n",
       "       0.59222261, 0.59222261, 0.59222261, 0.59222261, 0.59222261,\n",
       "       0.59222261, 0.59222261, 0.59222261, 0.59222261, 0.59222261,\n",
       "       0.59222261, 0.59222261, 0.59222261, 0.59222261, 0.59222261,\n",
       "       0.59222261, 0.59222261, 0.59222261, 0.59222261, 0.59222261,\n",
       "       0.59222261, 0.59222261, 0.59222261, 0.59222261, 0.59222261])"
      ]
     },
     "execution_count": 52,
     "metadata": {},
     "output_type": "execute_result"
    }
   ],
   "source": [
    "path_hyp_counts[:,0]/totpath_hyp_counts[:,0]"
   ]
  },
  {
   "cell_type": "code",
   "execution_count": 61,
   "metadata": {},
   "outputs": [
    {
     "data": {
      "image/png": "[encoded data removed]",
      "text/plain": [
       "<Figure size 640x480 with 1 Axes>"
      ]
     },
     "metadata": {},
     "output_type": "display_data"
    }
   ],
   "source": [
    "# See If Probabilities Change:\n",
    "p00_0s = np.array([p[0,0] for p in true_p0s])\n",
    "p00_1s = np.array([p[0,0] for p in true_p1s])\n",
    "\n",
    "plt.plot(samp_rates, p00_0s, label=\"H_0\")\n",
    "plt.plot(samp_rates, p00_1s, label=\"H_1\")\n",
    "plt.plot(samp_rates, p00_0s/(p00_0s+p00_1s), label=\"H_1\")\n",
    "plt.legend()\n",
    "plt.title(\"P(0,0) per Hypothesis\")\n",
    "plt.xscale('log',base=2)\n",
    "plt.show()\n",
    "# Clearym in our particular case H1 is superior than Hypothesis 0 for every single sampling rate. "
   ]
  },
  {
   "cell_type": "code",
   "execution_count": null,
   "metadata": {},
   "outputs": [],
   "source": [
    "for i,j in enumerate(samp_rates):\n",
    "    clear_output(wait=True)\n",
    "    print(fixed_fprs[i])\n",
    "    print(fixed_guesses[i])\n",
    "    print(true_p0s[i])\n",
    "    print(true_p1s[i])\n",
    "    sleep(0.1)"
   ]
  },
  {
   "attachments": {},
   "cell_type": "markdown",
   "metadata": {},
   "source": [
    "## General Path Error Probability"
   ]
  },
  {
   "cell_type": "code",
   "execution_count": null,
   "metadata": {},
   "outputs": [],
   "source": [
    "########################################\n",
    "# Process the Results\n",
    "########################################\n",
    "# Number of true positive and negatives\n",
    "num_tnegs = np.sum(true_values == 0)#TN + FP\n",
    "num_tpos = np.sum(true_values == 1)#TP + FN\n",
    "\n",
    "# Our main stars here\n",
    "fprs = [] # False Positive Rates\n",
    "fnrs = [] # False Negative Rates\n",
    "\n",
    "# At this point we have our guesses saved\n",
    "# Loop through all Sampling Rates we have used\n",
    "for srIdx, cur_samp_rate in enumerate(samp_rates):\n",
    "    # For Plotting ROC Curve\n",
    "    guess = guesses[srIdx]\n",
    "    # Take likelihoods for this sampling rate\n",
    "    l0c = l0cs[srIdx]\n",
    "    l1c = l1cs[srIdx]\n",
    "\n",
    "    # Hits and True Probabilities\n",
    "    hits_index = (true_values == guess)\n",
    "    tp = (true_values[hits_index] == 1).sum()\n",
    "    tn = (true_values[hits_index] == 0).sum()\n",
    "\n",
    "    # Correct\n",
    "    sensitivities.append(tp/num_tpos)\n",
    "    invspecificities.append(1-(tn/num_tnegs))\n",
    "\n",
    "    # False Positive and Negative Rates\n",
    "    fprs.append((num_tnegs-tn)/(num_tnegs))\n",
    "    fnrs.append((num_tpos-tp)/(num_tpos))# Type 2 Error\n",
    "\n",
    "    \n",
    "    #This section for H0 case\n",
    "    # I dont knwo why Ernest focuses on when we get it right\n",
    "    # idxLocs = (true_values == 0)\n",
    "    # lInterest = l0c[idxLocs]# Just get the one of interest\n",
    "    lInterest = l0c\n",
    "\n",
    "    l0s.append(np.mean(lInterest))\n",
    "    v0s.append(np.std(lInterest))\n",
    "    mi0s.append(np.min(lInterest))\n",
    "    ma0s.append(np.max(lInterest))\n",
    "    \n",
    "    #This section for H1 case\n",
    "    # # Again same as above\n",
    "    # idxLocs = (true_values == 1)\n",
    "    # lInterest = l1c[idxLocs] # Get Likelihood 1\n",
    "    lInterest = l1c\n",
    "\n",
    "    l1s.append(np.mean(lInterest))\n",
    "    v1s.append(np.std(lInterest))\n",
    "\n",
    "    mi1s.append(np.min(lInterest))\n",
    "    ma1s.append(np.max(lInterest))\n",
    "\n",
    "    num_hits = (true_values == guess).sum()\n",
    "    hit_rates.append(num_hits/args.detection_guesses)\n"
   ]
  },
  {
   "attachments": {},
   "cell_type": "markdown",
   "metadata": {},
   "source": [
    "# Policy Gradient Algorithms\n",
    "In this section we will implement policy gradient algorithms, and if necessary we will do PPO. "
   ]
  },
  {
   "attachments": {},
   "cell_type": "markdown",
   "metadata": {},
   "source": [
    "There is nothing episodic about our run and environment. We may think of our environment as a simple bandit environmen in the sense that there is only a single step. \n",
    "However, Policy Gradients may still work in these cases. \n",
    "\n",
    "An extra bit of caveat that we must mention is that we work with actions in continuous space. In these cases I have read that it Bayesian Networks are used. More specficically \n",
    "we could draw actions from teh gaussian distribution. In this caswe would learn an appropriate mean and standard deviation. "
   ]
  },
  {
   "cell_type": "code",
   "execution_count": 29,
   "metadata": {},
   "outputs": [],
   "source": [
    "import torch "
   ]
  },
  {
   "cell_type": "code",
   "execution_count": null,
   "metadata": {},
   "outputs": [],
   "source": []
  },
  {
   "attachments": {},
   "cell_type": "markdown",
   "metadata": {},
   "source": [
    "## More Generally:"
   ]
  },
  {
   "attachments": {},
   "cell_type": "markdown",
   "metadata": {},
   "source": [
    "\n",
    "$$\n",
    "\\begin{align}\n",
    "P(\\epsilon|\\rho,\\Delta) &= \\sum_i \\sum_j P(\\hat{H} = i | \\rho, \\Delta) P(H^* = j | \\rho, \\Delta)\\\\\n",
    "    &= \\sum_j P(H^* = j | \\rho, \\Delta)\\\\\n",
    "    &= \\sum_j P(H^* = j | \\rho, \\Delta)\\\\\n",
    "\\end{align}\n",
    "$$"
   ]
  },
  {
   "cell_type": "code",
   "execution_count": null,
   "metadata": {},
   "outputs": [],
   "source": []
  },
  {
   "attachments": {},
   "cell_type": "markdown",
   "metadata": {},
   "source": [
    "We may then say that "
   ]
  },
  {
   "cell_type": "code",
   "execution_count": null,
   "metadata": {},
   "outputs": [],
   "source": []
  },
  {
   "attachments": {},
   "cell_type": "markdown",
   "metadata": {},
   "source": [
    "In This file we will"
   ]
  }
 ],
 "metadata": {
  "kernelspec": {
   "display_name": "Python 3",
   "language": "python",
   "name": "python3"
  },
  "language_info": {
   "codemirror_mode": {
    "name": "ipython",
    "version": 3
   },
   "file_extension": ".py",
   "mimetype": "text/x-python",
   "name": "python",
   "nbconvert_exporter": "python",
   "pygments_lexer": "ipython3",
   "version": "3.9.15"
  },
  "orig_nbformat": 4
 },
 "nbformat": 4,
 "nbformat_minor": 2
}
