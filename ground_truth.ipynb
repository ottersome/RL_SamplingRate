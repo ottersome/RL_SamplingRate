{
 "cells": [
  {
   "attachments": {},
   "cell_type": "markdown",
   "metadata": {},
   "source": [
    "# Introduction\n",
    "\n",
    "This file will show us the ground truth that Ernest Provided in Matlab. Hopefully we can automate it a bit futher than this:"
   ]
  },
  {
   "attachments": {},
   "cell_type": "markdown",
   "metadata": {},
   "source": [
    "Previously we had mentioned about the ability for us to work with expectation across paths. This is a general case of the approach that Ernest\n",
    "showed us in the previous meeting. \n",
    "Let us begin with:\n",
    "$$\n",
    "\\begin{align*}\n",
    "P(\\text{error} | \\Delta) &= \\sum_{\\rho\\in \\mathcal{P}} P(\\epsilon , \\rho | \\Delta)\\\\\n",
    "    &=\\sum_{\\rho\\in \\mathcal{P}} P(\\epsilon | \\rho , \\Delta)P(\\rho | \\Delta)\\\\\n",
    "    &=\\sum_{\\rho\\in \\mathcal{P}} P(\\epsilon | \\rho , \\Delta)P_\\Delta(\\rho)\\\\\n",
    "    &=\\mathbb{E}\\left[P(\\epsilon | \\rho , \\Delta)\\right]\\\\\n",
    "\\end{align*}\n",
    "$$"
   ]
  },
  {
   "attachments": {},
   "cell_type": "markdown",
   "metadata": {},
   "source": [
    "Alas we obtain an expection of error $\\epsilon$ over all the possible paths $\\rho$. \n",
    "\n",
    "Let's expand each term for binary hypothesis testing as follows:\n",
    "$$\n",
    "\\begin{align}\n",
    "P(\\epsilon | \\rho, \\Delta) &= P(\\epsilon_{I} | \\rho, \\Delta) + P(\\epsilon_{II} | \\rho, \\Delta)\\\\\n",
    "    &= P(\\hat{H} = 0 , H^*=1| \\rho, \\Delta) + P(\\hat{H} = 1 , H^*=0| \\rho, \\Delta)\\\\\n",
    "\\end{align}\n",
    "$$"
   ]
  },
  {
   "attachments": {},
   "cell_type": "markdown",
   "metadata": {},
   "source": [
    "A critical observation to be made here is that $\\hat{H}|\\rho \\perp H^*|\\rho$. This is because at the moment that we have observed our path $\\rho$ the decision function collapases and becomes completely determined and independent of the hypothesis. \n",
    "Furthermore, the probability of selecting a hypothesis is such that $P(\\hat{H}=i) \\in \\{0,1\\}$. We thus end up with \n",
    "$$\n",
    "\\begin{align}\n",
    "P(\\epsilon|\\rho,\\Delta) &= P(\\hat{H} = 0 | \\rho, \\Delta) P(H^* = 1 | \\rho, \\Delta) + P(\\hat{H} = 1 | \\rho, \\Delta) P(H^* = 0 | \\rho, \\Delta)\\\\\n",
    "    &= P(\\hat{H} = 0 | \\rho, \\Delta) P(H^* = 1 | \\rho, \\Delta) + P(\\hat{H} = 1 | \\rho, \\Delta) P(H^* = 0 | \\rho, \\Delta)\\\\\n",
    "    &= P(\\hat{H} = i | \\rho, \\Delta) P(H^* = j | \\rho, \\Delta) \\\\\n",
    "    &= P(H^* = j | \\rho, \\Delta) \\\\\n",
    "\\end{align}\n",
    "$$\n",
    "Where only one term will be non-zero, the one where $P(\\hat{H}|\\rho, \\Delta) = 1$\n",
    "Where $j$ must be such $j\\neq i$"
   ]
  },
  {
   "attachments": {},
   "cell_type": "markdown",
   "metadata": {},
   "source": [
    "\n",
    "\n",
    "WIth Ernest's Derivation we have:\n",
    "\n",
    "$$\n",
    "\\begin{align*}\n",
    "P(\\epsilon| \\rho, \\Delta) &= P(H^* = j | \\rho, \\Delta) =\\frac{P(H^*=j, \\rho|\\Delta)}{P(\\rho | \\Delta)}\\\\\n",
    "    &=\\frac{P(\\rho|H^*=j,\\Delta)P(H^*=j|\\Delta)}{P(\\rho | \\Delta)}\\\\\n",
    "    &=\\frac{P^{(j)}_\\Delta(\\rho)\\frac{1}{|\\mathcal{H}|}}{P(\\rho | \\Delta)}\n",
    "\\end{align*}\n",
    "$$\n",
    "\n",
    "Notice that the only stochasticity in this system comes from the prior for the hypotheses $\\{\\mathcal{H}_i\\}^N$\n",
    "\n",
    "**ACTUALLY** I think this is not quite correct. The probability of observing a path $\\rho$ changes as the chain evolves."
   ]
  },
  {
   "attachments": {},
   "cell_type": "markdown",
   "metadata": {},
   "source": [
    "Then for the numerator\n",
    "\n",
    "$$\n",
    "\\begin{align*}\n",
    "P(H^* = j, \\rho| \\Delta) &= P(\\rho | H^* = j, \\Delta)\\frac{1}{|\\mathcal{H}|}\\\\\n",
    "    &= P(S_1 = 0, S_0 = 0 | H^* = j , \\Delta)\\frac{1}{|\\mathcal{H}|}\\\\\n",
    "    &= P(S_1 = 0| S_0 = 0 , H^* = j , \\Delta)P(S_0 = 0 | H^* = j, \\Delta)\\frac{1}{|\\mathcal{H}|}\\\\\n",
    "    &= P(S_1 = 0| S_0 = 0 , H^* = j , \\Delta)1\\frac{1}{|\\mathcal{H}|}\\\\\n",
    "\\end{align*}\n",
    "$$"
   ]
  },
  {
   "attachments": {},
   "cell_type": "markdown",
   "metadata": {},
   "source": [
    "Okay so we can go back to the way $\\rho$ changes as the chain evolves. For now, we can simplify the denum as :\n",
    "\n",
    "$$\n",
    "\\begin{align*}\n",
    "P(\\rho|\\Delta) &= P(S_1 = 0 , S_0 = 0 | \\Delta)\\\\\n",
    "    &= \\sum_{i\\in|\\mathcal{H}|} P(S_1 = 0, S_0 = 0 , H_i| \\Delta)\\\\\n",
    "    &= \\sum_{i\\in|\\mathcal{H}|} P(S_1 = 0, S_0 = 0|H_i,\\Delta)P(H_i|\\Delta)\\\\\n",
    "    &= \\sum_{i\\in|\\mathcal{H}|} P(S_1 = 0| S_0 = 0,H_i,\\Delta)P(S_0 = 0|H_i,\\Delta)\\frac{1}{|H_i|}\\\\\n",
    "    &= \\sum_{i\\in|\\mathcal{H}|} P(S_1 = 0| S_0 = 0,H_i,\\Delta)1\\frac{1}{|H_i|}\\\\\n",
    "\\end{align*}\n",
    "$$"
   ]
  },
  {
   "attachments": {},
   "cell_type": "markdown",
   "metadata": {},
   "source": [
    "Then In that we case for when preference is for $\\mathcal{H}_1$.\n",
    "\n",
    "$$\n",
    "P(\\epsilon | \\rho, \\Delta) = \\frac{P(S_1 = 0| S_0 = 0 , H^* = 2 , \\Delta)}{\\sum_i P(S_1 = 0| S_0 = 0,H_i,\\Delta)}\n",
    "$$\n",
    "$$\n",
    "P(\\epsilon | \\rho, \\Delta) = \\frac{P^j_\\Delta(S_1 = 0| S_0 = 0)}{\\sum P^i_\\Delta(S_1 = 0| S_0 = 0)}\n",
    "$$\n"
   ]
  },
  {
   "attachments": {},
   "cell_type": "markdown",
   "metadata": {},
   "source": [
    "\n",
    "Now here is where i am not entirely sure about my derivation. \n",
    "\n",
    "Tying it all together we have \n",
    "\n",
    "$$\n",
    "\\begin{align}\n",
    "P(\\epsilon| \\Delta) &= \\mathbb{E}\\left[P(\\epsilon|p,\\Delta)\\right]\\\\\n",
    "    &= \\mathbb{E}\\left[\\frac{P^{(j)}_\\Delta(\\rho)\\frac{1}{|\\mathcal{H}|}}{P(\\rho | \\Delta)}\\right]\n",
    "\\end{align}\n",
    "$$"
   ]
  },
  {
   "attachments": {},
   "cell_type": "markdown",
   "metadata": {},
   "source": [
    "## Lets Generalize this a bit\n",
    "\n",
    "We want to start with \n",
    "\n",
    "$$\n",
    "\\begin{align}\n",
    "P(\\epsilon | \\Rho, \\Delta) =\\frac{P^{(j)}_\\Delta(\\rho)\\frac{1}{|\\mathcal{H}|}}{P(\\rho | \\Delta)}\n",
    "\\end{align}\n",
    "$$\n",
    "\n",
    "then use this for a path $\\rho$ of $n$ states. See what is the error probability that we get for this particular path. \n",
    "From the fact that decision function collapses to deterministic once a path is observed\n",
    "\n",
    "We write"
   ]
  },
  {
   "attachments": {},
   "cell_type": "markdown",
   "metadata": {},
   "source": [
    "# Lets Test This with Code"
   ]
  },
  {
   "cell_type": "code",
   "execution_count": 3,
   "metadata": {},
   "outputs": [],
   "source": [
    "import numpy as np\n",
    "import sys\n",
    "import matplotlib.pyplot as plt\n",
    "import datetime\n",
    "import argparse\n",
    "from sklearn.metrics import roc_curve\n",
    "from math import factorial\n",
    "from scipy.linalg import expm\n",
    "import sp_sims\n",
    "from sp_sims.simulators.stochasticprocesses import *\n",
    "from sp_sims.statistics.statistics import *\n",
    "from sp_sims.estimators.algos import *\n",
    "from IPython.display import clear_output\n",
    "from sp_sims.sanitycheck.truebirthdeath import *\n",
    "#from sp_sims.utils.utils import *\n",
    "import random\n",
    "from tqdm import tqdm\n",
    "from time import sleep\n",
    "import time"
   ]
  },
  {
   "cell_type": "code",
   "execution_count": 4,
   "metadata": {},
   "outputs": [
    {
     "data": {
      "text/plain": [
       "<module 'sp_sims.statistics.statistics' from '/Users/rac716/Research/RL_RateOptimization/sp_sims/statistics/statistics.py'>"
      ]
     },
     "execution_count": 4,
     "metadata": {},
     "output_type": "execute_result"
    }
   ],
   "source": [
    "import importlib\n",
    "importlib.reload(sp_sims.simulators.stochasticprocesses)\n",
    "importlib.reload(sp_sims.statistics.statistics)"
   ]
  },
  {
   "cell_type": "code",
   "execution_count": 4,
   "metadata": {},
   "outputs": [],
   "source": [
    "%load_ext autoreload\n",
    "%autoreload 2"
   ]
  },
  {
   "attachments": {},
   "cell_type": "markdown",
   "metadata": {},
   "source": [
    "# Prepping"
   ]
  },
  {
   "cell_type": "code",
   "execution_count": 2,
   "metadata": {},
   "outputs": [],
   "source": [
    "# We may change args here:\n",
    "class Args:\n",
    "  xres = 100\n",
    "  length = 3000# Number of transitions in continuous chain \n",
    "  state_limit = 1#Inclusive\n",
    "  init_state = 0\n",
    "  num_samples =2\n",
    "  detection_guesses =10000\n",
    "args = Args()"
   ]
  },
  {
   "cell_type": "code",
   "execution_count": 10,
   "metadata": {},
   "outputs": [],
   "source": [
    "# Some Util Functions\n",
    "def take_a_guess(tape, p0, p1):\n",
    "    num = 0\n",
    "    denum = 0\n",
    "    # num = 1\n",
    "    # denum = 1\n",
    "    for i in range(len(tape)-1):\n",
    "        from_state = tape[i]\n",
    "        to_state = tape[i+1]\n",
    "        # num  *= p0[from_state,to_state]\n",
    "        # denum *= p1[from_state,to_state]\n",
    "        num += np.log(p0[from_state,to_state])\n",
    "        denum += np.log(p1[from_state,to_state])\n",
    "\n",
    "    return 0 if num > denum else 1\n",
    "def return_ls(tape, p0, p1):\n",
    "    num = 1\n",
    "    denum = 1\n",
    "    for i in range(len(tape)-1):\n",
    "        from_state = tape[i]\n",
    "        to_state = tape[i+1]\n",
    "        num  *= p0[from_state,to_state]\n",
    "        denum *= p1[from_state,to_state]\n",
    "    return num,denum\n",
    "def stats_for_single_22paths(sts,hts,samp_rate, p0s, p1s, path = [0,0]):\n",
    "    # Take all Paths \n",
    "    # This count how many i->j transitiosn per hypothesis are encountered\n",
    "    hyp_counts = np.zeros(2) # 2 For 2 number of hypothesis\n",
    "    # Dice them for sampling rates\n",
    "    for i,p in enumerate(sts):\n",
    "        idx_true_hyp = true_values[i]\n",
    "        sampled_tape = quick_sample(samp_rate, sts[i],hts[i])\n",
    "\n",
    "        count = ((tmpSampTape[:-1] == path[0]) & (tmpSampTape[1] == path[1])).sum()\n",
    "        hyp_counts[idx_true_hyp] += count\n",
    "\n",
    "    return hyp_counts\n"
   ]
  },
  {
   "cell_type": "code",
   "execution_count": 60,
   "metadata": {},
   "outputs": [],
   "source": [
    "# Some Setup \n",
    "#rates0 = {\"lam\": 2/10,\"mu\":4/10}\n",
    "#rates1 = {\"lam\": 100/10,\"mu\":120/10}\n",
    "np.random.seed(int(time.time()))\n",
    "rates0 = {\"lam\": 1,\"mu\":1.5}\n",
    "rates1 = {\"lam\": 0.9,\"mu\":1.1}\n",
    "rates = [rates0,rates1]\n",
    "samp_rates = np.logspace(-3,5,args.xres, base=2)\n",
    "tgm0 = np.array([[-rates0['lam'],rates0['lam']],[rates0['mu'],-rates0['mu']]])\n",
    "tgm1 = np.array([[-rates1['lam'],rates1['lam']],[rates1['mu'],-rates1['mu']]])\n",
    "\n",
    "\n",
    "hts, sts = ([],[])\n",
    "last_times  = []\n",
    "true_values = np.random.choice(2,args.detection_guesses)\n",
    "# Generate The Tapes\n",
    "for i in range(args.detection_guesses):\n",
    "    roe = RaceOfExponentials(args.length,rates[true_values[i]],state_limit=args.state_limit)\n",
    "    holdTimes_tape, state_tape = roe.generate_history(args.init_state)\n",
    "    hts.append(holdTimes_tape);\n",
    "    sts.append(state_tape)\n",
    "    last_times.append(np.cumsum(holdTimes_tape)[-1])\n"
   ]
  },
  {
   "cell_type": "code",
   "execution_count": 11,
   "metadata": {},
   "outputs": [],
   "source": [
    "# Preparation of True Probabilities\n",
    "true_p0s = []\n",
    "true_p1s = []\n",
    "fixed_guesses = np.ones((len(samp_rates), args.detection_guesses))\n",
    "# Crete all the *known* probability functions.\n",
    "for srIdx, cur_samp_rate in enumerate(samp_rates):\n",
    "    true_p0s.append(expm(tgm0*(1/cur_samp_rate)))\n",
    "    true_p1s.append(expm(tgm1*(1/cur_samp_rate)))"
   ]
  },
  {
   "attachments": {},
   "cell_type": "markdown",
   "metadata": {},
   "source": [
    "# Sampling of Paths"
   ]
  },
  {
   "attachments": {},
   "cell_type": "markdown",
   "metadata": {},
   "source": [
    "## For a Particular Path $(0\\to0)$"
   ]
  },
  {
   "cell_type": "code",
   "execution_count": 24,
   "metadata": {},
   "outputs": [
    {
     "name": "stderr",
     "output_type": "stream",
     "text": [
      "100%|██████████| 100/100 [00:00<00:00, 3529.07it/s]\n"
     ]
    }
   ],
   "source": [
    "# This is all we Need\n",
    "fixed_state_tape = [0,0]\n",
    "fixed_true_values= np.random.choice(2,args.detection_guesses)\n",
    "\n",
    "# Take Our Guesses\n",
    "guesses = np.zeros((len(samp_rates), args.detection_guesses))\n",
    "for i in tqdm(np.arange(args.detection_guesses)):\n",
    "    # Prepare for Decimation: First sample with the quickest rate. -> Smallest Unit of Time Interval\n",
    "    sampled_tape = fixed_state_tape # Yes, a bit hacky\n",
    "    # Go Over the \n",
    "    for srIdx, cur_samp_rate in enumerate(samp_rates):\n",
    "        # Fetch Values for Current Rate\n",
    "        true_p0 = true_p0s[srIdx]\n",
    "        true_p1 = true_p1s[srIdx]\n",
    "        true_ps = [true_p0,true_p1]\n",
    "        \n",
    "        # How many of the baseline intervals fit into the slow rate interval\n",
    "        decimateInterval = int(base_samp_rate/cur_samp_rate)\n",
    "        tmpSampTape = sampled_tape[0::decimateInterval]\n",
    "        ############################################\n",
    "        # Limit the NUmebr of Samples\n",
    "        ############################################\n",
    "        fixed_guesses[srIdx, i] = take_a_guess(sampled_tape, true_p0, true_p1)\n",
    "        l0, l1 = return_ls(sampled_tape, true_p0, true_p1) # Shall not use this as it results in very small quantities\n",
    "        # l0 = return_lr(limited_sampled_tape, true_p0, true_p1)\n",
    "        # l1 = 1\n",
    "        ###################################################################\n",
    "        # Add Per Sample\n",
    "        #l0Vcs[srIdx, i] = l0\n",
    "        #l1cs[srIdx, i] = l1"
   ]
  },
  {
   "attachments": {},
   "cell_type": "markdown",
   "metadata": {},
   "source": [
    "## For Any Path"
   ]
  },
  {
   "attachments": {},
   "cell_type": "markdown",
   "metadata": {},
   "source": [
    "## Quick Sample"
   ]
  },
  {
   "cell_type": "code",
   "execution_count": null,
   "metadata": {},
   "outputs": [],
   "source": [
    "########################################\n",
    "# Generation\n",
    "########################################\n",
    "base_samp_rate = samp_rates[-1]\n",
    "# LIkelihoods in 2D. On First Axis Sampling Rates, On Second Axis number of guesses\n",
    "# Go Over the Detection Guesses\n",
    "path_of_interest = [0,0]\n",
    "print(\"Sampling at fastest rate : \", base_samp_rate)\n",
    "#sampled_tapes = (quick_sample(base_samp_rate, sts[0],hts[0]), quick_sample(base_samp_rate, sts[1],hts[1]))\n",
    "sampled_tapes = []\n",
    "for i in tqdm(range(len(sts))):\n",
    "    sampled_tapes.append(quick_sample(base_samp_rate, sts[i],hts[i],max_samples=np.inf))\n",
    "#sampled_tapes = (simple_sample(base_samp_rate, sts[0],hts[0],max_samples=args.max_samples), simple_sample(base_samp_rate, sts[1],hts[1], max_samples=args.max_samples))\n",
    "print(\"Decimating and collecting stats...\")"
   ]
  },
  {
   "cell_type": "code",
   "execution_count": 61,
   "metadata": {},
   "outputs": [
    {
     "name": "stderr",
     "output_type": "stream",
     "text": [
      "100%|██████████| 1000/1000 [00:00<00:00, 1506.81it/s]\n"
     ]
    }
   ],
   "source": [
    "# Do Decimation here.\n",
    "l0cs = np.zeros((len(samp_rates), args.detection_guesses))\n",
    "l1cs = np.zeros((len(samp_rates), args.detection_guesses))\n",
    "guesses = np.zeros((len(samp_rates), args.detection_guesses))\n",
    "path_hyp_counts = np.zeros((len(samp_rates),2)) # 2 for number of hypothesis\n",
    "totpath_hyp_counts = np.zeros((len(samp_rates),2)) # 2 for number of hypothesis\n",
    "shortest_path =  np.inf\n",
    "for i in tqdm(np.arange(args.detection_guesses)):\n",
    "    idx_true_hyp = true_values[i]\n",
    "    # Prepare for Decimation: First sample with the quickest rate. -> Smallest Unit of Time Interval\n",
    "    # Go Over the \n",
    "    for srIdx, cur_samp_rate in enumerate(samp_rates):\n",
    "        # Fetch Values for Current Rate\n",
    "        \n",
    "        # How many of the baseline intervals fit into the slow rate interval\n",
    "        decimateInterval = int(base_samp_rate/cur_samp_rate)\n",
    "\n",
    "        displacement = 0\n",
    "        sampling_point = displacement+ (1/cur_samp_rate)\n",
    "\n",
    "        # Look For Holding Time\n",
    "        cumtimes = np.cumsum(hts[i])\n",
    "        idx_state = np.searchsorted(cumtimes,sampling_point)\n",
    "        count = sts[i][idx_state] == path_of_interest[1]\n",
    "        \n",
    "        #shortest_path = np.min([len(tmpSampTape), shortest_path])\n",
    "\n",
    "        path_hyp_counts[srIdx,idx_true_hyp] += count\n",
    "\n",
    "# Some Stats \n",
    "#print(\"Shortest Length of path is: \",shortest_path)"
   ]
  },
  {
   "attachments": {},
   "cell_type": "markdown",
   "metadata": {},
   "source": [
    "## Debugging/Stats"
   ]
  },
  {
   "cell_type": "code",
   "execution_count": 146,
   "metadata": {},
   "outputs": [
    {
     "name": "stdout",
     "output_type": "stream",
     "text": [
      "The sampled tapes for each 0 and 1 have different shapes\n",
      "(213214,)\n",
      "(1909756,)\n"
     ]
    }
   ],
   "source": [
    "print(\"The sampled tapes for each 0 and 1 have different shapes\")\n",
    "print(sampled_tapes[0].shape)\n",
    "print(sampled_tapes[1].shape)"
   ]
  },
  {
   "cell_type": "code",
   "execution_count": null,
   "metadata": {},
   "outputs": [],
   "source": [
    "# Let me see both of these\n",
    "di = int(base_samp_rate/1)\n",
    "meep0 = sampled_tapes[0][0::di]\n",
    "meep1 = sampled_tapes[1][0::di]\n",
    "plt.plot(np.linspace(0,833,833), meep0)\n",
    "count0 = ((meep0[:-1] == path_of_interest[0]) & (meep0[1:] == path_of_interest[1])).sum()\n",
    "count1 = ((meep1[:-1] == path_of_interest[0]) & (meep1[1:] == path_of_interest[1])).sum()\n",
    "print(\"Hyp0 count is: {} out of {} total transitions\".format(count0,832))\n",
    "print(\"Hyp1 count is: {} out of {} total transitions\".format(count1,832))\n",
    "plt.show()"
   ]
  },
  {
   "cell_type": "code",
   "execution_count": 120,
   "metadata": {},
   "outputs": [
    {
     "name": "stdout",
     "output_type": "stream",
     "text": [
      "This is for parameters :  {'lam': 0.1, 'mu': 0.2}\n",
      "Printing Frome:  1984\n"
     ]
    },
    {
     "data": {
      "image/png": "[encoded data removed]",
      "text/plain": [
       "<Figure size 640x480 with 1 Axes>"
      ]
     },
     "metadata": {},
     "output_type": "display_data"
    }
   ],
   "source": [
    "print(\"This is for parameters : \", rates[true_values[-1]])\n",
    "window = 5000\n",
    "init_place = int(np.random.choice(len(tmpSampTape)-window,1))\n",
    "print(\"Printing Frome: \", init_place)\n",
    "rango = tmpSampTape[init_place:init_place+window]\n",
    "plt.plot(range(len(rango)), rango)\n",
    "plt.show()"
   ]
  },
  {
   "cell_type": "code",
   "execution_count": null,
   "metadata": {},
   "outputs": [],
   "source": []
  },
  {
   "attachments": {},
   "cell_type": "markdown",
   "metadata": {},
   "source": [
    "# Data Processing"
   ]
  },
  {
   "attachments": {},
   "cell_type": "markdown",
   "metadata": {},
   "source": [
    "## Single Path Error Probability\n",
    "\n",
    "At this point we want to test the single error equation that we derived before:\n",
    "\n",
    "$$\n",
    "P(\\epsilon| \\rho, \\Delta) =\\frac{P^{(j)}_\\Delta(\\rho)\\frac{1}{|\\mathcal{H}|}}{P(\\rho | \\Delta)}\n",
    "$$\n"
   ]
  },
  {
   "cell_type": "code",
   "execution_count": 10,
   "metadata": {},
   "outputs": [],
   "source": [
    "# For A single Path\n",
    "fixed_fprs = []\n",
    "fixed_fnrs = []\n",
    "\n",
    "# For each Guess Run, what is the correct hypothesis.\n",
    "num_tnegs = np.sum(true_values == 0)#TN + FP\n",
    "num_tpos = np.sum(true_values == 1)#TP + FN\n",
    "\n",
    "for srIdx, cur_samp_rate in enumerate(samp_rates):\n",
    "    # Will be fixed for a fixed path\n",
    "    guesses = fixed_guesses[srIdx]\n",
    "\n",
    "    hits_index = (true_values == guesses)\n",
    "    tp = (true_values[hits_index] == 1).sum()\n",
    "    tn = (true_values[hits_index] == 0).sum()\n",
    "    \n",
    "    # Type I and II errors.\n",
    "    fixed_fprs.append((num_tnegs-tn)/(num_tnegs))\n",
    "    fixed_fnrs.append((num_tpos-tp)/(num_tpos))# Type 2 Error\n"
   ]
  },
  {
   "cell_type": "code",
   "execution_count": 53,
   "metadata": {},
   "outputs": [
    {
     "ename": "NameError",
     "evalue": "name 'fixed_fprs' is not defined",
     "output_type": "error",
     "traceback": [
      "\u001b[0;31m---------------------------------------------------------------------------\u001b[0m",
      "\u001b[0;31mNameError\u001b[0m                                 Traceback (most recent call last)",
      "Cell \u001b[0;32mIn[53], line 2\u001b[0m\n\u001b[1;32m      1\u001b[0m \u001b[39m# Lets start graphing:\u001b[39;00m\n\u001b[0;32m----> 2\u001b[0m \u001b[39mprint\u001b[39m(fixed_fprs)\n\u001b[1;32m      3\u001b[0m \u001b[39mprint\u001b[39m(fixed_fnrs)\n",
      "\u001b[0;31mNameError\u001b[0m: name 'fixed_fprs' is not defined"
     ]
    }
   ],
   "source": [
    "# Lets start graphing:\n",
    "print(fixed_fprs)\n",
    "print(fixed_fnrs)"
   ]
  },
  {
   "cell_type": "code",
   "execution_count": 65,
   "metadata": {},
   "outputs": [
    {
     "name": "stderr",
     "output_type": "stream",
     "text": [
      "100%|██████████| 100/100 [00:00<00:00, 629775.38it/s]\n"
     ]
    },
    {
     "data": {
      "image/png": "[encoded data removed]",
      "text/plain": [
       "<Figure size 640x480 with 1 Axes>"
      ]
     },
     "metadata": {},
     "output_type": "display_data"
    }
   ],
   "source": [
    "# Graphy Graph\n",
    "\n",
    "#P(error | path, \\Deleta)\n",
    "tperror = np.zeros(len(samp_rates))\n",
    "bloop = []\n",
    "numerical_errors = []\n",
    "# For Now we will focus on Type I error  because H1 should always be preferred. \n",
    "for i in tqdm(np.arange(len(samp_rates))):\n",
    "    sr = samp_rates[i]\n",
    "    num = true_p1s[i][0,0] if true_p0s[i][0,0] > true_p1s[i][0,0] else true_p0s[i][0,0]\n",
    "    num = true_p0s[i][0,0] \n",
    "    denum = true_p0s[i][0,0] + true_p1s[i][0,0]\n",
    "    tperror[i] = num/denum\n",
    "\n",
    "\n",
    "# Get the Numerical Erros\n",
    "numerical_errors = (path_hyp_counts[:,0]) / (path_hyp_counts).sum(axis=1)\n",
    "\n",
    "plt.plot(samp_rates, numerical_errors,color='green', label='Numerical')\n",
    "plt.plot(samp_rates, tperror, color='orange', label='Theoretical Error')\n",
    "plt.xscale('log',base=2)\n",
    "plt.ylabel('Probability of Error')\n",
    "plt.xlabel('Sampling Rate')\n",
    "plt.legend()\n",
    "plt.show()"
   ]
  },
  {
   "attachments": {},
   "cell_type": "markdown",
   "metadata": {},
   "source": [
    "# > 2 Step Paths:\n",
    "\n",
    "This is for us to compute\n",
    "\n",
    "$$\n",
    "P(\\epsilon| \\Delta) \n",
    "    = \\mathbb{E}\\left[\\frac{P^{(j)}_\\Delta(\\rho)\\frac{1}{|\\mathcal{H}|}}{P(\\rho | \\Delta)}\\right]\n",
    "$$"
   ]
  },
  {
   "cell_type": "code",
   "execution_count": 5,
   "metadata": {},
   "outputs": [],
   "source": [
    "# We may change args here:\n",
    "class Args:\n",
    "  xres = 100\n",
    "  length = 1000# Number of transitions in continuous chain \n",
    "  state_limit = 1#Inclusive\n",
    "  init_state = 0\n",
    "  num_samples =5\n",
    "  detection_guesses =1000\n",
    "args = Args()"
   ]
  },
  {
   "cell_type": "code",
   "execution_count": 6,
   "metadata": {},
   "outputs": [],
   "source": [
    "\n",
    "def prob_of_path(path,  p0,p1):\n",
    "    # Take two possible hypothesis\n",
    "    num = 1\n",
    "    denum = 1\n",
    "    for i in range(len(path)-1):\n",
    "        from_state = path[i]\n",
    "        to_state = path[i+1]\n",
    "        num  *= p0[from_state,to_state]\n",
    "        denum *= p1[from_state,to_state]\n",
    "    # Return the least preferred one\n",
    "    return num if denum > num else denum"
   ]
  },
  {
   "cell_type": "code",
   "execution_count": 8,
   "metadata": {},
   "outputs": [],
   "source": [
    "# We want to calculate the average error probability for all paths\n",
    "# We shouldn't be needing paths\n",
    "from itertools import product\n",
    "#num_steps = args.length\n",
    "#num_states = args.state_limit+1\n",
    "num_steps = args.num_samples\n",
    "num_states = 2\n",
    "\n",
    "states = np.arange(num_states)\n",
    "samp_rates = np.logspace(-3,5,args.xres, base=2)\n",
    "rates0 = {\"lam\": 4/10,\"mu\":12/10}\n",
    "rates1 = {\"lam\": 100/10,\"mu\":122/10}\n",
    "\n",
    "rates = [rates0,rates1]\n",
    "\n",
    "tgm0 = np.array([[-rates0['lam'],rates0['lam']],[rates0['mu'],-rates0['mu']]])\n",
    "tgm1 = np.array([[-rates1['lam'],rates1['lam']],[rates1['mu'],-rates1['mu']]])\n",
    "\n",
    "hts, sts = ([],[])\n",
    "last_times  = []\n",
    "true_values = np.random.choice(2,args.detection_guesses)\n",
    "# Generate The Tapes\n",
    "for i in range(args.detection_guesses):\n",
    "    roe = RaceOfExponentials(args.length,rates[true_values[i]],state_limit=args.state_limit)\n",
    "    holdTimes_tape, state_tape = roe.generate_history(args.init_state)\n",
    "    hts.append(holdTimes_tape);\n",
    "    sts.append(state_tape)\n",
    "    last_times.append(np.cumsum(holdTimes_tape)[-1])\n",
    "\n",
    "# Preparation of True Probabilities\n",
    "true_p0s = []\n",
    "true_p1s = []\n",
    "fixed_guesses = np.ones((len(samp_rates), args.detection_guesses))\n",
    "# Crete all the *known* probability functions.\n",
    "for srIdx, cur_samp_rate in enumerate(samp_rates):\n",
    "    true_p0s.append(expm(tgm0*(1/cur_samp_rate)))\n",
    "    true_p1s.append(expm(tgm1*(1/cur_samp_rate)))\n",
    "\n",
    "# Generate\n",
    "# TODO decrease memory consumption by only using iterators\n",
    "paths = np.array(list(product(states, repeat=num_steps-1)))\n",
    "paths = np.concatenate([np.repeat([[0]],repeats=paths.shape[0], axis=0), paths], axis=1)\n",
    "probs = []\n",
    "\n",
    "# Sum them up and that should be your probability \n",
    "for srIdx, cur_samp_rate in enumerate(samp_rates):\n",
    "    probs.append(np.sum(np.apply_along_axis(prob_of_path, 1, paths, true_p0s[srIdx],true_p1s[srIdx])))"
   ]
  },
  {
   "cell_type": "code",
   "execution_count": 11,
   "metadata": {},
   "outputs": [
    {
     "name": "stderr",
     "output_type": "stream",
     "text": [
      "100%|██████████| 1000/1000 [01:00<00:00, 16.50it/s]"
     ]
    },
    {
     "name": "stdout",
     "output_type": "stream",
     "text": [
      "Min Length reached is  5.0\n"
     ]
    },
    {
     "name": "stderr",
     "output_type": "stream",
     "text": [
      "\n"
     ]
    }
   ],
   "source": [
    "# Redo the testing experiments\n",
    "\n",
    "true_values = np.random.choice(2,args.detection_guesses)\n",
    "hts, sts = ([],[])\n",
    "last_times  = []\n",
    "\n",
    "base_samp_rate = samp_rates[-1]\n",
    "\n",
    "for i in range(args.detection_guesses):\n",
    "    roe = RaceOfExponentials(args.length,rates[true_values[i]],state_limit=args.state_limit)\n",
    "    holdTimes_tape, state_tape = roe.generate_history(args.init_state)\n",
    "    hts.append(holdTimes_tape); sts.append(state_tape)\n",
    "    last_times.append(np.cumsum(holdTimes_tape)[-1])\n",
    "\n",
    "# Go Over the Detection Guesses\n",
    "guesses = np.zeros((len(samp_rates), args.detection_guesses))\n",
    "min_length = np.inf\n",
    "for i in tqdm(np.arange(args.detection_guesses)):\n",
    "    \n",
    "    # Prepare for Decimation: First sample with the quickest rate. -> Smallest Unit of Time Interval\n",
    "    sampled_tape = quick_sample(base_samp_rate, sts[i],hts[i])\n",
    "    # Go Over the \n",
    "    for srIdx, cur_samp_rate in enumerate(samp_rates):\n",
    "        # Fetch Values for Current Rate\n",
    "        true_p0 = true_p0s[srIdx]\n",
    "        true_p1 = true_p1s[srIdx]\n",
    "        true_ps = [true_p0,true_p1]\n",
    "        \n",
    "        #LG: How many of the baseline intervals fit into the slow rate interval\n",
    "        decimateInterval = int(base_samp_rate/cur_samp_rate)\n",
    "        tmpSampTape = sampled_tape[0::decimateInterval]\n",
    "        ############################################\n",
    "        # Option 2 with limited number of samples ##\n",
    "        ############################################\n",
    "        limited_sampled_tape = tmpSampTape[0:args.num_samples]\n",
    "        min_length = np.min([len(limited_sampled_tape), min_length])\n",
    "        guesses[srIdx, i] = take_a_guess(limited_sampled_tape, true_p0, true_p1)\n",
    "\n",
    "num_negs = np.sum(true_values == 0)#TN + FP\n",
    "num_pos = np.sum(true_values == 1)#TP + FN\n",
    "print(\"Min Length reached is \", min_length)\n",
    "\n",
    "fprs,fnrs = ([],[])\n",
    "hit_rates = []\n",
    "\n",
    "for srIdx, cur_samp_rate in enumerate(samp_rates):\n",
    "    guess = guesses[srIdx]\n",
    "    hits_index = (true_values == guess)\n",
    "    tp = (true_values[hits_index] == 1).sum()\n",
    "    tn = (true_values[hits_index] == 0).sum()\n",
    "    # False Positive and Negative Rates\n",
    "    fprs.append((num_negs-tn)/(num_negs))\n",
    "    fnrs.append((num_pos-tp)/(num_pos))# Type 2 Error\n",
    "    num_hits = (true_values == guess).sum()\n",
    "    hit_rates.append(num_hits/args.detection_guesses)\n",
    "fprs = np.array(fprs)\n",
    "fnrs = np.array(fnrs)\n",
    "tot_error = fprs+ fnrs"
   ]
  },
  {
   "cell_type": "code",
   "execution_count": null,
   "metadata": {},
   "outputs": [
    {
     "name": "stdout",
     "output_type": "stream",
     "text": [
      "Minimum Error is obtained at 0.26656588624220856\n",
      "This show that the summation of both errors is closer to monotonicity than having peaks.\n"
     ]
    },
    {
     "data": {
      "image/png": "[encoded data removed]",
      "text/plain": [
       "<Figure size 640x480 with 1 Axes>"
      ]
     },
     "metadata": {},
     "output_type": "display_data"
    }
   ],
   "source": [
    "#meep = np.apply_along_axis(prob_of_path, 1, paths, true_p0s[srIdx],true_p1s[srIdx])\n",
    "#print(len(meep))\n",
    "#print(meep)\n",
    "plt.plot(samp_rates, hit_rates, color='red', label='Accuracy', alpha=0.2)\n",
    "#plt.plot(samp_rates, fprs, color='green', label='Type 1 Error', alpha=0.2)\n",
    "#plt.plot(samp_rates, fnrs, color='purple', label='Type 2 Error', alpha=0.2)\n",
    "plt.plot(samp_rates, tot_error, color='orange', label='Numerical Error')\n",
    "plt.plot(samp_rates, probs, label='Theoretical Error')\n",
    "print('Minimum Error is obtained at {}'.format(samp_rates[argmin(probs)]))\n",
    "plt.xscale('log', base=2)\n",
    "plt.legend()\n",
    "plt.xlabel('Sampling Rate(Log Scale)')\n",
    "plt.ylabel('Expected Probability of Error(over Paths)')\n",
    "print('This show that the summation of both errors is closer to monotonicity than having peaks.')\n",
    "plt.show()"
   ]
  },
  {
   "cell_type": "code",
   "execution_count": 13,
   "metadata": {},
   "outputs": [
    {
     "data": {
      "image/png": "[encoded data removed]",
      "text/plain": [
       "<Figure size 640x480 with 1 Axes>"
      ]
     },
     "metadata": {},
     "output_type": "display_data"
    }
   ],
   "source": [
    "# Just Checking the Probability Per Hypothesis. \n",
    "# See If Probabilities Change:\n",
    "p00_0s = np.array([p[0,0] for p in true_p0s])\n",
    "p00_1s = np.array([p[0,0] for p in true_p1s])\n",
    "\n",
    "# Numerical(Excellent this agrees)\n",
    "plt.plot(samp_rates, path_hyp_counts[:,0]/totpath_hyp_counts[:,0], label=\"Emp_H0\")\n",
    "\n",
    "# Theoretical \n",
    "plt.plot(samp_rates, p00_0s, label=\"H_0\")\n",
    "plt.plot(samp_rates, p00_1s, label=\"H_1\")\n",
    "plt.plot(samp_rates, p00_0s/(p00_0s+p00_1s), label=\"H_1\")\n",
    "plt.legend()\n",
    "plt.title(\"P(0,0) per Hypothesis\")\n",
    "plt.xscale('log',base=2)\n",
    "plt.show()\n",
    "# Clearym in our particular case H1 is superior than Hypothesis 0 for every single sampling rate. "
   ]
  },
  {
   "cell_type": "code",
   "execution_count": null,
   "metadata": {},
   "outputs": [],
   "source": [
    "for i,j in enumerate(samp_rates):\n",
    "    clear_output(wait=True)\n",
    "    print(fixed_fprs[i])\n",
    "    print(fixed_guesses[i])\n",
    "    print(true_p0s[i])\n",
    "    print(true_p1s[i])\n",
    "    sleep(0.1)"
   ]
  },
  {
   "attachments": {},
   "cell_type": "markdown",
   "metadata": {},
   "source": [
    "# Policy Gradient Algorithms\n",
    "\n",
    "This Section Focuses on Implementing Continous Policies."
   ]
  },
  {
   "attachments": {},
   "cell_type": "markdown",
   "metadata": {},
   "source": [
    "There is nothing episodic about our run and environment. We may think of our environment as a simple contextual bandit environment in the sense that there is only a single step. \n",
    "However, optimal policies may still be drived. \n",
    "\n",
    "Because there is a temporal element to ours sequences we might be inclide to use RNNs to encode them into a hidden vector from\n",
    "which we can infer the optimal action. \n",
    "\n",
    "An extra bit of caveat that we must mention is that we work with actions in continuous space. In these cases I have read that it Bayesian Networks are used. More specficically \n",
    "we could draw actions from teh gaussian distribution. In this caswe would learn an appropriate mean and standard deviation. "
   ]
  },
  {
   "cell_type": "code",
   "execution_count": 86,
   "metadata": {},
   "outputs": [
    {
     "data": {
      "text/plain": [
       "<module 'sp_sims.statistics.statistics' from '/Users/rac716/Research/RL_RateOptimization/sp_sims/statistics/statistics.py'>"
      ]
     },
     "execution_count": 86,
     "metadata": {},
     "output_type": "execute_result"
    }
   ],
   "source": [
    "import torch\n",
    "import numpy as np\n",
    "from torch import nn\n",
    "import sp_sims\n",
    "from sp_sims.simulators.stochasticprocesses import *\n",
    "from sp_sims.statistics.statistics import *\n",
    "import torch.optim as optim\n",
    "\n",
    "from scipy.linalg import expm\n",
    "\n",
    "import importlib\n",
    "importlib.reload(sp_sims.simulators.stochasticprocesses)\n",
    "importlib.reload(sp_sims.statistics.statistics)"
   ]
  },
  {
   "attachments": {},
   "cell_type": "markdown",
   "metadata": {},
   "source": [
    "## Define the Model"
   ]
  },
  {
   "cell_type": "code",
   "execution_count": 134,
   "metadata": {},
   "outputs": [],
   "source": [
    "from collections import deque, namedtuple\n",
    "import torch.nn.functional as F\n",
    "import random\n",
    "class RNNContinuousPolicy(nn.Module):\n",
    "    def __init__(self, num_states,hidden_size):\n",
    "        super(RNNContinuousPolicy,self).__init__()\n",
    "        self.state_limit = num_states\n",
    "        self.rnn = nn.LSTM(num_states,hidden_size,1,batch_first=True)\n",
    "        self.fc = nn.Linear(hidden_size, 1)\n",
    "\n",
    "    def forward(self, X):\n",
    "        # Prpping\n",
    "        _,(hiddn,_) = self.rnn(X)\n",
    "        logit = self.fc(hiddn.squeeze(0))\n",
    "        output = torch.sigmoid(logit)\n",
    "        output_normalized = output*64\n",
    "        return output_normalized\n",
    "        # We are giving X as a \n",
    "\n",
    "# Critic Network\n",
    "class Critic(nn.Module):\n",
    "    def __init__(self, state_size, action_size, hidden_size):\n",
    "        super(Critic, self).__init__()\n",
    "        # State is One Hot Encoded\n",
    "        self.rnn = nn.LSTM(state_size, hidden_size, 1, batch_first=True)\n",
    "        self.fc1 = nn.Linear(hidden_size + 1, 16)\n",
    "        self.fc2 = nn.Linear(16, 1)\n",
    "\n",
    "    def forward(self, mstates, action):\n",
    "        _,(h,_)  = self.rnn(mstates)\n",
    "        x = torch.cat((h.squeeze(), action), dim=1)\n",
    "        x = F.relu(self.fc1(x))\n",
    "        x = self.fc2(x)\n",
    "        return x\n",
    "# Replay buffer\n",
    "\n",
    "class ReplayBuffer:\n",
    "    def __init__(self, buffer_size, batch_size, chain_length, num_states):\n",
    "        self.chain_length = chain_length\n",
    "        self.num_states = num_states\n",
    "        self.memory = deque(maxlen=buffer_size)\n",
    "        self.batch_size = batch_size\n",
    "        self.experience = namedtuple(\"Experience\", field_names=[\"state\", \"samp_rate\", \"errors\" ])\n",
    "\n",
    "    def add(self, state, samp_rate, errors):\n",
    "        e = self.experience(state, samp_rate, errors)\n",
    "        self.memory.append(e)\n",
    "\n",
    "    def sample(self):\n",
    "        experiences = random.sample(self.memory, k=self.batch_size)\n",
    "        states =  torch.empty((self.batch_size,self.chain_length,self.num_states))\n",
    "        for i,e in enumerate(experiences):\n",
    "            hawt_states = torch.nn.functional.one_hot(torch.tensor(e.state.states),num_classes=self.num_states).to(torch.float32)# Transpose it\n",
    "            hawt_states *= torch.tensor(e.state.holding_times).view(-1,1)\n",
    "            states[i,:,:] = hawt_states\n",
    "        actions = torch.from_numpy(np.vstack([e.samp_rate for e in experiences if e is not None])).float()\n",
    "        errors = torch.from_numpy(np.vstack([e.errors for e in experiences if e is not None])).float()\n",
    "\n",
    "        return states, actions, errors\n",
    "\n",
    "    def __len__(self):\n",
    "        return len(self.memory)"
   ]
  },
  {
   "attachments": {},
   "cell_type": "markdown",
   "metadata": {},
   "source": [
    "## Setup"
   ]
  },
  {
   "cell_type": "code",
   "execution_count": 95,
   "metadata": {},
   "outputs": [],
   "source": [
    "# Create the Datasets\n",
    "# We may change args here:\n",
    "class Args2:\n",
    "  xres = 100\n",
    "  length = 1000# Number of transitions in continuous chain \n",
    "  state_limit = 1#Inclusive # DO NOT CHANGE, Architecture can't take it yet\n",
    "  init_state = 0\n",
    "  num_samples =5\n",
    "  batch_size =32\n",
    "  poptimizer_lr = 1e-4\n",
    "  coptimizer_lr = 1e-4\n",
    "  clipping_limit = 64 # Sampling rate no Bigger than this. \n",
    "  detection_guesses =10000\n",
    "  num_epochs = 100\n",
    "  num_replay_samples = 1 # How many batches do we sample at a time to learn \n",
    "# Data Class\n",
    "class MetaState:\n",
    "  states: list\n",
    "  holding_times: list\n",
    "  def __init__(self,states, holding_times):\n",
    "    self.states = states\n",
    "    self.holding_times = holding_times\n",
    "\n",
    "args2 = Args2()"
   ]
  },
  {
   "cell_type": "code",
   "execution_count": 96,
   "metadata": {},
   "outputs": [],
   "source": [
    "# Function For Generating a Batch\n",
    "def get_batch(num_sequences, length, num_states, tvals):\n",
    "    # maybe for slower chains we will want to \n",
    "    num_states = qmatrix.shape[0]\n",
    "\n",
    "    # Null Hyp\n",
    "    rates0 = np.random.chisquare(df=2, size =(num_sequences,2))\n",
    "    rates0[:,1] = np.sum(rates,dim=1) # So that mu > lam\n",
    "\n",
    "    # Alter Hyp\n",
    "    rates1 = np.random.chisquare(df=2, size =(num_sequences,2))\n",
    "    rates1[:,1] = np.sum(rates,dim=1) # So that mu > lam\n",
    "\n",
    "    rates = [rates0,rates1]\n",
    "    rates = torch.from_numpy(rates)\n",
    "    batch =  torch.array((num_sequences,length,num_states))\n",
    "\n",
    "    for i in range(args2.detection_guesses):\n",
    "        # Generate State and Holding Times\n",
    "        roe = RaceOfExponentials(args2.length,rates[tvals[i]],state_limit=args2.state_limit)\n",
    "        holdTimes_tape, state_tape = roe.generate_history(args2.init_state)\n",
    "        #hts.append(holdTimes_tape);\n",
    "        #sts.append(state_tape)\n",
    "\n",
    "        # Generate\n",
    "        hawt_states = torch.nn.functional.one_hot(state_tape).T# Transpose it\n",
    "        hawt_states *= torch.tensor(holdTimes_tape)\n",
    "        batch[i,:,:] = hawt_states\n",
    "\n",
    "\n",
    "    return  batch, rates\n",
    "\n",
    "\n",
    "def get_errors(sampled_tapes, probs, true_hyps):\n",
    "    # Clean it up \n",
    "    p0, p1 = probs\n",
    "    # Take our guesses\n",
    "    guesses = np.array([take_a_guess(tape, p0[i],p1[i]) for i,tape in enumerate(sampled_tapes)])\n",
    "    errors = -1*np.array(true_hyps != guesses)\n",
    "    return errors\n",
    "\n",
    "\n",
    "def take_a_guess(tape, p0,p1):\n",
    "    num = 0\n",
    "    denum = 0\n",
    "    for i in range(len(tape)-1):\n",
    "        from_state = tape[i]\n",
    "        to_state = tape[i+1]\n",
    "        num += np.log(p0[from_state,to_state])\n",
    "        denum += np.log(p1[from_state,to_state])\n",
    "    return 0 if num > denum else 1"
   ]
  },
  {
   "attachments": {},
   "cell_type": "markdown",
   "metadata": {},
   "source": [
    "## Bootstrap the Replay Buffer"
   ]
  },
  {
   "cell_type": "code",
   "execution_count": 135,
   "metadata": {},
   "outputs": [],
   "source": [
    "# Replay buffer stores (s,a,r,s',d)\n",
    "# Meaning the Hidden State we se the action we took and the corresponding reward\n",
    "def populate_replay_buffer(rbuffer,num_to_add):\n",
    "    \n",
    "    ## Start By Generating States\n",
    "    # TODO: Maybe Try Uniform\n",
    "    # Null Hyp\n",
    "    #rates0 = np.random.chisquare(df=2, size =(num_to_add,2))\n",
    "    #rates0[:,1] = np.sum(rates0,axis=1) # So that mu > lam\n",
    "    # Alter Hyp\n",
    "    #rates1 = np.random.chisquare(df=2, size =(num_to_add,2))\n",
    "    #rates1[:,1] = np.sum(rates1,axis=1) # So that mu > lam\n",
    "\n",
    "\n",
    "    rates = [rates0,rates1]\n",
    "    true_hyps = np.random.choice(2,num_to_add)\n",
    "\n",
    "    # Get Fully Labeled Data (Observe State)\n",
    "    sts, hts = ([],[])\n",
    "    for i in range(num_to_add):\n",
    "        roe = RaceOfExponentials(args2.length,rates[true_hyps[i]][i],state_limit=args2.state_limit)\n",
    "        holdTimes_tape, state_tape = roe.generate_history(args2.init_state)\n",
    "        sts.append(state_tape)\n",
    "        hts.append(holdTimes_tape)\n",
    "\n",
    "    # Get the Batch\n",
    "    #batch, rates = get_batch(num_to_add, length, args.state_limit, true_hyps)\n",
    "    \n",
    "    # Build The Probabilities\n",
    "    p0s,p1s = np.ndarray((num_to_add, 2, 2)), np.ndarray((num_to_add,2,2))\n",
    "    for i in range(len(rates[0])):\n",
    "        rate0, rate1 = (rates[0][i,:],rates[1][i,:])\n",
    "        p0s[i,:,:] = expm(np.array([[-rate0[0],rate0[0]],[rate0[1],-rate0[1]]]))# 0=lam, 1=mu\n",
    "        p1s[i,:,:] = expm(np.array([[-rate1[0],rate1[0]],[rate1[1],-rate1[1]]]))\n",
    "\n",
    "    ## Action Selection\n",
    "    # Beta Policy: Just Randomly Pick Sampling Rates from some interval(prolly uniformly)\n",
    "    smp_rates = np.random.uniform(0,4, num_to_add) \n",
    "    \n",
    "    # Action Performance(Sampling At Rate)\n",
    "    samples = [ quick_sample(rate,sts[i],hts[i],2) for i,rate in enumerate(smp_rates)]\n",
    "\n",
    "    # Get the corresponding Losses\n",
    "    errors = get_errors(samples, probs = (p0s,p1s), true_hyps=true_hyps)\n",
    "\n",
    "    for i,st in enumerate(sts):\n",
    "        rbuffer.add(MetaState(sts[i],hts[i]), smp_rates[i],errors[i])\n"
   ]
  },
  {
   "cell_type": "code",
   "execution_count": null,
   "metadata": {},
   "outputs": [],
   "source": [
    "# Test The Populate replay buffer:\n",
    "mybuffer = ReplayBuffer(1024,32,args2.length, args2.state_limit+1)\n",
    "populate_replay_buffer(mybuffer, args2.batch_size)\n",
    "state, actions, rewards = mybuffer.sample()\n",
    "plt.plot(actions, np.sum(rewards,axis=1))"
   ]
  },
  {
   "cell_type": "code",
   "execution_count": 19,
   "metadata": {},
   "outputs": [
    {
     "name": "stderr",
     "output_type": "stream",
     "text": [
      "  0%|          | 0/100 [00:00<?, ?it/s]\n"
     ]
    },
    {
     "ename": "RuntimeError",
     "evalue": "mat1 and mat2 shapes cannot be multiplied (32x5 and 3x16)",
     "output_type": "error",
     "traceback": [
      "\u001b[0;31m---------------------------------------------------------------------------\u001b[0m",
      "\u001b[0;31mRuntimeError\u001b[0m                              Traceback (most recent call last)",
      "Cell \u001b[0;32mIn[19], line 32\u001b[0m\n\u001b[1;32m     25\u001b[0m y \u001b[39m=\u001b[39m rewards\n\u001b[1;32m     27\u001b[0m \u001b[39m# Since We We are Doing Accuracy We have to create \u001b[39;00m\n\u001b[1;32m     28\u001b[0m \u001b[39m########################################\u001b[39;00m\n\u001b[1;32m     29\u001b[0m \u001b[39m# Update Networks\u001b[39;00m\n\u001b[1;32m     30\u001b[0m \u001b[39m########################################\u001b[39;00m\n\u001b[1;32m     31\u001b[0m \u001b[39m# Calculate the Losses\u001b[39;00m\n\u001b[0;32m---> 32\u001b[0m loss_Q \u001b[39m=\u001b[39m (\u001b[39m1\u001b[39m\u001b[39m/\u001b[39margs2\u001b[39m.\u001b[39mbatch_size)\u001b[39m*\u001b[39mtorch\u001b[39m.\u001b[39msum(torch\u001b[39m.\u001b[39mpow(critic(states, actions) \u001b[39m-\u001b[39m y,\u001b[39m2\u001b[39m))\n\u001b[1;32m     33\u001b[0m loss_P \u001b[39m=\u001b[39m \u001b[39m-\u001b[39m(\u001b[39m1\u001b[39m\u001b[39m/\u001b[39margs2\u001b[39m.\u001b[39mbatch_size)\u001b[39m*\u001b[39mtorch\u001b[39m.\u001b[39msum(critic(states, policy(states)))\n\u001b[1;32m     35\u001b[0m epochs\u001b[39m.\u001b[39mset_description(\u001b[39m'\u001b[39m\u001b[39mTotal Rewards \u001b[39m\u001b[39m{}\u001b[39;00m\u001b[39m, Loss_Q \u001b[39m\u001b[39m{}\u001b[39;00m\u001b[39m and loss_P \u001b[39m\u001b[39m{}\u001b[39;00m\u001b[39m'\u001b[39m\u001b[39m.\u001b[39mformat(rewards\u001b[39m.\u001b[39msum(), loss_Q\u001b[39m.\u001b[39mitem(), loss_P\u001b[39m.\u001b[39mitem()))\n",
      "File \u001b[0;32m~/miniforge3/envs/rs39/lib/python3.9/site-packages/torch/nn/modules/module.py:1194\u001b[0m, in \u001b[0;36mModule._call_impl\u001b[0;34m(self, *input, **kwargs)\u001b[0m\n\u001b[1;32m   1190\u001b[0m \u001b[39m# If we don't have any hooks, we want to skip the rest of the logic in\u001b[39;00m\n\u001b[1;32m   1191\u001b[0m \u001b[39m# this function, and just call forward.\u001b[39;00m\n\u001b[1;32m   1192\u001b[0m \u001b[39mif\u001b[39;00m \u001b[39mnot\u001b[39;00m (\u001b[39mself\u001b[39m\u001b[39m.\u001b[39m_backward_hooks \u001b[39mor\u001b[39;00m \u001b[39mself\u001b[39m\u001b[39m.\u001b[39m_forward_hooks \u001b[39mor\u001b[39;00m \u001b[39mself\u001b[39m\u001b[39m.\u001b[39m_forward_pre_hooks \u001b[39mor\u001b[39;00m _global_backward_hooks\n\u001b[1;32m   1193\u001b[0m         \u001b[39mor\u001b[39;00m _global_forward_hooks \u001b[39mor\u001b[39;00m _global_forward_pre_hooks):\n\u001b[0;32m-> 1194\u001b[0m     \u001b[39mreturn\u001b[39;00m forward_call(\u001b[39m*\u001b[39;49m\u001b[39minput\u001b[39;49m, \u001b[39m*\u001b[39;49m\u001b[39m*\u001b[39;49mkwargs)\n\u001b[1;32m   1195\u001b[0m \u001b[39m# Do not call functions when jit is used\u001b[39;00m\n\u001b[1;32m   1196\u001b[0m full_backward_hooks, non_full_backward_hooks \u001b[39m=\u001b[39m [], []\n",
      "Cell \u001b[0;32mIn[2], line 32\u001b[0m, in \u001b[0;36mCritic.forward\u001b[0;34m(self, states, action)\u001b[0m\n\u001b[1;32m     29\u001b[0m \u001b[39mdef\u001b[39;00m \u001b[39mforward\u001b[39m(\u001b[39mself\u001b[39m, states, action):\u001b[39m# States are the paremeters\u001b[39;00m\n\u001b[1;32m     30\u001b[0m     \u001b[39m#_,(h,_)  = self.rnn(mstates)\u001b[39;00m\n\u001b[1;32m     31\u001b[0m     x \u001b[39m=\u001b[39m torch\u001b[39m.\u001b[39mcat((states, action), dim\u001b[39m=\u001b[39m\u001b[39m1\u001b[39m)\n\u001b[0;32m---> 32\u001b[0m     x \u001b[39m=\u001b[39m F\u001b[39m.\u001b[39mrelu(\u001b[39mself\u001b[39;49m\u001b[39m.\u001b[39;49mfc1(x))\n\u001b[1;32m     33\u001b[0m     x \u001b[39m=\u001b[39m \u001b[39mself\u001b[39m\u001b[39m.\u001b[39mfc2(x)\n\u001b[1;32m     34\u001b[0m     \u001b[39mreturn\u001b[39;00m x\n",
      "File \u001b[0;32m~/miniforge3/envs/rs39/lib/python3.9/site-packages/torch/nn/modules/module.py:1194\u001b[0m, in \u001b[0;36mModule._call_impl\u001b[0;34m(self, *input, **kwargs)\u001b[0m\n\u001b[1;32m   1190\u001b[0m \u001b[39m# If we don't have any hooks, we want to skip the rest of the logic in\u001b[39;00m\n\u001b[1;32m   1191\u001b[0m \u001b[39m# this function, and just call forward.\u001b[39;00m\n\u001b[1;32m   1192\u001b[0m \u001b[39mif\u001b[39;00m \u001b[39mnot\u001b[39;00m (\u001b[39mself\u001b[39m\u001b[39m.\u001b[39m_backward_hooks \u001b[39mor\u001b[39;00m \u001b[39mself\u001b[39m\u001b[39m.\u001b[39m_forward_hooks \u001b[39mor\u001b[39;00m \u001b[39mself\u001b[39m\u001b[39m.\u001b[39m_forward_pre_hooks \u001b[39mor\u001b[39;00m _global_backward_hooks\n\u001b[1;32m   1193\u001b[0m         \u001b[39mor\u001b[39;00m _global_forward_hooks \u001b[39mor\u001b[39;00m _global_forward_pre_hooks):\n\u001b[0;32m-> 1194\u001b[0m     \u001b[39mreturn\u001b[39;00m forward_call(\u001b[39m*\u001b[39;49m\u001b[39minput\u001b[39;49m, \u001b[39m*\u001b[39;49m\u001b[39m*\u001b[39;49mkwargs)\n\u001b[1;32m   1195\u001b[0m \u001b[39m# Do not call functions when jit is used\u001b[39;00m\n\u001b[1;32m   1196\u001b[0m full_backward_hooks, non_full_backward_hooks \u001b[39m=\u001b[39m [], []\n",
      "File \u001b[0;32m~/miniforge3/envs/rs39/lib/python3.9/site-packages/torch/nn/modules/linear.py:114\u001b[0m, in \u001b[0;36mLinear.forward\u001b[0;34m(self, input)\u001b[0m\n\u001b[1;32m    113\u001b[0m \u001b[39mdef\u001b[39;00m \u001b[39mforward\u001b[39m(\u001b[39mself\u001b[39m, \u001b[39minput\u001b[39m: Tensor) \u001b[39m-\u001b[39m\u001b[39m>\u001b[39m Tensor:\n\u001b[0;32m--> 114\u001b[0m     \u001b[39mreturn\u001b[39;00m F\u001b[39m.\u001b[39;49mlinear(\u001b[39minput\u001b[39;49m, \u001b[39mself\u001b[39;49m\u001b[39m.\u001b[39;49mweight, \u001b[39mself\u001b[39;49m\u001b[39m.\u001b[39;49mbias)\n",
      "\u001b[0;31mRuntimeError\u001b[0m: mat1 and mat2 shapes cannot be multiplied (32x5 and 3x16)"
     ]
    }
   ],
   "source": [
    "# Start Working on the Model\n",
    "from tqdm import tqdm\n",
    "policy = RNNContinuousPolicy(args2.state_limit+1,hidden_size=16)\n",
    "critic = Critic(args2.state_limit+1, 1, 16)\n",
    "poptimizer = optim.Adam(policy.parameters(), lr = args2.poptimizer_lr)\n",
    "coptimizer = optim.Adam(critic.parameters(), lr = args2.coptimizer_lr)\n",
    "\n",
    "rbuffer = ReplayBuffer(1024,args2.batch_size, args2.length,args2.state_limit+1)\n",
    "populate_replay_buffer(rbuffer,args2.batch_size)\n",
    "# We have Enough Data to Start Sampling and Exploring With \n",
    "epochs = tqdm(range(args2.num_epochs))\n",
    "for e in epochs:\n",
    "    poptimizer.zero_grad()\n",
    "    coptimizer.zero_grad()\n",
    "    ########################################\n",
    "    # Collect Data\n",
    "    ########################################\n",
    "    # This loop will generate paths with the existing policy \n",
    "    # Sample Transitions used for learnign\n",
    "    states, actions, rewards = rbuffer.sample()\n",
    "\n",
    "    # Get Tartes\n",
    "    y = rewards\n",
    "\n",
    "    # Since We We are Doing Accuracy We have to create \n",
    "    ########################################\n",
    "    # Update Networks\n",
    "    ########################################\n",
    "    # Calculate the Losses\n",
    "    loss_Q = (1/args2.batch_size)*torch.sum(torch.pow(critic(states, actions) - y,2))\n",
    "    loss_P = -(1/args2.batch_size)*torch.sum(critic(states, policy(states)))\n",
    "\n",
    "    epochs.set_description('Total Rewards {}, Loss_Q {} and loss_P {}'.format(rewards.sum(), loss_Q.item(), loss_P.item()))\n",
    "    # Learn \n",
    "    loss_Q.backward()\n",
    "    loss_P.backward()\n",
    "    poptimizer.step()\n",
    "    coptimizer.step()\n",
    "\n",
    "\n",
    "\n",
    "    ## Prep for Next Iteration\n",
    "    # Keep On Adding More Stuff to buffer to learn from \n",
    "    populate_replay_buffer(rbuffer, args2.batch_size)\n",
    "# Training Stats"
   ]
  },
  {
   "cell_type": "code",
   "execution_count": 102,
   "metadata": {},
   "outputs": [
    {
     "data": {
      "text/plain": [
       "tensor([[27.3231],\n",
       "        [26.9755],\n",
       "        [27.2020],\n",
       "        [27.2585],\n",
       "        [26.1748],\n",
       "        [27.3572],\n",
       "        [27.3648],\n",
       "        [25.0081],\n",
       "        [27.3284],\n",
       "        [27.3098],\n",
       "        [27.0110],\n",
       "        [27.3416],\n",
       "        [27.2602],\n",
       "        [25.3946],\n",
       "        [27.2414],\n",
       "        [27.1068],\n",
       "        [27.2765],\n",
       "        [27.0896],\n",
       "        [26.4497],\n",
       "        [25.4188],\n",
       "        [26.9865],\n",
       "        [26.2113],\n",
       "        [27.2970],\n",
       "        [27.3212],\n",
       "        [27.3247],\n",
       "        [27.2867],\n",
       "        [27.3202],\n",
       "        [24.3213],\n",
       "        [27.0557],\n",
       "        [26.5796],\n",
       "        [25.1878],\n",
       "        [27.1605]], grad_fn=<MulBackward0>)"
      ]
     },
     "execution_count": 102,
     "metadata": {},
     "output_type": "execute_result"
    }
   ],
   "source": [
    "policy(states)"
   ]
  },
  {
   "cell_type": "code",
   "execution_count": null,
   "metadata": {},
   "outputs": [],
   "source": [
    "# Runtthe Model \n",
    "states, a, rewards = rbuffer.sample()\n",
    "rates = policy(states)\n",
    "print(\"Rates Selected are :\",rates)\n",
    "\n",
    "#P(error | path, \\Deleta)\n",
    "tperror = np.zeros(len(samp_rates))\n",
    "bloop = []\n",
    "numerical_errors = []\n",
    "# For Now we will focus on Type I error  because H1 should always be preferred. \n",
    "for i in tqdm(np.arange(len(samp_rates))):\n",
    "    sr = samp_rates[i]\n",
    "    #num = true_p1s[i][0,0] if true_p0s[i][0,0] > true_p1s[i][0,0] else true_p0s[i][0,0]\n",
    "    num = true_p0s[i][0,0] \n",
    "    denum = true_p0s[i][0,0] + true_p1s[i][0,0]\n",
    "    tperror[i] = num/denum\n",
    "\n",
    "\n",
    "# Get the Numerical Erros\n",
    "plt.plot(samp_rates, numerical_errors,color='green')\n",
    "plt.plot(samp_rates, tperror, color='orange')\n",
    "plt.xscale('log',base=2)\n",
    "#plt.ylim((0,1))\n",
    "plt.show()\n",
    "\n"
   ]
  },
  {
   "attachments": {},
   "cell_type": "markdown",
   "metadata": {},
   "source": [
    "# Different Schema"
   ]
  },
  {
   "attachments": {},
   "cell_type": "markdown",
   "metadata": {},
   "source": [
    "Issue is the things that we were feeding to our previous model. We should feeed only the hypothesis(parameters) \n",
    "and then then we can generate a lot of paths from it and see how it does with the sampling rate it choses"
   ]
  },
  {
   "cell_type": "code",
   "execution_count": 15,
   "metadata": {},
   "outputs": [
    {
     "data": {
      "text/plain": [
       "<module 'sp_sims.statistics.statistics' from '/Users/rac716/Research/RL_RateOptimization/sp_sims/statistics/statistics.py'>"
      ]
     },
     "execution_count": 15,
     "metadata": {},
     "output_type": "execute_result"
    }
   ],
   "source": [
    "import torch\n",
    "import numpy as np\n",
    "from torch import nn\n",
    "import sp_sims\n",
    "from sp_sims.simulators.stochasticprocesses import *\n",
    "from sp_sims.statistics.statistics import *\n",
    "import torch.optim as optim\n",
    "\n",
    "from scipy.linalg import expm\n",
    "\n",
    "import importlib\n",
    "importlib.reload(sp_sims.simulators.stochasticprocesses)\n",
    "importlib.reload(sp_sims.statistics.statistics)"
   ]
  },
  {
   "cell_type": "markdown",
   "metadata": {},
   "source": [
    "## Define the Model"
   ]
  },
  {
   "cell_type": "code",
   "execution_count": 16,
   "metadata": {},
   "outputs": [],
   "source": [
    "from collections import deque, namedtuple\n",
    "import torch.nn.functional as F\n",
    "import random\n",
    "class RNNContinuousPolicy(nn.Module):\n",
    "    def __init__(self, num_params,hidden_size):\n",
    "        super(RNNContinuousPolicy,self).__init__()\n",
    "        #self.state_limit = num_states\n",
    "        self.fc1 = nn.Linear(num_params, hidden_size)\n",
    "        self.fc2 = nn.Linear(hidden_size, 1)\n",
    "\n",
    "    def forward(self, X):\n",
    "        # Prpping\n",
    "        #_,(hiddn,_) = self.rnn(X)\n",
    "        logit = self.fc2(F.relu(self.fc1(X)))\n",
    "        output = torch.sigmoid(logit)\n",
    "        output_normalized = output*16\n",
    "        return output_normalized\n",
    "        # We are giving X as a \n",
    "\n",
    "# Critic Network\n",
    "class Critic(nn.Module):\n",
    "    def __init__(self, num_param, action_size, hidden_size):\n",
    "        super(Critic, self).__init__()\n",
    "        # State is One Hot Encoded\n",
    "        # State + 1(action)\n",
    "        self.fc1 = nn.Linear(num_param + action_size, hidden_size)\n",
    "        self.fc2 = nn.Linear(hidden_size, 1)\n",
    "\n",
    "    def forward(self, states, action):# States are the paremeters\n",
    "        #_,(h,_)  = self.rnn(mstates)\n",
    "        x = torch.cat((states, action), dim=1)\n",
    "        x = F.relu(self.fc1(x))\n",
    "        x = self.fc2(x)\n",
    "        return torch.sigmoid(x)\n",
    "# Replay buffer\n",
    "\n",
    "class ReplayBuffer:\n",
    "\n",
    "    def __init__(self, buffer_size, batch_size, chain_length, num_states):\n",
    "        self.chain_length = chain_length\n",
    "        self.num_states = num_states\n",
    "        self.memory = deque(maxlen=buffer_size)\n",
    "        self.batch_size = batch_size\n",
    "        self.experience = namedtuple(\"Experience\", field_names=[\"state\", \"samp_rate\", \"errors\" ])\n",
    "\n",
    "    def add(self, state, samp_rate, errors):\n",
    "        e = self.experience(state, samp_rate, errors)\n",
    "        self.memory.append(e)\n",
    "\n",
    "    def sample(self):\n",
    "        experiences = random.sample(self.memory, k=self.batch_size)\n",
    "        states =  torch.empty((self.batch_size,2**2))# TODO Remove hard code to the number of entries in generator matrix\n",
    "\n",
    "        # The states will be encoded as tensors\n",
    "        states = torch.from_numpy(np.vstack([e.state for e in experiences if e is not None])).float()\n",
    "        actions = torch.from_numpy(np.vstack([e.samp_rate for e in experiences if e is not None])).float()\n",
    "        errors = torch.from_numpy(np.vstack([e.errors for e in experiences if e is not None])).float()\n",
    "\n",
    "        return states, actions, errors\n",
    "\n",
    "    def __len__(self):\n",
    "        return len(self.memory)"
   ]
  },
  {
   "cell_type": "markdown",
   "metadata": {},
   "source": [
    "## Setup"
   ]
  },
  {
   "cell_type": "code",
   "execution_count": 17,
   "metadata": {},
   "outputs": [],
   "source": [
    "# Create the Datasets\n",
    "# We may change args here:\n",
    "class Args2:\n",
    "  xres = 100\n",
    "  length = 1000# Number of transitions in continuous chain \n",
    "  state_limit = 1#Inclusive # DO NOT CHANGE, Architecture can't take it yet\n",
    "  init_state = 0\n",
    "  num_samples =5\n",
    "  batch_size =128\n",
    "  poptimizer_lr = 1e-3\n",
    "  coptimizer_lr = 1e-3\n",
    "  clipping_limit = 64 # Sampling rate no Bigger than this. \n",
    "  detection_guesses =10000\n",
    "  num_epochs = 1000\n",
    "  num_replay_samples = 1 # How many batches do we sample at a time to learn \n",
    "# Data Class\n",
    "class MetaState:\n",
    "  states: list\n",
    "  holding_times: list\n",
    "  def __init__(self,states, holding_times):\n",
    "    self.states = states\n",
    "    self.holding_times = holding_times\n",
    "\n",
    "args2 = Args2()"
   ]
  },
  {
   "cell_type": "code",
   "execution_count": 19,
   "metadata": {},
   "outputs": [],
   "source": [
    "def get_errors(sampled_tapes, probs, true_hyps):\n",
    "    # Clean it up \n",
    "    p0, p1 = probs\n",
    "    # Take our guesses\n",
    "    guesses = np.array([take_a_guess(tape, p0[i],p1[i]) for i,tape in enumerate(sampled_tapes)])\n",
    "    errors = -1*np.array(true_hyps != guesses)\n",
    "    return errors\n",
    "\n",
    "\n",
    "def take_a_guess(tape, p0,p1):\n",
    "    num = 0\n",
    "    denum = 0\n",
    "    for i in range(len(tape)-1):\n",
    "        from_state = tape[i]\n",
    "        to_state = tape[i+1]\n",
    "        num += np.log(p0[from_state,to_state])\n",
    "        denum += np.log(p1[from_state,to_state])\n",
    "    return 0 if num > denum else 1"
   ]
  },
  {
   "cell_type": "markdown",
   "metadata": {},
   "source": [
    "## Bootstrap the Replay Buffer"
   ]
  },
  {
   "cell_type": "code",
   "execution_count": 20,
   "metadata": {},
   "outputs": [],
   "source": [
    "# Replay buffer stores (s,a,r,s',d)\n",
    "# Meaning the Hidden State we se the action we took and the corresponding reward\n",
    "def populate_replay_buffer(rbuffer,num_of_examples, guesses_per_rate = 64):\n",
    "    \n",
    "    ## Start By Generating States\n",
    "    # TODO: Maybe Try Uniform\n",
    "    # Null Hyp\n",
    "    rates0 = np.random.chisquare(df=2, size =(num_of_examples,2))\n",
    "    rates0[:,1] = np.sum(rates0,axis=1) # So that mu > lam\n",
    "    # Alter Hyp\n",
    "    rates1 = np.random.chisquare(df=2, size =(num_of_examples,2))\n",
    "    rates1[:,1] = np.sum(rates1,axis=1) # So that mu > lam\n",
    "\n",
    "    rates_features = rates0 + rates1\n",
    "\n",
    "    rates = [rates0,rates1]\n",
    "\n",
    "    # Get Errors  # ACTIONS\n",
    "    smp_rates = np.random.uniform(0,2**6, num_of_examples) # Actions\n",
    "    errors = [0]*len(smp_rates)# Amount of errors per action\n",
    "\n",
    "    for i in range(rates0.shape[0]):# For Every State-Action\n",
    "        true_hyps = np.random.choice(2,guesses_per_rate)\n",
    "        \n",
    "        p0 = expm((1/smp_rates[i])*np.array([[-rates0[i,0],rates0[i,0]],[rates0[i,1],-rates0[i,1]]]))# 0=lam, 1=mu\n",
    "        p1 = expm((1/smp_rates[i])*np.array([[-rates1[i,0],rates1[i,0]],[rates1[i,1],-rates1[i,1]]]))\n",
    "\n",
    "        for j in range(guesses_per_rate): # Sample a bunch of paths\n",
    "            roe = RaceOfExponentials(args2.length,rates[true_hyps[j]][i],state_limit=args2.state_limit)\n",
    "            holdTimes_tape, state_tape = roe.generate_history(args2.init_state)\n",
    "            # Action Performance(Sampling At Rate)\n",
    "            tape = quick_sample(smp_rates[i],state_tape,holdTimes_tape,args2.num_samples)\n",
    "\n",
    "            # Get the corresponding Losses\n",
    "            errors[i] += take_a_guess(tape, p0,p1)  != true_hyps[j]\n",
    "\n",
    "    errors = np.array(errors) / guesses_per_rate\n",
    "\n",
    "    for i in range(num_of_examples):\n",
    "        rbuffer.add(list(rates0[i])+list(rates1[i]), smp_rates[i],errors[i])\n"
   ]
  },
  {
   "cell_type": "code",
   "execution_count": 22,
   "metadata": {},
   "outputs": [
    {
     "name": "stderr",
     "output_type": "stream",
     "text": [
      "  1%|          | 6/1000 [00:17<47:55,  2.89s/it]"
     ]
    }
   ],
   "source": [
    "# Start Working on the Model\n",
    "from tqdm import tqdm\n",
    "import matplotlib.pyplot as plt \n",
    "# TODO remove hard code \n",
    "policy = RNNContinuousPolicy(2*2,hidden_size=16)\n",
    "critic = Critic(2*2, 1, 16)\n",
    "poptimizer = optim.Adam(policy.parameters(), lr = args2.poptimizer_lr)\n",
    "coptimizer = optim.Adam(critic.parameters(), lr = args2.coptimizer_lr)\n",
    "\n",
    "rbuffer = ReplayBuffer(256,args2.batch_size, args2.length,args2.state_limit+1)\n",
    "populate_replay_buffer(rbuffer,args2.batch_size)\n",
    "# We have Enough Data to Start Sampling and Exploring With \n",
    "epochs = tqdm(range(args2.num_epochs))\n",
    "qvalue_loss = []\n",
    "policyExpectedReward = []\n",
    "val_srate = []\n",
    "for e in epochs:\n",
    "    poptimizer.zero_grad()\n",
    "    coptimizer.zero_grad()\n",
    "    ########################################\n",
    "    # Collect Data\n",
    "    ########################################\n",
    "    # This loop will generate paths with the existing policy \n",
    "    # Sample Transitions used for learnign\n",
    "    states, actions, rewards = rbuffer.sample()\n",
    "\n",
    "    # Get Rates\n",
    "    y = rewards\n",
    "    # Since We We are Doing Accuracy We have to create \n",
    "    ########################################\n",
    "    # Update Networks\n",
    "    ########################################\n",
    "    # Calculate the Losses\n",
    "    loss_Q = (1/args2.batch_size)*torch.sum(torch.pow(critic(states, actions) - y,2))\n",
    "    loss_P = (1/args2.batch_size)*torch.sum(critic(states, policy(states)))\n",
    "\n",
    "    # Learn \n",
    "    loss_Q.backward()\n",
    "    loss_P.backward()\n",
    "    poptimizer.step()\n",
    "    coptimizer.step()\n",
    "\n",
    "    # In this one particular case we have a single point that is global max so it would be\n",
    "    # best to use optimized policy to do some exploration \n",
    "    qvalue_loss.append(loss_Q.item())\n",
    "    policyExpectedReward.append(loss_P.item())\n",
    "\n",
    "    # Validate with a known global min:\n",
    "    validation_input = torch.tensor([[4/10,12/10,100/10,122/10]])\n",
    "    policy.eval()\n",
    "    with torch.no_grad():\n",
    "        val_srate.append(float(policy(validation_input).squeeze(-1).item()))\n",
    "    policy.train()\n",
    "    \n",
    "    # Lets look at the weights acrooss the network \n",
    "    epoch_description = \"\"\n",
    "\n",
    "    for name, param in critic.named_parameters():\n",
    "        epoch_description += \"Parameter {} norm is {}\\n\".format(name, torch.norm(param)**2)\n",
    "\n",
    "    epoch_description += 'Val Samp Rate {}, Loss_Q {} and loss_P {}'.format(val_srate[-1], loss_Q.item(), loss_P.item())\n",
    "\n",
    "    epochs.set_description(epoch_description)\n",
    "\n",
    "    ## Prep for Next Iteration\n",
    "    # Keep On Adding More Stuff to buffer to learn from \n",
    "    populate_replay_buffer(rbuffer, args2.batch_size)\n",
    "critic.eval()\n",
    "fig, axs = plt.subplots(1,2)\n",
    "axs[0,0].plot(range(len(qvalue_loss)),qvalue_loss,label=\"Value Estimation Loss\")\n",
    "plt.legend()\n",
    "axs[0,1].axhline(y=1/3.75, label=\"Optimal Rate\", color=\"Red\")\n",
    "axs[0,1].plot(range(len(policyExpectedReward)),policyExpectedReward,label=\"Policy Expected Error\")\n",
    "axs[0,1].plot(range(len(val_srate)),val_srate,label=\"Validation Rate\")\n",
    "\n",
    "critic_x = torch.tensor([4/10,12/10,100/10,122/10]).repeat(len(samp_rates))\n",
    "critic_y = torch.tensor([4/10,12/10,100/10,122/10]).repeat(len(samp_rates))\n",
    "axs[1,0].plot(range(samp_rates), critic(critic_y,torch.tensor(samp_rates).view(-1,1)))\n",
    "plt.legend()\n",
    "plt.show()"
   ]
  },
  {
   "cell_type": "code",
   "execution_count": 46,
   "metadata": {},
   "outputs": [
    {
     "data": {
      "text/plain": [
       "tensor([[2.7270e-12]], grad_fn=<MulBackward0>)"
      ]
     },
     "execution_count": 46,
     "metadata": {},
     "output_type": "execute_result"
    }
   ],
   "source": [
    "inputo = torch.tensor([[4/10,12/10,100/10,122/10]])\n",
    "policy(inputo)"
   ]
  },
  {
   "cell_type": "code",
   "execution_count": 7,
   "metadata": {},
   "outputs": [
    {
     "ename": "ValueError",
     "evalue": "Sample larger than population or is negative",
     "output_type": "error",
     "traceback": [
      "\u001b[0;31m---------------------------------------------------------------------------\u001b[0m",
      "\u001b[0;31mValueError\u001b[0m                                Traceback (most recent call last)",
      "Cell \u001b[0;32mIn[7], line 2\u001b[0m\n\u001b[1;32m      1\u001b[0m \u001b[39m# Runtthe Model \u001b[39;00m\n\u001b[0;32m----> 2\u001b[0m states, a, rewards \u001b[39m=\u001b[39m rbuffer\u001b[39m.\u001b[39;49msample()\n\u001b[1;32m      3\u001b[0m rates \u001b[39m=\u001b[39m policy(states)\n\u001b[1;32m      4\u001b[0m \u001b[39mprint\u001b[39m(\u001b[39m\"\u001b[39m\u001b[39mRates Selected are :\u001b[39m\u001b[39m\"\u001b[39m,rates)\n",
      "Cell \u001b[0;32mIn[2], line 51\u001b[0m, in \u001b[0;36mReplayBuffer.sample\u001b[0;34m(self)\u001b[0m\n\u001b[1;32m     50\u001b[0m \u001b[39mdef\u001b[39;00m \u001b[39msample\u001b[39m(\u001b[39mself\u001b[39m):\n\u001b[0;32m---> 51\u001b[0m     experiences \u001b[39m=\u001b[39m random\u001b[39m.\u001b[39;49msample(\u001b[39mself\u001b[39;49m\u001b[39m.\u001b[39;49mmemory, k\u001b[39m=\u001b[39;49m\u001b[39mself\u001b[39;49m\u001b[39m.\u001b[39;49mbatch_size)\n\u001b[1;32m     52\u001b[0m     states \u001b[39m=\u001b[39m  torch\u001b[39m.\u001b[39mempty((\u001b[39mself\u001b[39m\u001b[39m.\u001b[39mbatch_size,\u001b[39m2\u001b[39m\u001b[39m*\u001b[39m\u001b[39m*\u001b[39m\u001b[39m2\u001b[39m))\u001b[39m# TODO Remove hard code to the number of entries in generator matrix\u001b[39;00m\n\u001b[1;32m     54\u001b[0m     \u001b[39m# The states will be encoded as tensors\u001b[39;00m\n",
      "File \u001b[0;32m~/miniforge3/envs/rs39/lib/python3.9/random.py:449\u001b[0m, in \u001b[0;36mRandom.sample\u001b[0;34m(self, population, k, counts)\u001b[0m\n\u001b[1;32m    447\u001b[0m randbelow \u001b[39m=\u001b[39m \u001b[39mself\u001b[39m\u001b[39m.\u001b[39m_randbelow\n\u001b[1;32m    448\u001b[0m \u001b[39mif\u001b[39;00m \u001b[39mnot\u001b[39;00m \u001b[39m0\u001b[39m \u001b[39m<\u001b[39m\u001b[39m=\u001b[39m k \u001b[39m<\u001b[39m\u001b[39m=\u001b[39m n:\n\u001b[0;32m--> 449\u001b[0m     \u001b[39mraise\u001b[39;00m \u001b[39mValueError\u001b[39;00m(\u001b[39m\"\u001b[39m\u001b[39mSample larger than population or is negative\u001b[39m\u001b[39m\"\u001b[39m)\n\u001b[1;32m    450\u001b[0m result \u001b[39m=\u001b[39m [\u001b[39mNone\u001b[39;00m] \u001b[39m*\u001b[39m k\n\u001b[1;32m    451\u001b[0m setsize \u001b[39m=\u001b[39m \u001b[39m21\u001b[39m        \u001b[39m# size of a small set minus size of an empty list\u001b[39;00m\n",
      "\u001b[0;31mValueError\u001b[0m: Sample larger than population or is negative"
     ]
    }
   ],
   "source": [
    "# Runtthe Model \n",
    "states, a, rewards = rbuffer.sample()\n",
    "rates = policy(states)\n",
    "print(\"Rates Selected are :\",rates)\n",
    "\n",
    "#P(error | path, \\Deleta)\n",
    "tperror = np.zeros(len(samp_rates))\n",
    "bloop = []\n",
    "numerical_errors = []\n",
    "# For Now we will focus on Type I error  because H1 should always be preferred. \n",
    "for i in tqdm(np.arange(len(samp_rates))):\n",
    "    sr = samp_rates[i]\n",
    "    #num = true_p1s[i][0,0] if true_p0s[i][0,0] > true_p1s[i][0,0] else true_p0s[i][0,0]\n",
    "    num = true_p0s[i][0,0] \n",
    "    denum = true_p0s[i][0,0] + true_p1s[i][0,0]\n",
    "    tperror[i] = num/denum\n",
    "\n",
    "\n",
    "# Get the Numerical Erros\n",
    "plt.plot(samp_rates, numerical_errors,color='green')\n",
    "plt.plot(samp_rates, tperror, color='orange')\n",
    "plt.xscale('log',base=2)\n",
    "#plt.ylim((0,1))\n",
    "plt.show()\n",
    "\n"
   ]
  },
  {
   "cell_type": "code",
   "execution_count": null,
   "metadata": {},
   "outputs": [],
   "source": []
  }
 ],
 "metadata": {
  "kernelspec": {
   "display_name": "Python 3",
   "language": "python",
   "name": "python3"
  },
  "language_info": {
   "codemirror_mode": {
    "name": "ipython",
    "version": 3
   },
   "file_extension": ".py",
   "mimetype": "text/x-python",
   "name": "python",
   "nbconvert_exporter": "python",
   "pygments_lexer": "ipython3",
   "version": "3.9.15"
  },
  "orig_nbformat": 4
 },
 "nbformat": 4,
 "nbformat_minor": 2
}
