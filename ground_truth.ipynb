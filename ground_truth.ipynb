{
 "cells": [
  {
   "attachments": {},
   "cell_type": "markdown",
   "metadata": {},
   "source": [
    "# Introduction\n",
    "\n",
    "This file will show us the ground truth that Ernest Provided in Matlab. Hopefully we can automate it a bit futher than this:"
   ]
  },
  {
   "attachments": {},
   "cell_type": "markdown",
   "metadata": {},
   "source": [
    "Previously we had mentioned about the ability for us to work with expectation across paths. This is a general case of the approach that Ernest\n",
    "showed us in the previous meeting. \n",
    "Let us begin with:\n",
    "$$\n",
    "\\begin{align*}\n",
    "P(\\text{error} | \\Delta) &= \\sum_{\\rho\\in \\mathcal{P}} P(\\epsilon , \\rho | \\Delta)\\\\\n",
    "    &=\\sum_{\\rho\\in \\mathcal{P}} P(\\epsilon | \\rho , \\Delta)P(\\rho | \\Delta)\\\\\n",
    "    &=\\sum_{\\rho\\in \\mathcal{P}} P(\\epsilon | \\rho , \\Delta)P_\\Delta(\\rho)\\\\\n",
    "    &=\\mathbb{E}\\left[P(\\epsilon | \\rho , \\Delta)\\right]\\\\\n",
    "\\end{align*}\n",
    "$$"
   ]
  },
  {
   "attachments": {},
   "cell_type": "markdown",
   "metadata": {},
   "source": [
    "Alas we obtain an expection of error $\\epsilon$ over all the possible paths $\\rho$. \n",
    "\n",
    "Let's expand each term for binary hypothesis testing as follows:\n",
    "$$\n",
    "\\begin{align}\n",
    "P(\\epsilon | \\rho, \\Delta) &= P(\\epsilon_{I} | \\rho, \\Delta) + P(\\epsilon_{II} | \\rho, \\Delta)\\\\\n",
    "    &= P(\\hat{H} = 0 , H^*=1| \\rho, \\Delta) + P(\\hat{H} = 1 , H^*=0| \\rho, \\Delta)\\\\\n",
    "\\end{align}\n",
    "$$"
   ]
  },
  {
   "attachments": {},
   "cell_type": "markdown",
   "metadata": {},
   "source": [
    "A critical observation to be made here is that $\\hat{H}|\\rho \\perp H^*|\\rho$. This is because at the moment that we have observed our path $\\rho$ the decision function collapases and becomes completely determined and independent of the hypothesis. \n",
    "Furthermore, the probability of selecting a hypothesis is such that $P(\\hat{H}=i) \\in \\{0,1\\}$. We thus end up with \n",
    "$$\n",
    "\\begin{align}\n",
    "P(\\epsilon|\\rho,\\Delta) &= P(\\hat{H} = 0 | \\rho, \\Delta) P(H^* = 1 | \\rho, \\Delta) + P(\\hat{H} = 1 | \\rho, \\Delta) P(H^* = 0 | \\rho, \\Delta)\\\\\n",
    "    &= P(\\hat{H} = 0 | \\rho, \\Delta) P(H^* = 1 | \\rho, \\Delta) + P(\\hat{H} = 1 | \\rho, \\Delta) P(H^* = 0 | \\rho, \\Delta)\\\\\n",
    "    &= P(\\hat{H} = i | \\rho, \\Delta) P(H^* = j | \\rho, \\Delta) \\\\\n",
    "    &= P(H^* = j | \\rho, \\Delta) \\\\\n",
    "\\end{align}\n",
    "$$\n",
    "Where only one term will be non-zero, the one where $P(\\hat{H}|\\rho, \\Delta) = 1$\n",
    "Where $j$ must be such $j\\neq i$"
   ]
  },
  {
   "attachments": {},
   "cell_type": "markdown",
   "metadata": {},
   "source": [
    "\n",
    "\n",
    "WIth Ernest's Derivation we have:\n",
    "\n",
    "$$\n",
    "\\begin{align*}\n",
    "P(\\epsilon| \\rho, \\Delta) &= P(H^* = j | \\rho, \\Delta) =\\frac{P(H^*=j, \\rho|\\Delta)}{P(\\rho | \\Delta)}\\\\\n",
    "    &=\\frac{P(\\rho|H^*=j,\\Delta)P(H^*=j|\\Delta)}{P(\\rho | \\Delta)}\\\\\n",
    "    &=\\frac{P^{(j)}_\\Delta(\\rho)\\frac{1}{|\\mathcal{H}|}}{P(\\rho | \\Delta)}\n",
    "\\end{align*}\n",
    "$$\n",
    "\n",
    "Notice that the only stochasticity in this system comes from the prior for the hypotheses $\\{\\mathcal{H}_i\\}^N$\n",
    "\n",
    "**ACTUALLY** I think this is not quite correct. The probability of observing a path $\\rho$ changes as the chain evolves."
   ]
  },
  {
   "attachments": {},
   "cell_type": "markdown",
   "metadata": {},
   "source": [
    "Then for the numerator\n",
    "\n",
    "$$\n",
    "\\begin{align*}\n",
    "P(H^* = j, \\rho| \\Delta) &= P(\\rho | H^* = j, \\Delta)\\frac{1}{|\\mathcal{H}|}\\\\\n",
    "    &= P(S_1 = 0, S_0 = 0 | H^* = j , \\Delta)\\frac{1}{|\\mathcal{H}|}\\\\\n",
    "    &= P(S_1 = 0| S_0 = 0 , H^* = j , \\Delta)P(S_0 = 0 | H^* = j, \\Delta)\\frac{1}{|\\mathcal{H}|}\\\\\n",
    "    &= P(S_1 = 0| S_0 = 0 , H^* = j , \\Delta)1\\frac{1}{|\\mathcal{H}|}\\\\\n",
    "\\end{align*}\n",
    "$$"
   ]
  },
  {
   "attachments": {},
   "cell_type": "markdown",
   "metadata": {},
   "source": [
    "Okay so we can go back to the way $\\rho$ changes as the chain evolves. For now, we can simplify the denum as :\n",
    "\n",
    "$$\n",
    "\\begin{align*}\n",
    "P(\\rho|\\Delta) &= P(S_1 = 0 , S_0 = 0 | \\Delta)\\\\\n",
    "    &= \\sum_{i\\in|\\mathcal{H}|} P(S_1 = 0, S_0 = 0 , H_i| \\Delta)\\\\\n",
    "    &= \\sum_{i\\in|\\mathcal{H}|} P(S_1 = 0, S_0 = 0|H_i,\\Delta)P(H_i|\\Delta)\\\\\n",
    "    &= \\sum_{i\\in|\\mathcal{H}|} P(S_1 = 0| S_0 = 0,H_i,\\Delta)P(S_0 = 0|H_i,\\Delta)\\frac{1}{|H_i|}\\\\\n",
    "    &= \\sum_{i\\in|\\mathcal{H}|} P(S_1 = 0| S_0 = 0,H_i,\\Delta)1\\frac{1}{|H_i|}\\\\\n",
    "\\end{align*}\n",
    "$$"
   ]
  },
  {
   "attachments": {},
   "cell_type": "markdown",
   "metadata": {},
   "source": [
    "Then In that we case for when preference is for $\\mathcal{H}_1$.\n",
    "\n",
    "$$\n",
    "P(\\epsilon | \\rho, \\Delta) = \\frac{P(S_1 = 0| S_0 = 0 , H^* = 2 , \\Delta)}{\\sum_i P(S_1 = 0| S_0 = 0,H_i,\\Delta)}\n",
    "$$\n",
    "$$\n",
    "P(\\epsilon | \\rho, \\Delta) = \\frac{P^j_\\Delta(S_1 = 0| S_0 = 0)}{\\sum P^i_\\Delta(S_1 = 0| S_0 = 0)}\n",
    "$$\n"
   ]
  },
  {
   "attachments": {},
   "cell_type": "markdown",
   "metadata": {},
   "source": [
    "\n",
    "Now here is where i am not entirely sure about my derivation. \n",
    "\n",
    "Tying it all together we have \n",
    "\n",
    "$$\n",
    "\\begin{align}\n",
    "P(\\epsilon| \\Delta) &= \\mathbb{E}\\left[P(\\epsilon|p,\\Delta)\\right]\\\\\n",
    "    &= \\mathbb{E}\\left[\\frac{P^{(j)}_\\Delta(\\rho)\\frac{1}{|\\mathcal{H}|}}{P(\\rho | \\Delta)}\\right]\n",
    "\\end{align}\n",
    "$$"
   ]
  },
  {
   "attachments": {},
   "cell_type": "markdown",
   "metadata": {},
   "source": [
    "## Lets Generalize this a bit\n",
    "\n",
    "We want to start with \n",
    "\n",
    "$$\n",
    "\\begin{align}\n",
    "P(\\epsilon | \\Rho, \\Delta) =\\frac{P^{(j)}_\\Delta(\\rho)\\frac{1}{|\\mathcal{H}|}}{P(\\rho | \\Delta)}\n",
    "\\end{align}\n",
    "$$\n",
    "\n",
    "then use this for a path $\\rho$ of $n$ states. See what is the error probability that we get for this particular path. \n",
    "From the fact that decision function collapses to deterministic once a path is observed\n",
    "\n",
    "We write"
   ]
  },
  {
   "attachments": {},
   "cell_type": "markdown",
   "metadata": {},
   "source": [
    "# Numerical Experiments"
   ]
  },
  {
   "cell_type": "code",
   "execution_count": 1,
   "metadata": {},
   "outputs": [],
   "source": [
    "import numpy as np\n",
    "import sys\n",
    "import matplotlib.pyplot as plt\n",
    "import datetime\n",
    "import argparse\n",
    "from sklearn.metrics import roc_curve\n",
    "from math import factorial\n",
    "from scipy.linalg import expm\n",
    "import sp_sims\n",
    "from sp_sims.simulators.stochasticprocesses import *\n",
    "from sp_sims.statistics.statistics import *\n",
    "from sp_sims.estimators.algos import *\n",
    "from IPython.display import clear_output\n",
    "from sp_sims.sanitycheck.truebirthdeath import *\n",
    "#from sp_sims.utils.utils import *\n",
    "import random\n",
    "from tqdm.notebook import tqdm\n",
    "from time import sleep\n",
    "import time"
   ]
  },
  {
   "cell_type": "code",
   "execution_count": 2,
   "metadata": {},
   "outputs": [
    {
     "data": {
      "text/plain": [
       "<module 'sp_sims.statistics.statistics' from '/Users/rac716/Research/RL_RateOptimization/sp_sims/statistics/statistics.py'>"
      ]
     },
     "execution_count": 2,
     "metadata": {},
     "output_type": "execute_result"
    }
   ],
   "source": [
    "import importlib\n",
    "importlib.reload(sp_sims.simulators.stochasticprocesses)\n",
    "importlib.reload(sp_sims.statistics.statistics)"
   ]
  },
  {
   "cell_type": "code",
   "execution_count": 3,
   "metadata": {},
   "outputs": [],
   "source": [
    "%load_ext autoreload\n",
    "%autoreload 2"
   ]
  },
  {
   "attachments": {},
   "cell_type": "markdown",
   "metadata": {},
   "source": [
    "## Prepping"
   ]
  },
  {
   "cell_type": "code",
   "execution_count": 4,
   "metadata": {},
   "outputs": [],
   "source": [
    "# We may change args here:\n",
    "class Args:\n",
    "  xres = 100\n",
    "  length = 3000# Number of transitions in continuous chain \n",
    "  state_limit = 1#Inclusive\n",
    "  init_state = 0\n",
    "  num_samples =2\n",
    "  detection_guesses =1000\n",
    "args = Args()"
   ]
  },
  {
   "cell_type": "code",
   "execution_count": 5,
   "metadata": {},
   "outputs": [],
   "source": [
    "# Some Util Functions\n",
    "def take_a_guess(tape, p0, p1):\n",
    "    num = 0\n",
    "    denum = 0\n",
    "    # num = 1\n",
    "    # denum = 1\n",
    "    for i in range(len(tape)-1):\n",
    "        from_state = tape[i]\n",
    "        to_state = tape[i+1]\n",
    "        # num  *= p0[from_state,to_state]\n",
    "        # denum *= p1[from_state,to_state]\n",
    "        num += np.log(p0[from_state,to_state])\n",
    "        denum += np.log(p1[from_state,to_state])\n",
    "\n",
    "    return 0 if num > denum else 1\n",
    "def return_ls(tape, p0, p1):\n",
    "    num = 1\n",
    "    denum = 1\n",
    "    for i in range(len(tape)-1):\n",
    "        from_state = tape[i]\n",
    "        to_state = tape[i+1]\n",
    "        num  *= p0[from_state,to_state]\n",
    "        denum *= p1[from_state,to_state]\n",
    "    return num,denum\n",
    "def stats_for_single_22paths(sts,hts,samp_rate, p0s, p1s, path = [0,0]):\n",
    "    # Take all Paths \n",
    "    # This count how many i->j transitiosn per hypothesis are encountered\n",
    "    hyp_counts = np.zeros(2) # 2 For 2 number of hypothesis\n",
    "    # Dice them for sampling rates\n",
    "    for i,p in enumerate(sts):\n",
    "        idx_true_hyp = true_values[i]\n",
    "        sampled_tape = quick_sample(samp_rate, sts[i],hts[i])\n",
    "\n",
    "        count = ((tmpSampTape[:-1] == path[0]) & (tmpSampTape[1] == path[1])).sum()\n",
    "        hyp_counts[idx_true_hyp] += count\n",
    "\n",
    "    return hyp_counts\n"
   ]
  },
  {
   "cell_type": "code",
   "execution_count": 6,
   "metadata": {},
   "outputs": [],
   "source": [
    "# Some Setup \n",
    "#rates0 = {\"lam\": 2/10,\"mu\":4/10}\n",
    "#rates1 = {\"lam\": 100/10,\"mu\":120/10}\n",
    "np.random.seed(int(time.time()))\n",
    "rates0 = {\"lam\": 1,\"mu\":1.5}\n",
    "rates1 = {\"lam\": 0.9,\"mu\":1.1}\n",
    "rates = [rates0,rates1]\n",
    "samp_rates = np.logspace(-3,5,args.xres, base=2)\n",
    "tgm0 = np.array([[-rates0['lam'],rates0['lam']],[rates0['mu'],-rates0['mu']]])\n",
    "tgm1 = np.array([[-rates1['lam'],rates1['lam']],[rates1['mu'],-rates1['mu']]])\n",
    "\n",
    "\n",
    "hts, sts = ([],[])\n",
    "last_times  = []\n",
    "true_values = np.random.choice(2,args.detection_guesses)\n",
    "# Generate The Tapes\n",
    "for i in range(args.detection_guesses):\n",
    "    roe = RaceOfExponentials(args.length,rates[true_values[i]],state_limit=args.state_limit)\n",
    "    holdTimes_tape, state_tape = roe.generate_history(args.init_state)\n",
    "    hts.append(holdTimes_tape);\n",
    "    sts.append(state_tape)\n",
    "    last_times.append(np.cumsum(holdTimes_tape)[-1])\n"
   ]
  },
  {
   "cell_type": "code",
   "execution_count": 7,
   "metadata": {},
   "outputs": [],
   "source": [
    "# Preparation of True Probabilities\n",
    "true_p0s = []\n",
    "true_p1s = []\n",
    "fixed_guesses = np.ones((len(samp_rates), args.detection_guesses))\n",
    "# Crete all the *known* probability functions.\n",
    "for srIdx, cur_samp_rate in enumerate(samp_rates):\n",
    "    true_p0s.append(expm(tgm0*(1/cur_samp_rate)))\n",
    "    true_p1s.append(expm(tgm1*(1/cur_samp_rate)))"
   ]
  },
  {
   "attachments": {},
   "cell_type": "markdown",
   "metadata": {},
   "source": [
    "## Sampling of Paths"
   ]
  },
  {
   "attachments": {},
   "cell_type": "markdown",
   "metadata": {},
   "source": [
    "## Quick Sample"
   ]
  },
  {
   "cell_type": "code",
   "execution_count": 8,
   "metadata": {},
   "outputs": [
    {
     "name": "stdout",
     "output_type": "stream",
     "text": [
      "Sampling at fastest rate :  32.0\n"
     ]
    },
    {
     "data": {
      "application/vnd.jupyter.widget-view+json": {
       "model_id": "cfff5958be0843c3900ce827adddafcd",
       "version_major": 2,
       "version_minor": 0
      },
      "text/plain": [
       "  0%|          | 0/1000 [00:00<?, ?it/s]"
      ]
     },
     "metadata": {},
     "output_type": "display_data"
    },
    {
     "name": "stdout",
     "output_type": "stream",
     "text": [
      "Decimating and collecting stats...\n"
     ]
    }
   ],
   "source": [
    "########################################\n",
    "# Generation\n",
    "########################################\n",
    "base_samp_rate = samp_rates[-1]\n",
    "# LIkelihoods in 2D. On First Axis Sampling Rates, On Second Axis number of guesses\n",
    "# Go Over the Detection Guesses\n",
    "path_of_interest = [0,0]\n",
    "print(\"Sampling at fastest rate : \", base_samp_rate)\n",
    "sampled_tapes = []\n",
    "# Sample All Tapes\n",
    "for i in tqdm(range(len(sts))):\n",
    "    sampled_tapes.append(quick_sample(base_samp_rate, sts[i],hts[i],max_samples=np.inf))\n",
    "#sampled_tapes = (simple_sample(base_samp_rate, sts[0],hts[0],max_samples=args.max_samples), simple_sample(base_samp_rate, sts[1],hts[1], max_samples=args.max_samples))\n",
    "print(\"Decimating and collecting stats...\")"
   ]
  },
  {
   "cell_type": "code",
   "execution_count": 9,
   "metadata": {},
   "outputs": [
    {
     "data": {
      "application/vnd.jupyter.widget-view+json": {
       "model_id": "3004682924364b1884f10682bf742c67",
       "version_major": 2,
       "version_minor": 0
      },
      "text/plain": [
       "  0%|          | 0/1000 [00:00<?, ?it/s]"
      ]
     },
     "metadata": {},
     "output_type": "display_data"
    }
   ],
   "source": [
    "# Do Decimation here.\n",
    "path_hyp_counts = np.zeros((len(samp_rates),2)) # 2 for number of hypothesis\n",
    "for i in tqdm(np.arange(args.detection_guesses)):\n",
    "    idx_true_hyp = true_values[i]\n",
    "    # Prepare for Decimation: First sample with the quickest rate. -> Smallest Unit of Time Interval\n",
    "    # Go Over the \n",
    "    for srIdx, cur_samp_rate in enumerate(samp_rates):\n",
    "        # Fetch Values for Current Rate\n",
    "        \n",
    "        # How many of the baseline intervals fit into the slow rate interval\n",
    "        decimateInterval = int(base_samp_rate/cur_samp_rate)\n",
    "\n",
    "        displacement = 0\n",
    "        sampling_point = displacement+ (1/cur_samp_rate)\n",
    "\n",
    "        # Look For Holding Time\n",
    "        cumtimes = np.cumsum(hts[i])\n",
    "        idx_state = np.searchsorted(cumtimes,sampling_point)\n",
    "        count = sts[i][idx_state] == path_of_interest[1]\n",
    "        \n",
    "        path_hyp_counts[srIdx,idx_true_hyp] += count"
   ]
  },
  {
   "attachments": {},
   "cell_type": "markdown",
   "metadata": {},
   "source": [
    "## Data Processing"
   ]
  },
  {
   "attachments": {},
   "cell_type": "markdown",
   "metadata": {},
   "source": [
    "## 0-0 Error Probability\n",
    "\n",
    "At this point we want to test the single error equation that we derived before:\n",
    "\n",
    "$$\n",
    "P(\\epsilon| \\rho, \\Delta) =\\frac{P^{(j)}_\\Delta(\\rho)\\frac{1}{|\\mathcal{H}|}}{P(\\rho | \\Delta)}\n",
    "$$\n"
   ]
  },
  {
   "cell_type": "code",
   "execution_count": 10,
   "metadata": {},
   "outputs": [],
   "source": [
    "# For A single Path\n",
    "fixed_fprs = []\n",
    "fixed_fnrs = []\n",
    "\n",
    "# For each Guess Run, what is the correct hypothesis.\n",
    "num_tnegs = np.sum(true_values == 0)#TN + FP\n",
    "num_tpos = np.sum(true_values == 1)#TP + FN\n",
    "\n",
    "for srIdx, cur_samp_rate in enumerate(samp_rates):\n",
    "    # Will be fixed for a fixed path\n",
    "    guesses = fixed_guesses[srIdx]\n",
    "\n",
    "    hits_index = (true_values == guesses)\n",
    "    tp = (true_values[hits_index] == 1).sum()\n",
    "    tn = (true_values[hits_index] == 0).sum()\n",
    "    \n",
    "    # Type I and II errors.\n",
    "    fixed_fprs.append((num_tnegs-tn)/(num_tnegs))\n",
    "    fixed_fnrs.append((num_tpos-tp)/(num_tpos))# Type 2 Error\n"
   ]
  },
  {
   "attachments": {},
   "cell_type": "markdown",
   "metadata": {},
   "source": [
    "### Plot Results"
   ]
  },
  {
   "cell_type": "code",
   "execution_count": 11,
   "metadata": {},
   "outputs": [
    {
     "data": {
      "application/vnd.jupyter.widget-view+json": {
       "model_id": "c82082cba650442aaf2d82532bdefaa0",
       "version_major": 2,
       "version_minor": 0
      },
      "text/plain": [
       "  0%|          | 0/100 [00:00<?, ?it/s]"
      ]
     },
     "metadata": {},
     "output_type": "display_data"
    },
    {
     "data": {
      "image/png": "[encoded data removed]",
      "text/plain": [
       "<Figure size 640x480 with 1 Axes>"
      ]
     },
     "metadata": {},
     "output_type": "display_data"
    }
   ],
   "source": [
    "tperror = np.zeros(len(samp_rates))\n",
    "numerical_errors = []\n",
    "# For Now we will focus on Type I error  because H1 should always be preferred. \n",
    "for i in tqdm(np.arange(len(samp_rates))):\n",
    "    sr = samp_rates[i]\n",
    "    num = true_p1s[i][0,0] if true_p0s[i][0,0] > true_p1s[i][0,0] else true_p0s[i][0,0]\n",
    "    num = true_p0s[i][0,0] \n",
    "    denum = true_p0s[i][0,0] + true_p1s[i][0,0]\n",
    "    tperror[i] = num/denum\n",
    "\n",
    "\n",
    "# Get the Numerical Erros\n",
    "numerical_errors = (path_hyp_counts[:,0]) / (path_hyp_counts).sum(axis=1)\n",
    "\n",
    "plt.plot(samp_rates, numerical_errors,color='green', label='Numerical')\n",
    "plt.plot(samp_rates, tperror, color='orange', label='Theoretical Error')\n",
    "plt.xscale('log',base=2)\n",
    "plt.ylabel('Probability of Error')\n",
    "plt.xlabel('Sampling Rate')\n",
    "plt.legend()\n",
    "plt.show()"
   ]
  },
  {
   "attachments": {},
   "cell_type": "markdown",
   "metadata": {},
   "source": [
    "## > 2 Step Paths:\n",
    "\n",
    "This is for us to compute\n",
    "\n",
    "$$\n",
    "P(\\epsilon| \\Delta) \n",
    "    = \\mathbb{E}\\left[\\frac{P^{(j)}_\\Delta(\\rho)\\frac{1}{|\\mathcal{H}|}}{P(\\rho | \\Delta)}\\right]\n",
    "$$"
   ]
  },
  {
   "cell_type": "code",
   "execution_count": 12,
   "metadata": {},
   "outputs": [],
   "source": [
    "# We may change args here:\n",
    "class Args:\n",
    "  xres = 100\n",
    "  length = 1000# Number of transitions in continuous chain \n",
    "  state_limit = 1#Inclusive\n",
    "  init_state = 0\n",
    "  num_samples =5\n",
    "  detection_guesses =1000\n",
    "args = Args()"
   ]
  },
  {
   "cell_type": "code",
   "execution_count": 13,
   "metadata": {},
   "outputs": [],
   "source": [
    "def prob_of_path(path,  p0,p1):\n",
    "    # Take two possible hypothesis\n",
    "    num = 1\n",
    "    denum = 1\n",
    "    for i in range(len(path)-1):\n",
    "        from_state = path[i]\n",
    "        to_state = path[i+1]\n",
    "        num  *= p0[from_state,to_state]\n",
    "        denum *= p1[from_state,to_state]\n",
    "    # Return the least preferred one\n",
    "    return num if denum > num else denum"
   ]
  },
  {
   "attachments": {},
   "cell_type": "markdown",
   "metadata": {},
   "source": [
    "### Theoretical Error"
   ]
  },
  {
   "cell_type": "code",
   "execution_count": 17,
   "metadata": {},
   "outputs": [],
   "source": [
    "# We want to calculate the average error probability for all paths\n",
    "# We shouldn't be needing paths\n",
    "from itertools import product\n",
    "\n",
    "np.random.seed(int(time.time()))\n",
    "#num_steps = args.length\n",
    "#num_states = args.state_limit+1\n",
    "num_steps = args.num_samples\n",
    "num_states = 2\n",
    "\n",
    "states = np.arange(num_states)\n",
    "samp_rates = np.logspace(-3,5,args.xres, base=2)\n",
    "rates0 = {\"lam\": 4/10,\"mu\":12/10}\n",
    "rates1 = {\"lam\": 100/10,\"mu\":122/10}\n",
    "\n",
    "rates = [rates0,rates1]\n",
    "\n",
    "tgm0 = np.array([[-rates0['lam'],rates0['lam']],[rates0['mu'],-rates0['mu']]])\n",
    "tgm1 = np.array([[-rates1['lam'],rates1['lam']],[rates1['mu'],-rates1['mu']]])\n",
    "\n",
    "hts, sts = ([],[])\n",
    "last_times  = []\n",
    "true_values = np.random.choice(2,args.detection_guesses)\n",
    "# Generate The Tapes\n",
    "for i in range(args.detection_guesses):\n",
    "    roe = RaceOfExponentials(args.length,rates[true_values[i]],state_limit=args.state_limit)\n",
    "    holdTimes_tape, state_tape = roe.generate_history(args.init_state)\n",
    "    hts.append(holdTimes_tape)\n",
    "    sts.append(state_tape)\n",
    "    last_times.append(np.cumsum(holdTimes_tape)[-1])\n",
    "\n",
    "# Preparation of True Probabilities\n",
    "true_p0s = []\n",
    "true_p1s = []\n",
    "fixed_guesses = np.ones((len(samp_rates), args.detection_guesses))\n",
    "# Crete all the *known* probability functions.\n",
    "for srIdx, cur_samp_rate in enumerate(samp_rates):\n",
    "    true_p0s.append(expm(tgm0*(1/cur_samp_rate)))\n",
    "    true_p1s.append(expm(tgm1*(1/cur_samp_rate)))\n",
    "\n",
    "# Generate\n",
    "# TODO decrease memory consumption by only using iterators\n",
    "paths = np.array(list(product(states, repeat=num_steps-1)))\n",
    "paths = np.concatenate([np.repeat([[0]],repeats=paths.shape[0], axis=0), paths], axis=1)\n",
    "probs = []\n",
    "\n",
    "# Sum them up and that should be your probability \n",
    "for srIdx, cur_samp_rate in enumerate(samp_rates):\n",
    "    probs.append(np.sum(np.apply_along_axis(prob_of_path, 1, paths, true_p0s[srIdx],true_p1s[srIdx])))"
   ]
  },
  {
   "attachments": {},
   "cell_type": "markdown",
   "metadata": {},
   "source": [
    "### Numerical/Experimental Errors"
   ]
  },
  {
   "cell_type": "code",
   "execution_count": 42,
   "metadata": {},
   "outputs": [
    {
     "ename": "ImportError",
     "evalue": "cannot import name 'quick_sample_lessmem' from 'sp_sims.statistics' (/Users/rac716/Research/RL_RateOptimization/sp_sims/statistics/__init__.py)",
     "output_type": "error",
     "traceback": [
      "\u001b[0;31m---------------------------------------------------------------------------\u001b[0m",
      "\u001b[0;31mImportError\u001b[0m                               Traceback (most recent call last)",
      "Cell \u001b[0;32mIn[42], line 3\u001b[0m\n\u001b[1;32m      1\u001b[0m \u001b[39m# Redo the testing experiments\u001b[39;00m\n\u001b[1;32m      2\u001b[0m \u001b[39mfrom\u001b[39;00m \u001b[39msp_sims\u001b[39;00m\u001b[39m.\u001b[39;00m\u001b[39mdetectors\u001b[39;00m\u001b[39m.\u001b[39;00m\u001b[39mpearsonneyman\u001b[39;00m \u001b[39mimport\u001b[39;00m \u001b[39m*\u001b[39m\n\u001b[0;32m----> 3\u001b[0m \u001b[39mfrom\u001b[39;00m \u001b[39msp_sims\u001b[39;00m\u001b[39m.\u001b[39;00m\u001b[39mstatistics\u001b[39;00m \u001b[39mimport\u001b[39;00m quick_sample_lessmem\n\u001b[1;32m      4\u001b[0m true_values \u001b[39m=\u001b[39m np\u001b[39m.\u001b[39mrandom\u001b[39m.\u001b[39mchoice(\u001b[39m2\u001b[39m,args\u001b[39m.\u001b[39mdetection_guesses)\n\u001b[1;32m      6\u001b[0m np\u001b[39m.\u001b[39mrandom\u001b[39m.\u001b[39mseed(\u001b[39m0\u001b[39m)\n",
      "\u001b[0;31mImportError\u001b[0m: cannot import name 'quick_sample_lessmem' from 'sp_sims.statistics' (/Users/rac716/Research/RL_RateOptimization/sp_sims/statistics/__init__.py)"
     ]
    }
   ],
   "source": [
    "# Redo the testing experiments\n",
    "from sp_sims.detectors.pearsonneyman import *\n",
    "from sp_sims.statistics.statistics import quick_sample_lessmem\n",
    "true_values = np.random.choice(2,args.detection_guesses)\n",
    "\n",
    "np.random.seed(0)\n",
    "hts, sts = ([],[])\n",
    "last_times  = []\n",
    "\n",
    "base_samp_rate = samp_rates[-1]\n",
    "\n",
    "for i in range(args.detection_guesses):\n",
    "    roe = RaceOfExponentials(args.length,rates[true_values[i]],state_limit=args.state_limit)\n",
    "    holdTimes_tape, state_tape = roe.generate_history(args.init_state)\n",
    "    hts.append(holdTimes_tape); sts.append(state_tape)\n",
    "    last_times.append(np.cumsum(holdTimes_tape)[-1])\n",
    "\n",
    "# Go Over the Detection Guesses\n",
    "guesses = np.zeros((len(samp_rates), args.detection_guesses))\n",
    "min_length = np.inf\n",
    "for i in tqdm(np.arange(args.detection_guesses)):\n",
    "    \n",
    "    # Prepare for Decimation: First sample with the quickest rate. -> Smallest Unit of Time Interval\n",
    "    #sampled_tape = quick_sample(base_samp_rate, sts[i],hts[i])\n",
    "    # Go Over the \n",
    "    for srIdx, cur_samp_rate in enumerate(samp_rates):\n",
    "        # Fetch Values for Current Rate\n",
    "        true_p0 = true_p0s[srIdx]\n",
    "        true_p1 = true_p1s[srIdx]\n",
    "        \n",
    "        #LG: How many of the baseline intervals fit into the slow rate interval\n",
    "        decimateInterval = int(base_samp_rate/cur_samp_rate)\n",
    "        #tmpSampTape = sampled_tape[0::decimateInterval]\n",
    "        # If you use decimation you get a less accurate \n",
    "        tmpSampTape, replicas = quick_sample_lessmem(cur_samp_rate, sts[i],hts[i], max_samples = args.num_samples)\n",
    "        # Limit the Sample\n",
    "        ############################################\n",
    "        # Option 2 with limited number of samples ##\n",
    "        ############################################\n",
    "        #limited_sampled_tape = tmpSampTape[0:args.num_samples]\n",
    "        min_length = np.min([len(limited_sampled_tape), min_length])# Debugging Stat\n",
    "        #guesses[srIdx, i] = take_a_guess(limited_sampled_tape,replicas true_p0, true_p1)\n",
    "\n",
    "        guesses[srIdx, i] = multiplicity_guess(limited_sampled_tape,replicas, true_p0, true_p1)\n",
    "\n",
    "num_negs = np.sum(true_values == 0)#TN + FP\n",
    "num_pos = np.sum(true_values == 1)#TP + FN\n",
    "print(\"Min Length reached is \", min_length)\n",
    "\n",
    "fprs,fnrs = ([],[])\n",
    "hit_rates = []\n",
    "\n",
    "for srIdx, cur_samp_rate in enumerate(samp_rates):\n",
    "    guess = guesses[srIdx]\n",
    "    hits_index = (true_values == guess)\n",
    "    tp = (true_values[hits_index] == 1).sum()\n",
    "    tn = (true_values[hits_index] == 0).sum()\n",
    "    # False Positive and Negative Rates\n",
    "    fprs.append((num_negs-tn)/(num_negs))\n",
    "    fnrs.append((num_pos-tp)/(num_pos))# Type 2 Error\n",
    "    num_hits = (true_values == guess).sum()\n",
    "    hit_rates.append(num_hits/args.detection_guesses)\n",
    "fprs = np.array(fprs)\n",
    "fnrs = np.array(fnrs)\n",
    "tot_error = fprs+ fnrs"
   ]
  },
  {
   "cell_type": "code",
   "execution_count": 37,
   "metadata": {},
   "outputs": [
    {
     "name": "stdout",
     "output_type": "stream",
     "text": [
      "Minimum Error is obtained at 11.039833162105994\n",
      "This show that the summation of both errors is closer to monotonicity than having peaks.\n"
     ]
    },
    {
     "data": {
      "image/png": "[encoded data removed]",
      "text/plain": [
       "<Figure size 640x480 with 1 Axes>"
      ]
     },
     "metadata": {},
     "output_type": "display_data"
    }
   ],
   "source": [
    "#meep = np.apply_along_axis(prob_of_path, 1, paths, true_p0s[srIdx],true_p1s[srIdx])\n",
    "#print(len(meep))\n",
    "#print(meep)\n",
    "#plt.plot(samp_rates, hit_rates, color='red', label='Accuracy', alpha=0.2)\n",
    "#plt.plot(samp_rates, fprs, color='green', label='Type 1 Error', alpha=0.2)\n",
    "#plt.plot(samp_rates, fnrs, color='purple', label='Type 2 Error', alpha=0.2)\n",
    "plt.plot(samp_rates, tot_error, color='orange', label='Numerical Error')\n",
    "plt.plot(samp_rates, probs, label='Theoretical Error')\n",
    "plt.title('Expecterd Error(Both Type 1 and 2)')\n",
    "print('Minimum Error is obtained at {}'.format(samp_rates[np.argmin(probs)]))\n",
    "plt.xscale('log', base=2)\n",
    "plt.legend()\n",
    "plt.xlabel('Sampling Rate(Log Scale)')\n",
    "plt.ylabel('Expected Probability of Error(over Paths)')\n",
    "print('This show that the summation of both errors is closer to monotonicity than having peaks.')\n",
    "plt.show()"
   ]
  },
  {
   "cell_type": "code",
   "execution_count": null,
   "metadata": {},
   "outputs": [],
   "source": [
    "# Just Checking the Probability Per Hypothesis. \n",
    "# See If Probabilities Change:\n",
    "p00_0s = np.array([p[0,0] for p in true_p0s])\n",
    "p00_1s = np.array([p[0,0] for p in true_p1s])\n",
    "\n",
    "# Numerical(Excellent this agrees)\n",
    "plt.plot(samp_rates, path_hyp_counts[:,0]/totpath_hyp_counts[:,0], label=\"Emp_H0\")\n",
    "\n",
    "# Theoretical \n",
    "plt.plot(samp_rates, p00_0s, label=\"H_0\")\n",
    "plt.plot(samp_rates, p00_1s, label=\"H_1\")\n",
    "plt.plot(samp_rates, p00_0s/(p00_0s+p00_1s), label=\"H_1\")\n",
    "plt.legend()\n",
    "plt.title(\"P(0,0) per Hypothesis\")\n",
    "plt.xscale('log',base=2)\n",
    "plt.show()\n",
    "# Clearym in our particular case H1 is superior than Hypothesis 0 for every single sampling rate. "
   ]
  },
  {
   "cell_type": "code",
   "execution_count": null,
   "metadata": {},
   "outputs": [],
   "source": [
    "for i,j in enumerate(samp_rates):\n",
    "    clear_output(wait=True)\n",
    "    print(fixed_fprs[i])\n",
    "    print(fixed_guesses[i])\n",
    "    print(true_p0s[i])\n",
    "    print(true_p1s[i])\n",
    "    sleep(0.1)"
   ]
  },
  {
   "attachments": {},
   "cell_type": "markdown",
   "metadata": {},
   "source": [
    "# RL-Oracle"
   ]
  },
  {
   "attachments": {},
   "cell_type": "markdown",
   "metadata": {},
   "source": [
    "Issue is the things that we were feeding to our previous model. We should feeed only the hypothesis(parameters) \n",
    "and then then we can generate a lot of paths from it and see how it does with the sampling rate it choses"
   ]
  },
  {
   "cell_type": "code",
   "execution_count": null,
   "metadata": {},
   "outputs": [],
   "source": [
    "import torch\n",
    "import numpy as np\n",
    "from torch import nn\n",
    "import sp_sims\n",
    "from sp_sims.simulators.stochasticprocesses import *\n",
    "from sp_sims.statistics.statistics import *\n",
    "import torch.optim as optim\n",
    "\n",
    "from scipy.linalg import expm\n",
    "\n",
    "import importlib\n",
    "importlib.reload(sp_sims.simulators.stochasticprocesses)\n",
    "importlib.reload(sp_sims.statistics.statistics)"
   ]
  },
  {
   "cell_type": "markdown",
   "metadata": {},
   "source": [
    "## Define the Model"
   ]
  },
  {
   "cell_type": "code",
   "execution_count": null,
   "metadata": {},
   "outputs": [],
   "source": [
    "from collections import deque, namedtuple\n",
    "import torch.nn.functional as F\n",
    "import random\n",
    "class RNNContinuousPolicy(nn.Module):\n",
    "    def __init__(self, num_params,hidden_size,samp_rate_max=32):\n",
    "        super(RNNContinuousPolicy,self).__init__()\n",
    "        #self.state_limit = num_states\n",
    "        #self.fc1 = nn.Linear(num_params, hidden_size)\n",
    "        #self.fc2 = nn.Linear(hidden_size, 1)\n",
    "        self.samp_rate_max = samp_rate_max\n",
    "        self.model = nn.Sequential(\n",
    "            nn.Linear(num_params, 24),\n",
    "            nn.ReLU(),\n",
    "            nn.Linear(24, 12),\n",
    "            nn.ReLU(),\n",
    "            nn.Linear(12, 6),\n",
    "            nn.ReLU(),\n",
    "            nn.Linear(6, 1)\n",
    "        )\n",
    "\n",
    "    def forward(self, X):\n",
    "        # Prpping\n",
    "        #_,(hiddn,_) = self.rnn(X)\n",
    "        #logit = self.fc2(F.relu(self.fc1(X)))\n",
    "        logit = self.model(X)\n",
    "        output = torch.sigmoid(logit)\n",
    "        output_normalized = output*self.samp_rate_max\n",
    "        return output_normalized\n",
    "        # We are giving X as a \n",
    "\n",
    "# Critic Network\n",
    "class Critic(nn.Module):\n",
    "    def __init__(self, num_param, action_size, hidden_size):\n",
    "        super(Critic, self).__init__()\n",
    "        #self.fc1 = nn.Linear(num_param + action_size, hidden_size)\n",
    "        #self.fc2 = nn.Linear(hidden_size, 1)\n",
    "        self.model = nn.Sequential(\n",
    "            nn.Linear(num_param+action_size, 24),\n",
    "            nn.ReLU(),\n",
    "            nn.Linear(24, 12),\n",
    "            nn.ReLU(),\n",
    "            nn.Linear(12, 6),\n",
    "            nn.ReLU(),\n",
    "            nn.Linear(6, 1)\n",
    "        )\n",
    "\n",
    "    def forward(self, states, action):# States are the paremeters\n",
    "        #_,(h,_)  = self.rnn(mstates)\n",
    "        x = torch.cat((states, action), dim=1)\n",
    "        return self.model(x)\n",
    "        x = F.relu(self.fc1(x))\n",
    "        x = self.fc2(x)\n",
    "        return torch.sigmoid(x)*10\n",
    "# Replay buffer\n",
    "\n",
    "class ReplayBuffer:\n",
    "\n",
    "    def __init__(self, buffer_size, batch_size, chain_length, num_states):\n",
    "        self.chain_length = chain_length\n",
    "        self.num_states = num_states\n",
    "        self.memory = deque(maxlen=buffer_size)\n",
    "        self.batch_size = batch_size\n",
    "        self.experience = namedtuple(\"Experience\", field_names=[\"state\", \"samp_rate\", \"errors\" ])\n",
    "\n",
    "    def add(self, state, samp_rate, errors):\n",
    "        e = self.experience(state, samp_rate, errors)\n",
    "        self.memory.append(e)\n",
    "\n",
    "    def sample(self):\n",
    "        experiences = random.sample(self.memory, k=self.batch_size)\n",
    "        states =  torch.empty((self.batch_size,2**2))# TODO Remove hard code to the number of entries in generator matrix\n",
    "\n",
    "        # The states will be encoded as tensors\n",
    "        states = torch.from_numpy(np.vstack([e.state for e in experiences if e is not None])).float()\n",
    "        actions = torch.from_numpy(np.vstack([e.samp_rate for e in experiences if e is not None])).float()\n",
    "        errors = torch.from_numpy(np.vstack([e.errors for e in experiences if e is not None])).float()\n",
    "\n",
    "        return states, actions, errors\n",
    "\n",
    "    def __len__(self):\n",
    "        return len(self.memory)"
   ]
  },
  {
   "cell_type": "markdown",
   "metadata": {},
   "source": [
    "## Setup"
   ]
  },
  {
   "cell_type": "code",
   "execution_count": null,
   "metadata": {},
   "outputs": [],
   "source": [
    "# Create the Datasets\n",
    "# We may change args here:\n",
    "class Args2:\n",
    "  xres = 100\n",
    "  length = 1000# Number of transitions in continuous chain \n",
    "  state_limit = 1#Inclusive # DO NOT CHANGE, Architecture can't take it yet\n",
    "  init_state = 0\n",
    "  num_samples =5\n",
    "  batch_size =128\n",
    "  poptimizer_lr = 1e-2\n",
    "  coptimizer_lr = 1e-2\n",
    "  clipping_limit = 64 # Sampling rate no Bigger than this. \n",
    "  detection_guesses =10000\n",
    "  num_epochs = 1000\n",
    "  num_replay_samples = 1 # How many batches do we sample at a time to learn \n",
    "# Data Class\n",
    "class MetaState:\n",
    "  states: list\n",
    "  holding_times: list\n",
    "  def __init__(self,states, holding_times):\n",
    "    self.states = states\n",
    "    self.holding_times = holding_times\n",
    "\n",
    "args2 = Args2()"
   ]
  },
  {
   "cell_type": "code",
   "execution_count": null,
   "metadata": {},
   "outputs": [],
   "source": [
    "def get_errors(sampled_tapes, probs, true_hyps):\n",
    "    # Clean it up \n",
    "    p0, p1 = probs\n",
    "    # Take our guesses\n",
    "    guesses = np.array([take_a_guess(tape, p0[i],p1[i]) for i,tape in enumerate(sampled_tapes)])\n",
    "    errors = -1*np.array(true_hyps != guesses)\n",
    "    return errors\n",
    "\n",
    "\n",
    "def take_a_guess(tape, p0,p1):\n",
    "    num = 0\n",
    "    denum = 0\n",
    "    for i in range(len(tape)-1):\n",
    "        from_state = tape[i]\n",
    "        to_state = tape[i+1]\n",
    "        num += np.log(p0[from_state,to_state])\n",
    "        denum += np.log(p1[from_state,to_state])\n",
    "    return 0 if num > denum else 1"
   ]
  },
  {
   "cell_type": "markdown",
   "metadata": {},
   "source": [
    "## Bootstrap the Replay Buffer"
   ]
  },
  {
   "cell_type": "code",
   "execution_count": null,
   "metadata": {},
   "outputs": [],
   "source": [
    "# Replay buffer stores (s,a,r,s',d)\n",
    "# Meaning the Hidden State we se the action we took and the corresponding reward\n",
    "def populate_replay_buffer(rbuffer,num_of_examples, guesses_per_rate = 64):\n",
    "    \n",
    "    ## Start By Generating States\n",
    "    # TODO: Maybe Try Uniform\n",
    "    # Null Hyp\n",
    "    #rates0 = np.random.chisquare(df=2, size =(num_of_examples,2))\n",
    "    #rates0[:,1] = np.sum(rates0,axis=1) # So that mu > lam\n",
    "    # Alter Hyp\n",
    "    #rates1 = np.random.chisquare(df=2, size =(num_of_examples,2))\n",
    "    #rates1[:,1] = np.sum(rates1,axis=1) # So that mu > lam\n",
    "    rates0,rates1 = np.zeros((num_of_examples,2)), np.zeros((num_of_examples,2))\n",
    "    rates0[:,0] = np.random.normal(4/10, 0.1,num_of_examples)\n",
    "    rates0[:,1] = np.random.normal(12/10,0.1,num_of_examples)\n",
    "    # Make Sure lam > mu\n",
    "    idcs = rates0[:,0] > rates0[:,1] \n",
    "    rates0[idcs, 1] = rates0[idcs,0] + 1\n",
    "    #rates0[torch.chat(idcs, torch.ones((num_of_examples,1)))] = rates0[idcs:0] + 1\n",
    "\n",
    "    rates1[:,0] = np.random.normal(100/10,1, num_of_examples)\n",
    "    rates1[:,1] = np.random.normal(122/10,1, num_of_examples)\n",
    "    idcs = rates1[:,0] > rates1[:,1] \n",
    "    rates1[idcs, 1] = rates1[idcs,0] + 1\n",
    "\n",
    "    rates0 = rates0.clip(0.1,None)\n",
    "    rates1 = rates1.clip(0.1,None)\n",
    "\n",
    "\n",
    "    rates = [rates0,rates1]\n",
    "\n",
    "    # Get Errors  # ACTIONS\n",
    "    smp_rates = np.random.uniform(0,2**5, num_of_examples) # Actions\n",
    "    errors = [0]*len(smp_rates)# Amount of errors per action\n",
    "\n",
    "    # Calculate Errors\n",
    "    for i in range(rates0.shape[0]):# For Every State-Action\n",
    "        true_hyps = np.random.choice(2,guesses_per_rate)\n",
    "        \n",
    "        p0 = expm((1/smp_rates[i])*np.array([[-rates0[i,0],rates0[i,0]],[rates0[i,1],-rates0[i,1]]]))# 0=lam, 1=mu\n",
    "        p1 = expm((1/smp_rates[i])*np.array([[-rates1[i,0],rates1[i,0]],[rates1[i,1],-rates1[i,1]]]))\n",
    "\n",
    "        for j in range(guesses_per_rate): # Sample a bunch of paths\n",
    "            roe = RaceOfExponentials(args2.length,rates[true_hyps[j]][i],state_limit=args2.state_limit)\n",
    "            holdTimes_tape, state_tape = roe.generate_history(args2.init_state)\n",
    "            # Action Performance(Sampling At Rate)\n",
    "            tape = quick_sample(smp_rates[i],state_tape,holdTimes_tape,args2.num_samples)\n",
    "\n",
    "            # Get the corresponding Losses\n",
    "            errors[i] += take_a_guess(tape, p0,p1)  != true_hyps[j]\n",
    "\n",
    "    #errors = 10*(np.array(errors) / guesses_per_rate)\n",
    "    #errors = np.array(errors) / guesses_per_rate\n",
    "\n",
    "    #plt.scatter(smp_rates, errors,s=10)\n",
    "    #plt.ylim((0,1))\n",
    "    #plt.show()\n",
    "    #exit()\n",
    "\n",
    "    for i in range(num_of_examples):\n",
    "        rbuffer.add(list(rates0[i])+list(rates1[i]), smp_rates[i],errors[i])\n",
    "\n",
    "def add_actions_to_buffer(buffer, states, actions, guesses_per_rate =64):\n",
    "    errors = [0]*len(actions)# Amount of errors per action\n",
    "\n",
    "    for i in range(actions.shape[0]):# For Every State-Action\n",
    "        true_hyps = np.random.choice(2,guesses_per_rate)\n",
    "        \n",
    "        p0 = expm((1/actions[i])*np.array([[-states[i,0],states[i,0]],[states[i,1],-states[i,1]]]))# 0=lam, 1=mu\n",
    "        p1 = expm((1/actions[i])*np.array([[-states[i,2],states[i,2]],[states[i,3],-states[i,3]]]))\n",
    "\n",
    "        for j in range(guesses_per_rate): # Sample a bunch of paths\n",
    "            offset = true_hyps[j]*1\n",
    "            roe = RaceOfExponentials(args2.length,states[i,offset:offset+2].detach(),state_limit=args2.state_limit)\n",
    "            holdTimes_tape, state_tape = roe.generate_history(args2.init_state)\n",
    "            # Action Performance(Sampling At Rate)\n",
    "            tape = quick_sample(actions[i],state_tape,holdTimes_tape,args2.num_samples)\n",
    "\n",
    "            # Get the corresponding Losses\n",
    "            errors[i] += take_a_guess(tape, p0,p1)  != true_hyps[j]\n",
    "\n",
    "    errors = np.array(errors) / guesses_per_rate\n",
    "\n",
    "    for i in range(states.shape[0]):\n",
    "        buffer.add(list(states[i,:]), actions[i], errors[i])"
   ]
  },
  {
   "cell_type": "code",
   "execution_count": null,
   "metadata": {},
   "outputs": [],
   "source": [
    "# Start Working on the Model\n",
    "#from tqdm.notebook import tqdm\n",
    "import matplotlib.pyplot as plt \n",
    "from IPython.display import clear_output\n",
    "from tqdm.auto import tqdm\n",
    "\n",
    "if torch.backends.mps.is_available():\n",
    "    print(\"Activating Apple Metal\")\n",
    "    device = torch.device(\"mps\")\n",
    "else:\n",
    "    device = torch.device(\"cpu\")\n",
    "\n",
    "class PolicyLoss(nn.Module):\n",
    "    def __init__(self):\n",
    "        super(PolicyLoss, self).__init__()\n",
    "\n",
    "    def forward(self, estimation):\n",
    "        return torch.mean(estimation)\n",
    "\n",
    "# TODO remove hard code \n",
    "policy = RNNContinuousPolicy(2*2,hidden_size=16).to(device)\n",
    "critic = Critic(2*2, 1, 16).to(device)\n",
    "poptimizer = optim.Adam(policy.parameters(), lr = args2.poptimizer_lr)\n",
    "coptimizer = optim.Adam(critic.parameters(), lr = args2.coptimizer_lr)\n",
    "\n",
    "rbuffer = ReplayBuffer(256,args2.batch_size, args2.length,args2.state_limit+1)\n",
    "populate_replay_buffer(rbuffer,args2.batch_size)\n",
    "# We have Enough Data to Start Sampling and Exploring With \n",
    "epochs = tqdm(range(args2.num_epochs),leave=True)\n",
    "qvalue_loss = []\n",
    "policyExpectedReward = []\n",
    "val_srate = []\n",
    "qlosses,plosses = [],[]\n",
    "q_losscrit = nn.MSELoss()\n",
    "p_losscrit = PolicyLoss()\n",
    "for e in epochs:\n",
    "    poptimizer.zero_grad()\n",
    "    coptimizer.zero_grad()\n",
    "    ########################################\n",
    "    # Collect Data\n",
    "    ########################################\n",
    "    # This loop will generate paths with the existing policy \n",
    "    # Sample Transitions used for learnign\n",
    "    states, actions, rewards = rbuffer.sample()\n",
    "    states = states.to(device)\n",
    "    actions = actions.to(device)\n",
    "    rewards = rewards.to(device)\n",
    "\n",
    "    # Get Rates\n",
    "    y = rewards\n",
    "    # Since We We are Doing Accuracy We have to create \n",
    "    ########################################\n",
    "    # Update Networks\n",
    "    ########################################\n",
    "    # Calculate the Losses\n",
    "    #loss_Q = (1/args2.batch_size)*torch.sum(torch.pow(critic(states, actions) - y,2))\n",
    "    #loss_P = (1/args2.batch_size)*torch.sum(critic(states, policy(states)))\n",
    "    loss_Q = q_losscrit(critic(states,actions), y)\n",
    "    loss_P = p_losscrit(critic(states,policy(states)))\n",
    "\n",
    "    # Learn \n",
    "    loss_Q.backward()\n",
    "    loss_P.backward()\n",
    "    poptimizer.step()\n",
    "    coptimizer.step()\n",
    "\n",
    "    qlosses.append(loss_Q.item())\n",
    "    plosses.append(loss_P.item())\n",
    "\n",
    "    # In this one particular case we have a single point that is global max so it would be\n",
    "    # best to use optimized policy to do some exploration \n",
    "    qvalue_loss.append(loss_Q.item())\n",
    "    policyExpectedReward.append(loss_P.item())\n",
    "\n",
    "    # Validate with a known global min:\n",
    "    validation_input = torch.tensor([[4/10,12/10,100/10,122/10]]).to(device)\n",
    "    policy.eval()\n",
    "    with torch.no_grad():\n",
    "        val_srate.append(float(policy(validation_input).squeeze(-1).item()))\n",
    "    policy.train()\n",
    "\n",
    "    # Lets check performance \n",
    "    if e % 50 == 0:\n",
    "        plt.clf()\n",
    "        val = critic(states,actions).cpu().detach()\n",
    "        plt.scatter(range(128), val, label='Estimation',s=8)\n",
    "        plt.scatter(range(128), y.cpu(), label='Labels',s=8)\n",
    "        plt.plot(range(128), np.abs(val-y.cpu()), label='Difference', color='red',alpha=0.2)\n",
    "        plt.title('Performance')\n",
    "        plt.legend()\n",
    "        plt.show()\n",
    "    \n",
    "    # Lets look at the weights acrooss the network \n",
    "    epoch_description = \"\"\n",
    "\n",
    "    for name, param in critic.named_parameters():\n",
    "        epoch_description += \"Parameter {} norm is {:.3f}\\n\".format(name, torch.norm(param)**2)\n",
    "\n",
    "    epoch_description += 'Val Samp Rate {}, Loss_Q {} and loss_P {}'.format(val_srate[-1], np.mean(qlosses), np.mean(plosses))\n",
    "\n",
    "    epochs.set_description(epoch_description)\n",
    "\n",
    "    ## Prep for Next Iteration\n",
    "    # Keep On Adding More Stuff to buffer to learn from \n",
    "    #add_actions_to_buffer(rbuffer, states.cpu(), actions.cpu())\n",
    "\n",
    "    # Don't over populate the buffer\n",
    "    if np.random.choice([0,1],1,p=[0.40,0.60]) == 0:\n",
    "        populate_replay_buffer(rbuffer, args2.batch_size)\n",
    "    #populate_replay_buffer(rbuffer, args2.batch_size)\n",
    "    \n"
   ]
  },
  {
   "cell_type": "code",
   "execution_count": null,
   "metadata": {},
   "outputs": [],
   "source": [
    "critic.eval()\n",
    "fig = plt.figure(figsize=(12,6))\n",
    "gs = fig.add_gridspec(2,2)\n",
    "\n",
    "axs00 = fig.add_subplot(gs[0,0])\n",
    "axs00.set_title('Learning Error Rates')\n",
    "axs00.plot(range(len(qvalue_loss)),qvalue_loss,label=\"Value Estimation Loss\")\n",
    "axs00.legend()\n",
    "\n",
    "axs01 = fig.add_subplot(gs[0,1])\n",
    "axs01.set_title('Training Values')\n",
    "axs01.axhline(y=11.03, label=\"Optimal Rate\", color=\"Red\")\n",
    "axs01.plot(range(len(policyExpectedReward)),policyExpectedReward,label=\"Expected Policy Error\")\n",
    "axs01.plot(range(len(val_srate)),val_srate,label=\"Validation Rate\")\n",
    "axs01.legend()\n",
    "\n",
    "critic_a = torch.tensor(samp_rates).view(-1,1).to(torch.float32).to(device)\n",
    "critic_s = torch.tensor([4/10,12/10,100/10,122/10]).repeat(len(samp_rates),1).to(torch.float32).to(device)\n",
    "critic_y = critic(critic_s,critic_a).cpu().detach()/64\n",
    "\n",
    "# Printed Estimated Values \n",
    "axs10 = fig.add_subplot(gs[1,:])\n",
    "axs10.set_title('Q Across Validation States')\n",
    "axs10.plot(samp_rates, critic_y, label='Estimated Error Rate')\n",
    "axs10.plot(samp_rates, probs, label='True Error Rate')\n",
    "axs10.set_xscale('log', base=2)\n",
    "\n",
    "#fig.delaxes(fig.axes[-1])\n",
    "\n",
    "plt.tight_layout()\n",
    "plt.legend()\n",
    "plt.show()"
   ]
  },
  {
   "cell_type": "code",
   "execution_count": null,
   "metadata": {},
   "outputs": [],
   "source": [
    "inputo = torch.tensor([[4/10,12/10,100/10,122/10]])\n",
    "policy(inputo)"
   ]
  },
  {
   "cell_type": "code",
   "execution_count": null,
   "metadata": {},
   "outputs": [],
   "source": [
    "# Runtthe Model \n",
    "states, a, rewards = rbuffer.sample()\n",
    "rates = policy(states)\n",
    "print(\"Rates Selected are :\",rates)\n",
    "\n",
    "#P(error | path, \\Deleta)\n",
    "tperror = np.zeros(len(samp_rates))\n",
    "bloop = []\n",
    "numerical_errors = []\n",
    "# For Now we will focus on Type I error  because H1 should always be preferred. \n",
    "for i in tqdm(np.arange(len(samp_rates))):\n",
    "    sr = samp_rates[i]\n",
    "    #num = true_p1s[i][0,0] if true_p0s[i][0,0] > true_p1s[i][0,0] else true_p0s[i][0,0]\n",
    "    num = true_p0s[i][0,0] \n",
    "    denum = true_p0s[i][0,0] + true_p1s[i][0,0]\n",
    "    tperror[i] = num/denum\n",
    "\n",
    "\n",
    "# Get the Numerical Erros\n",
    "plt.plot(samp_rates, numerical_errors,color='green')\n",
    "plt.plot(samp_rates, tperror, color='orange')\n",
    "plt.xscale('log',base=2)\n",
    "#plt.ylim((0,1))\n",
    "plt.show()\n",
    "\n"
   ]
  },
  {
   "cell_type": "code",
   "execution_count": null,
   "metadata": {},
   "outputs": [],
   "source": []
  }
 ],
 "metadata": {
  "kernelspec": {
   "display_name": "Python 3",
   "language": "python",
   "name": "python3"
  },
  "language_info": {
   "codemirror_mode": {
    "name": "ipython",
    "version": 3
   },
   "file_extension": ".py",
   "mimetype": "text/x-python",
   "name": "python",
   "nbconvert_exporter": "python",
   "pygments_lexer": "ipython3",
   "version": "3.9.15"
  },
  "orig_nbformat": 4
 },
 "nbformat": 4,
 "nbformat_minor": 2
}
