{
 "cells": [
  {
   "attachments": {},
   "cell_type": "markdown",
   "metadata": {},
   "source": [
    "# Purpose\n",
    "This file simply will create more data inside the replay buffer to be used by our approximating algorithm. "
   ]
  },
  {
   "cell_type": "code",
   "execution_count": 1,
   "metadata": {},
   "outputs": [],
   "source": [
    "import pickle\n",
    "import os.path\n",
    "from sp_sims.simulators.stochasticprocesses import RaceOfExponentials\n",
    "from tqdm import tqdm \n",
    "from sp_sims.learning.rl import *"
   ]
  },
  {
   "cell_type": "code",
   "execution_count": 6,
   "metadata": {},
   "outputs": [],
   "source": [
    "class Args:\n",
    "  length = 5000# Number of transitions in continuous chain \n",
    "  state_limit = 1#Inclusive # DO NOT CHANGE, Architecture can't take it yet\n",
    "  init_state = 0\n",
    "  sample_budget =5\n",
    "  batch_size =128\n",
    "  poptimizer_lr = 1e-2\n",
    "  coptimizer_lr = 1e-2\n",
    "  clipping_limit = 16 # Sampling rate no Bigger than this. \n",
    "  num_epochs = 10000\n",
    "  num_replay_samples = 1 # How many batches do we sample at a time to learn \n",
    "# Data Class\n",
    "class MetaState:\n",
    "  states: list\n",
    "  holding_times: list\n",
    "  def __init__(self,states, holding_times):\n",
    "    self.states = states\n",
    "    self.holding_times = holding_times\n",
    "\n",
    "args = Args()"
   ]
  },
  {
   "cell_type": "code",
   "execution_count": 4,
   "metadata": {},
   "outputs": [],
   "source": [
    "\n",
    "existed = os.path.exists('./ReplayBuffer/buffer_len{}.pkl'.format(args.chain_length))\n",
    "buffer_file = open('./ReplayBuffer/buffer_len{}.pkl'.format(args.chain_length),'wb')\n",
    "if not existed:\n",
    "    rbuffer = ReplayBuffer(256,args.batch_size, args.length,args.state_limit+1)\n",
    "else:\n",
    "    rbuffer = pickle.load(buffer_file)"
   ]
  },
  {
   "cell_type": "code",
   "execution_count": 10,
   "metadata": {},
   "outputs": [
    {
     "name": "stderr",
     "output_type": "stream",
     "text": [
      "  0%|          | 0/10 [00:00<?, ?it/s]\n"
     ]
    },
    {
     "ename": "NameError",
     "evalue": "name 'quick_sample_budget' is not defined",
     "output_type": "error",
     "traceback": [
      "\u001b[0;31m---------------------------------------------------------------------------\u001b[0m",
      "\u001b[0;31mNameError\u001b[0m                                 Traceback (most recent call last)",
      "Cell \u001b[0;32mIn[10], line 3\u001b[0m\n\u001b[1;32m      1\u001b[0m \u001b[39m# Loop for Generating More and More Data\u001b[39;00m\n\u001b[1;32m      2\u001b[0m \u001b[39mfor\u001b[39;00m i \u001b[39min\u001b[39;00m tqdm(\u001b[39mrange\u001b[39m(\u001b[39m10\u001b[39m)):\n\u001b[0;32m----> 3\u001b[0m     populate_replay_buffer(rbuffer,args\u001b[39m.\u001b[39;49msample_budget, args\u001b[39m.\u001b[39;49mbatch_size)\n\u001b[1;32m      5\u001b[0m     \u001b[39m# In each iteration save so we don't lose data. \u001b[39;00m\n\u001b[1;32m      6\u001b[0m     pickle\u001b[39m.\u001b[39mdump(rbuffer, buffer_file, protocol\u001b[39m=\u001b[39mpickle\u001b[39m.\u001b[39mHIGHEST_PROTOCOL)\n",
      "File \u001b[0;32m~/Research/RL_RateOptimization/sp_sims/learning/rl.py:117\u001b[0m, in \u001b[0;36mpopulate_replay_buffer\u001b[0;34m(rbuffer, num_of_examples, sample_budget, guesses_per_rate)\u001b[0m\n\u001b[1;32m    114\u001b[0m holdTimes_tape, state_tape \u001b[39m=\u001b[39m roe\u001b[39m.\u001b[39mgenerate_history(\u001b[39m0\u001b[39m)\u001b[39m# TODO here I am hardcoding the initial state\u001b[39;00m\n\u001b[1;32m    115\u001b[0m \u001b[39m# Action Performance(Sampling At Rate)\u001b[39;00m\n\u001b[1;32m    116\u001b[0m \u001b[39m#tape = quick_sample(smp_rates[i],state_tape,holdTimes_tape,args2.num_samples)\u001b[39;00m\n\u001b[0;32m--> 117\u001b[0m tmpSampTape, replicas \u001b[39m=\u001b[39m quick_sample_budget(smp_rates[i], state_tape,holdTimes_tape, budget\u001b[39m=\u001b[39msample_budget)\n\u001b[1;32m    119\u001b[0m \u001b[39m# Get the corresponding Losses\u001b[39;00m\n\u001b[1;32m    120\u001b[0m \u001b[39m# TODO: Maybe scale down the errors /kj\u001b[39;00m\n\u001b[1;32m    121\u001b[0m errors[i] \u001b[39m+\u001b[39m\u001b[39m=\u001b[39m multiplicity_guess(tmpSampTape,replicas, p0, p1) \u001b[39m!=\u001b[39m true_hyps[j]\n",
      "\u001b[0;31mNameError\u001b[0m: name 'quick_sample_budget' is not defined"
     ]
    }
   ],
   "source": [
    "# Loop for Generating More and More Data\n",
    "for i in tqdm(range(10)):\n",
    "    populate_replay_buffer(rbuffer,args.sample_budget, args.batch_size)\n",
    "\n",
    "    # In each iteration save so we don't lose data. \n",
    "    pickle.dump(rbuffer, buffer_file, protocol=pickle.HIGHEST_PROTOCOL)\n",
    "\n",
    "buffer_file.close()"
   ]
  },
  {
   "attachments": {},
   "cell_type": "markdown",
   "metadata": {},
   "source": [
    "# Statistcs\n",
    "\n",
    "We can use the code below to check the statistics on the amoun of data we have for each sampling rate. "
   ]
  }
 ],
 "metadata": {
  "kernelspec": {
   "display_name": "rs39",
   "language": "python",
   "name": "python3"
  },
  "language_info": {
   "codemirror_mode": {
    "name": "ipython",
    "version": 3
   },
   "file_extension": ".py",
   "mimetype": "text/x-python",
   "name": "python",
   "nbconvert_exporter": "python",
   "pygments_lexer": "ipython3",
   "version": "3.9.15"
  },
  "orig_nbformat": 4
 },
 "nbformat": 4,
 "nbformat_minor": 2
}
