{
 "cells": [
  {
   "attachments": {},
   "cell_type": "markdown",
   "metadata": {},
   "source": [
    "# Step 2\n",
    "\n",
    "This is just some more complex experiments of the same nature though. To show the scalability of the previously used methods"
   ]
  },
  {
   "cell_type": "code",
   "execution_count": 1,
   "metadata": {},
   "outputs": [],
   "source": [
    "from sp_sims.detectors.pearsonneyman import *\n",
    "import numpy as np\n",
    "import sys\n",
    "import matplotlib.pyplot as plt\n",
    "import datetime\n",
    "import argparse\n",
    "from sklearn.metrics import roc_curve\n",
    "from math import factorial\n",
    "import sp_sims\n",
    "from scipy.linalg import expm\n",
    "from sp_sims.simulators.stochasticprocesses import *\n",
    "from sp_sims.statistics.statistics import *\n",
    "from sp_sims.estimators.algos import *\n",
    "from IPython.display import clear_output\n",
    "from sp_sims.sanitycheck.truebirthdeath import *\n",
    "import sp_sims.utils.utils\n",
    "import random\n",
    "from itertools import product,islice\n",
    "#from tqdm.notebook import tqdm\n",
    "\n",
    "from tqdm import tqdm\n",
    "from time import sleep\n",
    "import time"
   ]
  },
  {
   "cell_type": "code",
   "execution_count": 2,
   "metadata": {},
   "outputs": [
    {
     "data": {
      "text/plain": [
       "<module 'sp_sims.detectors.pearsonneyman' from '/Users/rac716/Research/RL_RateOptimization/sp_sims/detectors/pearsonneyman.py'>"
      ]
     },
     "execution_count": 2,
     "metadata": {},
     "output_type": "execute_result"
    }
   ],
   "source": [
    "\n",
    "importlib.reload(sp_sims.statistics.statistics)\n",
    "importlib.reload(sp_sims.detectors.pearsonneyman)\n"
   ]
  },
  {
   "cell_type": "code",
   "execution_count": 3,
   "metadata": {},
   "outputs": [],
   "source": [
    "# We may change args here:\n",
    "class Args:\n",
    "  xres = 100\n",
    "  #length = 10000# Number of transitions in continuous chain \n",
    "  state_limit = 1#Inclusive\n",
    "  init_state = 0\n",
    "  num_samples = 5\n",
    "  detection_guesses =1000\n",
    "args = Args()"
   ]
  },
  {
   "cell_type": "code",
   "execution_count": 4,
   "metadata": {},
   "outputs": [],
   "source": [
    "def prob_of_path(path,  p0,p1):\n",
    "    # Take two possible hypothesis\n",
    "    num = 1\n",
    "    denum = 1\n",
    "    for i in range(len(path)-1):\n",
    "        from_state = path[i]\n",
    "        to_state = path[i+1]\n",
    "        num  *= p0[from_state,to_state]\n",
    "        denum *= p1[from_state,to_state]\n",
    "    # Return the least preferred one\n",
    "    return num if denum > num else denum\n",
    "def batched(iterable, n):\n",
    "    \"Batch data into tuples of length n. The last batch may be shorter.\"\n",
    "    # batched('ABCDEFG', 3) --> ABC DEF G\n",
    "    if n < 1:\n",
    "        raise ValueError('n must be at least one')\n",
    "    it = iter(iterable)\n",
    "    while (batch := tuple(islice(it, n))):\n",
    "        yield batch"
   ]
  },
  {
   "attachments": {},
   "cell_type": "markdown",
   "metadata": {},
   "source": [
    "## Error Calculation"
   ]
  },
  {
   "attachments": {},
   "cell_type": "markdown",
   "metadata": {},
   "source": [
    "Basically Calculate:\n",
    "$$\n",
    "\\begin{align}\n",
    "P(\\epsilon| \\Delta) &= \\mathbb{E}\\left[P(\\epsilon|p,\\Delta)\\right]\\\\\n",
    "    &= \\mathbb{E}_{\\rho\\sim P(\\rho|\\Delta)}\\left[\\frac{P^{(j)}_\\Delta(\\rho)\\frac{1}{|\\mathcal{H}|}}{P(\\rho | \\Delta)}\\right]\n",
    "\\end{align}\n",
    "$$\n",
    "Where $P^{(j)}$ indicates probability of path of wrong hypothesis"
   ]
  },
  {
   "cell_type": "code",
   "execution_count": 5,
   "metadata": {},
   "outputs": [
    {
     "name": "stdout",
     "output_type": "stream",
     "text": [
      "Q0:\n",
      " [[-0.4  0.4]\n",
      " [ 1.2 -1.2]]\n",
      "Q1:\n",
      " [[-0.133  0.133]\n",
      " [ 4.9   -4.9  ]]\n",
      "LamDiff = -0.2666666666666667 MuDiff =3.7\n"
     ]
    }
   ],
   "source": [
    "\n",
    "# We want to calculate the average error probability for all paths\n",
    "# We shouldn't be needing paths\n",
    "from itertools import product\n",
    "\n",
    "np.random.seed(0)\n",
    "#np.random.seed(int(time.time()))\n",
    "#num_steps = args.length\n",
    "#num_states = args.state_limit+1\n",
    "num_states = args.state_limit+1\n",
    "\n",
    "samp_rates = np.logspace(-3,5,args.xres, base=2)\n",
    "\n",
    "if (True):\n",
    "    ## Two Variable Only\n",
    "    #rates0 = {\"lam\": 4/10,\"mu\":12/10}\n",
    "    ##rates1 = {\"lam\": 100/10,\"mu\":122/10}\n",
    "    rates0 = {\"lam\": 4/10,  \"mu\":12/10}\n",
    "    #rates1 = {\"lam\": 100/10,\"mu\":122/10}\n",
    "    #rates1 = {\"lam\": 168/10,\"mu\":248/10}\n",
    "    rates1 = {\"lam\": 2/15,\"mu\":49/10}\n",
    "    Q0 = generate_true_gmatrix(rates0, args.state_limit)\n",
    "    Q1 = generate_true_gmatrix(rates1, args.state_limit)\n",
    "else:\n",
    "    Q0 = random_bd_gmatrix(args.state_limit)\n",
    "    Q1 = random_bd_gmatrix(args.state_limit)\n",
    "\n",
    "rates = [rates0,rates1]\n",
    "matrices = [Q0,Q1]\n",
    "np.set_printoptions(precision=3)\n",
    "print(\"Q0:\\n\",Q0)\n",
    "print(\"Q1:\\n\",Q1)\n",
    "print('LamDiff = {} MuDiff ={}'.format(Q0[0,0]-Q1[0,0],Q0[1,1]-Q1[1,1]))\n",
    "\n",
    "# For Two States\n",
    "#tgm0 = np.array([[-rates0['lam'],rates0['lam']],[rates0['mu'],-rates0['mu']]])\n",
    "#tgm1 = np.array([[-rates1['lam'],rates1['lam']],[rates1['mu'],-rates1['mu']]])\n",
    "\n",
    "hts, sts = ([],[])\n",
    "last_times  = []\n",
    "true_values = np.random.choice(2,args.detection_guesses)\n",
    "# Generate The Tapes\n",
    "for i in range(args.detection_guesses):\n",
    "    #roe = RaceOfExponentials(args.length,rates[true_values[i]],state_limit=args.state_limit)\n",
    "    roe = RaceOfExponentials(args.num_samples*(1/samp_rates[0]), rates[true_values[i]],max_state=1)# TODO Remove that hardcoded 1\n",
    "    #roe = GeneralEmbeddedMarkC(args.length,matrices[true_values[i]])\n",
    "    holdTimes_tape, state_tape = roe.generate_history(args.init_state)\n",
    "    hts.append(holdTimes_tape)\n",
    "    sts.append(state_tape)\n",
    "    last_times.append(np.cumsum(holdTimes_tape)[-1])\n",
    "\n",
    "# Preparation of True Probabilities\n",
    "true_p0s = []\n",
    "true_p1s = []\n",
    "fixed_guesses = np.ones((len(samp_rates), args.detection_guesses))\n",
    "# Crete all the *known* probability functions.\n",
    "for srIdx, cur_samp_rate in enumerate(samp_rates):\n",
    "    true_p0s.append(expm(Q0*(1/cur_samp_rate)))\n",
    "    true_p1s.append(expm(Q1*(1/cur_samp_rate)))\n",
    "\n"
   ]
  },
  {
   "attachments": {},
   "cell_type": "markdown",
   "metadata": {},
   "source": [
    "## Theoretical Error"
   ]
  },
  {
   "cell_type": "code",
   "execution_count": 6,
   "metadata": {},
   "outputs": [
    {
     "name": "stdout",
     "output_type": "stream",
     "text": [
      "Total Permutations:  16\n",
      "Permutations [[0 0 0 0 0]\n",
      " [0 0 0 0 1]\n",
      " [0 0 0 1 0]\n",
      " [0 0 0 1 1]\n",
      " [0 0 1 0 0]\n",
      " [0 0 1 0 1]\n",
      " [0 0 1 1 0]\n",
      " [0 0 1 1 1]\n",
      " [0 1 0 0 0]\n",
      " [0 1 0 0 1]\n",
      " [0 1 0 1 0]\n",
      " [0 1 0 1 1]\n",
      " [0 1 1 0 0]\n",
      " [0 1 1 0 1]\n",
      " [0 1 1 1 0]\n",
      " [0 1 1 1 1]]\n"
     ]
    }
   ],
   "source": [
    "# Generate\n",
    "# TODO decrease memory consumption by only using iterators\n",
    "num_steps = args.num_samples\n",
    "states = np.arange(num_states)\n",
    "probs = []\n",
    "tot_calcs = 0\n",
    "if(num_steps < 6 or args.state_limit >= 7): # Will crash memory\n",
    "    paths = np.array(list(product(states, repeat=num_steps-1)))\n",
    "    paths = np.concatenate([np.repeat([[0]],repeats=paths.shape[0], axis=0), paths], axis=1)\n",
    "    # Sum them up and that should be your probability \n",
    "    tot_calcs = paths.shape[0]\n",
    "    for srIdx, cur_samp_rate in enumerate(samp_rates):\n",
    "        #probs.append(np.sum(np.apply_along_axis(prob_of_path, 1, paths, true_p0s[srIdx],true_p1s[srIdx])))\n",
    "        probs.append((1/2)*np.sum(np.apply_along_axis(prob_of_path, 1, paths, true_p0s[srIdx],true_p1s[srIdx])))\n",
    "else:\n",
    "    # For Each Sampling rate\n",
    "    for srIdx, cur_samp_rate in enumerate(samp_rates):\n",
    "        #probs.append(np.sum(np.apply_along_axis(prob_of_path, 1, paths, true_p0s[srIdx],true_p1s[srIdx])))\n",
    "        paths = product(states, repeat=num_steps-1)\n",
    "        prob = 0\n",
    "        for batch in batched(paths,2**8):# Keep it at batches of 2**8 \n",
    "            batch = np.array(batch)\n",
    "            batched_paths = np.concatenate([np.repeat([[0]],repeats=batch.shape[0], axis=0), batch], axis=1)\n",
    "            prob+= np.sum(np.apply_along_axis(prob_of_path, 1, batched_paths, true_p0s[srIdx],true_p1s[srIdx]))\n",
    "            tot_calcs += batch.shape[[0]]\n",
    "        prob *= 1/2\n",
    "        probs.append(prob)\n",
    "print(\"Total Permutations: \",tot_calcs)\n",
    "print(\"Permutations\",paths)"
   ]
  },
  {
   "attachments": {},
   "cell_type": "markdown",
   "metadata": {},
   "source": [
    "## Numerical Error"
   ]
  },
  {
   "cell_type": "code",
   "execution_count": 39,
   "metadata": {},
   "outputs": [
    {
     "name": "stderr",
     "output_type": "stream",
     "text": [
      "100%|██████████| 1000/1000 [00:01<00:00, 833.87it/s]\n"
     ]
    }
   ],
   "source": [
    "\n",
    "# Redo the testing experiments\n",
    "np.random.seed(0)\n",
    "last_times  = []\n",
    "\n",
    "base_samp_rate = samp_rates[-1]\n",
    "\n",
    "#for i in range(args.detection_guesses):\n",
    "#    #roe = RaceOfExponentials(args.length,rates[true_values[i]],state_limit=args.state_limit)\n",
    "#    roe = GeneralEmbeddedMarkC(args.length,matrices[true_values[i]])\n",
    "#    holdTimes_tape, state_tape = roe.generate_history(args.init_state)\n",
    "#    hts.append(holdTimes_tape); sts.append(state_tape)\n",
    "#    last_times.append(np.cumsum(holdTimes_tape)[-1])\n",
    "\n",
    "# Go Over the Detection Guesses\n",
    "guesses = np.zeros((len(samp_rates), args.detection_guesses))\n",
    "min_length = np.inf\n",
    "for i in tqdm(np.arange(args.detection_guesses)):\n",
    "    for srIdx, cur_samp_rate in enumerate(samp_rates):\n",
    "        # Fetch Values for Current Rate\n",
    "        true_p0 = true_p0s[srIdx]\n",
    "        true_p1 = true_p1s[srIdx]\n",
    "        \n",
    "        \n",
    "        #LG: How many of the baseline intervals fit into the slow rate interval\n",
    "        decimateInterval = int(base_samp_rate/cur_samp_rate)\n",
    "\n",
    "        ##tmpSampTapel = quick_sample(cur_samp_rate, sts[i],hts[i])\n",
    "        ##limited_sampled_tape = tmpSampTapel[0:args.num_samples]\n",
    "        \n",
    "        tmpSampTape, replicas = quick_sample_budget(cur_samp_rate, sts[i],hts[i], budget= args.num_samples)\n",
    "        # Limit the Sample\n",
    "        ############################################\n",
    "        # Option 2 with limited number of samples ##\n",
    "        ############################################\n",
    "\n",
    "        ##meep = take_a_guess(limited_sampled_tape,true_p0, true_p1)\n",
    "        moop = multiplicity_guess(tmpSampTape,replicas, true_p0, true_p1)\n",
    "        guesses[srIdx, i] = moop\n",
    "\n",
    "        #if meep != moop:\n",
    "            #print('Ooops')\n",
    "            #exit(-1)\n",
    "        #assert meep == moop\n",
    "\n",
    "num_negs = np.sum(true_values == 0)#TN + FP\n",
    "num_pos = np.sum(true_values == 1)#TP + FN\n",
    "#print(\"Min Length reached is \", min_length)\n",
    "\n",
    "fprs,fnrs = ([],[])\n",
    "t1s,t2s = ([],[])\n",
    "hit_rates = []\n",
    "\n",
    "# Calculate Probability of Error\n",
    "for srIdx, cur_samp_rate in enumerate(samp_rates):\n",
    "    guess = guesses[srIdx]\n",
    "    hits_index = (true_values == guess)\n",
    "    neg_guess = guess == 0\n",
    "    pos_guess = guess == 1\n",
    "    tp = (true_values[hits_index] == 1).sum()\n",
    "    tn = (true_values[hits_index] == 0).sum()\n",
    "\n",
    "    #t1s.append((num_pos-tp)/tn)/(0.5)\n",
    "    t1s.append(((num_negs-tn)/num_negs)*(0.5))\n",
    "    t2s.append(((num_pos-tp)/num_pos)*(0.5))\n",
    "    #t2s.append((num_negs-tn))\n",
    "\n",
    "    # False Positive and Negative Rates\n",
    "    fprs.append((num_negs-tn)/(num_negs))\n",
    "    fnrs.append((num_pos-tp)/(num_pos))# Type 2 Error\n",
    "    num_hits = (true_values == guess).sum()\n",
    "    hit_rates.append(num_hits/args.detection_guesses)\n",
    "#fprs = np.array(fprs)\n",
    "#fnrs = np.array(fnrs)\n",
    "#tot_error = fprs+ fnrs\n",
    "t1s = np.array(t1s)\n",
    "t2s = np.array(t2s)\n",
    "tot_error = t1s + t2s\n"
   ]
  },
  {
   "cell_type": "code",
   "execution_count": 33,
   "metadata": {},
   "outputs": [],
   "source": [
    "# Collector \n",
    "# Inside the collector we collect stuff ay ?\n",
    "\n",
    "#gtot_error = {}\n",
    "#gtot_probs = {}\n",
    "\n",
    "gtot_error['8'] = tot_error\n",
    "gtot_probs['8'] = probs"
   ]
  },
  {
   "cell_type": "code",
   "execution_count": 85,
   "metadata": {},
   "outputs": [
    {
     "name": "stdout",
     "output_type": "stream",
     "text": [
      "dict_keys(['0.1', '0.2', '0.4', '0.8', '1.6', '3.2', '6.4', '12.8', '25.6'])\n"
     ]
    }
   ],
   "source": [
    "gtot_error['51.2'] = pickle_load()\n",
    "gtot_probs['51.2'] = probs"
   ]
  },
  {
   "cell_type": "code",
   "execution_count": 26,
   "metadata": {},
   "outputs": [
    {
     "data": {
      "text/plain": [
       "dict_keys(['2'])"
      ]
     },
     "execution_count": 26,
     "metadata": {},
     "output_type": "execute_result"
    }
   ],
   "source": [
    "# Lets try to load up the replay buffer to see how "
   ]
  },
  {
   "cell_type": "code",
   "execution_count": 40,
   "metadata": {},
   "outputs": [
    {
     "name": "stdout",
     "output_type": "stream",
     "text": [
      "Minimum Error is obtained at 0.125\n",
      "This show that the summation of both errors is closer to monotonicity than having peaks.\n"
     ]
    },
    {
     "data": {
      "image/png": "[encoded data removed]",
      "text/plain": [
       "<Figure size 800x500 with 1 Axes>"
      ]
     },
     "metadata": {},
     "output_type": "display_data"
    }
   ],
   "source": [
    "#ratess = {\"lam0\":4/10,\"mu0\":12/10,\"lam1\":100/10,\"mu1\":122/10}\n",
    "#for k,v in ratess.items():\n",
    "#    plt.axvline(x=v,label=k,c=np.random.rand(3,))\n",
    "multiple = False\n",
    "\n",
    "fig = plt.figure(figsize=(8,5))\n",
    "plt.tight_layout()\n",
    "if(not multiple):\n",
    "    plt.plot(samp_rates, tot_error, color='orange', label='Numerical Error')\n",
    "    plt.plot(samp_rates, probs, label='Theoretical Error')\n",
    "    plt.title('$\\mathbb{E}(P(\\\\tau | \\Delta ))$'+f' For |S|={args.state_limit+1},$L={args.num_samples}$')\n",
    "    print('Minimum Error is obtained at {}'.format(samp_rates[np.argmin(probs)]))\n",
    "    plt.xscale('log', base=2)\n",
    "    plt.legend()\n",
    "    plt.xlabel('Sampling Rate')\n",
    "    plt.ylabel('Expected Probability of Error(over paths)')\n",
    "    plt.ylim(0,1)\n",
    "    print('This show that the summation of both errors is closer to monotonicity than having peaks.')\n",
    "    plt.show()\n",
    "else:\n",
    "    i=0.4\n",
    "    for i,(k,e) in enumerate(gtot_error.items()):\n",
    "        color = plt.get_cmap()(i/len(gtot_error))[:-1]\n",
    "        #color = i*np.array([0.3,0.7,0.9])\n",
    "        plt.plot(samp_rates, e, label='$E_n, |S| $= '+k,c=color,alpha=0.3)\n",
    "        plt.plot(samp_rates, gtot_probs[k],c=color)\n",
    "        i += 0.1\n",
    "    plt.title('Varying State-Length $\\mathbb{E}(P(\\\\tau | \\Delta )), |L| = 8$ ')\n",
    "    plt.xscale('log', base=2)\n",
    "    plt.legend(prop={'size':8})\n",
    "    plt.xlabel('Sampling Rate')\n",
    "    plt.ylabel('Expected Probability of Error(over paths)')\n",
    "    plt.ylim(0,0.6)\n",
    "    plt.savefig('./Images/BDL8VaryingStates/figure.png',dpi=300)\n",
    "    plt.show()"
   ]
  },
  {
   "cell_type": "code",
   "execution_count": 36,
   "metadata": {},
   "outputs": [
    {
     "data": {
      "text/plain": [
       "<Figure size 640x480 with 0 Axes>"
      ]
     },
     "metadata": {},
     "output_type": "display_data"
    }
   ],
   "source": [
    "import pickle\n",
    "with open('./Images/BDL8VaryingStates/num_error.pkl','wb') as outp:\n",
    "    pickle.dump(gtot_error,outp, pickle.HIGHEST_PROTOCOL)\n",
    "with open('./Images/BDL8VaryingStates/theo_error.pkl','wb') as outp:\n",
    "    pickle.dump(gtot_probs,outp, pickle.HIGHEST_PROTOCOL)\n",
    "with open('./Images/BDL8VaryingStates/args.pkl','wb') as outp:\n",
    "    pickle.dump(args,outp, pickle.HIGHEST_PROTOCOL)\n",
    "plt.clf()"
   ]
  },
  {
   "attachments": {},
   "cell_type": "markdown",
   "metadata": {},
   "source": [
    "# RL Oracle for Fairer Comparison\n",
    "\n",
    "We just want to verify our Q function now:"
   ]
  },
  {
   "cell_type": "code",
   "execution_count": 9,
   "metadata": {},
   "outputs": [],
   "source": [
    "from sp_sims.learning.rl import RNNContinuousPolicy, Critic,ReplayBuffer\n",
    "from torch import nn\n",
    "import torch\n",
    "import os.path\n",
    "import numpy as np\n",
    "import pickle\n",
    "from sp_sims.detectors.pearsonneyman import *\n",
    "from sp_sims.simulators.stochasticprocesses import *\n",
    "from sp_sims.statistics.statistics import *\n",
    "import torch.optim as optim\n"
   ]
  },
  {
   "cell_type": "code",
   "execution_count": 10,
   "metadata": {},
   "outputs": [],
   "source": [
    "# Create the Datasets\n",
    "# We may change args here:\n",
    "class Args2:\n",
    "  xres = 100\n",
    "  length = 5000# Number of transitions in continuous chain \n",
    "  state_limit = 1#Inclusive # DO NOT CHANGE, Architecture can't take it yet\n",
    "  init_state = 0\n",
    "  num_samples =5\n",
    "  batch_size =128\n",
    "  poptimizer_lr = 1e-4\n",
    "  coptimizer_lr = 1e-4\n",
    "  clipping_limit = 16 # Sampling rate no Bigger than this. \n",
    "  num_epochs = 100000\n",
    "  num_replay_samples = 1 # How many batches do we sample at a time to learn \n",
    "# Data Class\n",
    "class MetaState:\n",
    "  states: list\n",
    "  holding_times: list\n",
    "  def __init__(self,states, holding_times):\n",
    "    self.states = states\n",
    "    self.holding_times = holding_times\n",
    "\n",
    "args2 = Args2()"
   ]
  },
  {
   "cell_type": "code",
   "execution_count": 11,
   "metadata": {},
   "outputs": [],
   "source": [
    "def get_errors(sampled_tapes, probs, true_hyps):\n",
    "    # Clean it up \n",
    "    p0, p1 = probs\n",
    "    # Take our guesses\n",
    "    guesses = np.array([take_a_guess(tape, p0[i],p1[i]) for i,tape in enumerate(sampled_tapes)])\n",
    "    errors = -1*np.array(true_hyps != guesses)\n",
    "    return errors\n",
    "\n",
    "\n",
    "def take_a_guess(tape, p0,p1):\n",
    "    num = 0\n",
    "    denum = 0\n",
    "    for i in range(len(tape)-1):\n",
    "        from_state = tape[i]\n",
    "        to_state = tape[i+1]\n",
    "        num += np.log(p0[from_state,to_state])\n",
    "        denum += np.log(p1[from_state,to_state])\n",
    "    return 0 if num > denum else 1\n"
   ]
  },
  {
   "cell_type": "code",
   "execution_count": 12,
   "metadata": {},
   "outputs": [
    {
     "ename": "OSError",
     "evalue": "[Errno 28] No space left on device",
     "output_type": "error",
     "traceback": [
      "\u001b[0;31m---------------------------------------------------------------------------\u001b[0m",
      "\u001b[0;31mOSError\u001b[0m                                   Traceback (most recent call last)",
      "Cell \u001b[0;32mIn[12], line 123\u001b[0m\n\u001b[1;32m    121\u001b[0m     \u001b[39mif\u001b[39;00m np\u001b[39m.\u001b[39mrandom\u001b[39m.\u001b[39mchoice([\u001b[39m0\u001b[39m,\u001b[39m1\u001b[39m],\u001b[39m1\u001b[39m,p\u001b[39m=\u001b[39m[\u001b[39m0.15\u001b[39m,\u001b[39m0.85\u001b[39m]) \u001b[39m==\u001b[39m \u001b[39m0\u001b[39m:\n\u001b[1;32m    122\u001b[0m         rbuffer\u001b[39m.\u001b[39mpopulate_replay_buffer(\u001b[39m64\u001b[39m, args\u001b[39m.\u001b[39mdetection_guesses)\n\u001b[0;32m--> 123\u001b[0m         pickle\u001b[39m.\u001b[39;49mdump(rbuffer, buffer_file, protocol\u001b[39m=\u001b[39;49mpickle\u001b[39m.\u001b[39;49mHIGHEST_PROTOCOL)\n\u001b[1;32m    124\u001b[0m buffer_file\u001b[39m.\u001b[39mclose()\n",
      "\u001b[0;31mOSError\u001b[0m: [Errno 28] No space left on device"
     ]
    }
   ],
   "source": [
    "# Start Working on the Model\n",
    "#from tqdm.notebook import tqdm\n",
    "import matplotlib.pyplot as plt \n",
    "from IPython.display import clear_output\n",
    "from tqdm.auto import tqdm\n",
    "\n",
    "if torch.backends.mps.is_available():\n",
    "    print(\"Activating Apple Metal\")\n",
    "    device = torch.device(\"mps\")\n",
    "else:\n",
    "    device = torch.device(\"cpu\")\n",
    "\n",
    "class PolicyLoss(nn.Module):\n",
    "    def __init__(self):\n",
    "        super(PolicyLoss, self).__init__()\n",
    "\n",
    "    def forward(self, estimation):\n",
    "        return torch.mean(estimation)\n",
    "\n",
    "# TODO remove hard code \n",
    "policy = RNNContinuousPolicy(2*2,hidden_size=16).to(device)\n",
    "critic = Critic(2*2, 1, 16).to(device)\n",
    "poptimizer = optim.Adam(policy.parameters(), lr = args2.poptimizer_lr)\n",
    "coptimizer = optim.Adam(critic.parameters(), lr = args2.coptimizer_lr)\n",
    "\n",
    "# Open Replay Buffer File\n",
    "existed = os.path.exists('./ReplayBuffer/buffer_len{}.pkl'.format(args2.num_samples))\n",
    "buffer_file = open('./ReplayBuffer/buffer_len{}.pkl'.format(args2.num_samples),'rb')\n",
    "rbuffer = ReplayBuffer(sampbudget=args2.num_samples)\n",
    "if existed:\n",
    "    print('Found Previous Buffer, Now Loading...')\n",
    "    rbuffer.memory = pickle.load(buffer_file)\n",
    "buffer_file.close()\n",
    "buffer_file = open('./ReplayBuffer/new_buffer_len{}.pkl'.format(args2.num_samples),'wb')\n",
    "\n",
    "\n",
    "#populate_replay_buffer(rbuffer,args2.batch_size)\n",
    "\n",
    "# We have Enough Data to Start Sampling and Exploring With \n",
    "epochs = tqdm(range(args2.num_epochs),leave=True)\n",
    "qvalue_loss = []\n",
    "policyExpectedReward = []\n",
    "val_srate = []\n",
    "qlosses,plosses = [],[]\n",
    "q_losscrit = nn.MSELoss()\n",
    "p_losscrit = PolicyLoss()\n",
    "\n",
    "for e in epochs:\n",
    "    clear_output(wait=True)\n",
    "    poptimizer.zero_grad()\n",
    "    coptimizer.zero_grad()\n",
    "    ########################################\n",
    "    # Collect Data\n",
    "    ########################################\n",
    "    # This loop will generate paths with the existing policy \n",
    "    # Sample Transitions used for learnign\n",
    "    states, actions, rewards = rbuffer.sample(128)\n",
    "    states = states.to(device)\n",
    "    actions = actions.to(device)\n",
    "    rewards = rewards.to(device)\n",
    "\n",
    "    # Get Rates\n",
    "    y = rewards\n",
    "    # Since We We are Doing Accuracy We have to create \n",
    "    ########################################\n",
    "    # Update Networks\n",
    "    ########################################\n",
    "    # Calculate the Losses\n",
    "    #loss_Q = (1/args2.batch_size)*torch.sum(torch.pow(critic(states, actions) - y,2))\n",
    "    #loss_P = (1/args2.batch_size)*torch.sum(critic(states, policy(states)))\n",
    "    loss_Q = q_losscrit(critic(states,actions), y)\n",
    "    loss_P = p_losscrit(critic(states,policy(states)))\n",
    "\n",
    "    # Learn \n",
    "    loss_Q.backward()\n",
    "    loss_P.backward()\n",
    "    poptimizer.step()\n",
    "    coptimizer.step()\n",
    "\n",
    "    qlosses.append(loss_Q.item())\n",
    "    plosses.append(loss_P.item())\n",
    "\n",
    "    # In this one particular case we have a single point that is global max so it would be\n",
    "    # best to use optimized policy to do some exploration \n",
    "    qvalue_loss.append(loss_Q.item())\n",
    "    policyExpectedReward.append(loss_P.item())\n",
    "\n",
    "    # Validate with a known global min:\n",
    "    validation_input = torch.tensor([[4/10,12/10,100/10,122/10]]).to(device)\n",
    "    policy.eval()\n",
    "    with torch.no_grad():\n",
    "        val_srate.append(float(policy(validation_input).squeeze(-1).item()))\n",
    "    policy.train()\n",
    "\n",
    "    # Lets check performance \n",
    "    if e % 100 == 0:\n",
    "        plt.clf()\n",
    "        val = critic(states,actions).cpu().detach()\n",
    "        plt.scatter(range(128), val, label='Estimation',s=8)\n",
    "        plt.scatter(range(128), y.cpu(), label='Labels',s=8)\n",
    "        plt.plot(range(128), np.abs(val-y.cpu()), label='Difference', color='red',alpha=0.2)\n",
    "        plt.title('Performance Epoch '+str(e))\n",
    "        plt.legend()\n",
    "        plt.show()\n",
    "    \n",
    "    # Lets look at the weights acrooss the network \n",
    "    epoch_description = \"\"\n",
    "\n",
    "    for name, param in critic.named_parameters():\n",
    "        epoch_description += \"Parameter {} norm is {:.3f}\\n\".format(name, torch.norm(param)**2)\n",
    "\n",
    "    epoch_description += 'Val Samp Rate {}, Loss_Q {} and loss_P {}'.format(val_srate[-1], np.mean(qlosses), np.mean(plosses))\n",
    "\n",
    "    epochs.set_description(epoch_description)\n",
    "\n",
    "    ## Prep for Next Iteration\n",
    "    # Keep On Adding More Stuff to buffer to learn from \n",
    "    #add_actions_to_buffer(rbuffer, states.cpu(), actions.cpu())\n",
    "\n",
    "    # Don't over populate the buffer\n",
    "    if np.random.choice([0,1],1,p=[0.15,0.85]) == 0:\n",
    "        rbuffer.populate_replay_buffer(64, args.detection_guesses)\n",
    "        pickle.dump(rbuffer, buffer_file, protocol=pickle.HIGHEST_PROTOCOL)\n",
    "buffer_file.close()\n",
    "    \n"
   ]
  },
  {
   "cell_type": "code",
   "execution_count": 41,
   "metadata": {},
   "outputs": [
    {
     "data": {
      "image/png": "[encoded data removed]",
      "text/plain": [
       "<Figure size 1200x600 with 3 Axes>"
      ]
     },
     "metadata": {},
     "output_type": "display_data"
    }
   ],
   "source": [
    "\n",
    "from datetime import datetime\n",
    "now = datetime.now()\n",
    "dtimestr = now.strftime(\"%m-%d-%y_%h:%m:%s\")\n",
    "\n",
    "critic.eval()\n",
    "fig = plt.figure(figsize=(12,6))\n",
    "gs = fig.add_gridspec(2,2)\n",
    "\n",
    "axs00 = fig.add_subplot(gs[0,0])\n",
    "axs00.set_title('learning error rates')\n",
    "axs00.plot(range(len(qvalue_loss)),qvalue_loss,label=\"value estimation loss\")\n",
    "axs00.legend()\n",
    "\n",
    "axs01 = fig.add_subplot(gs[0,1])\n",
    "axs01.set_title('training values')\n",
    "axs01.axhline(y=11.03, label=\"optimal rate\", color=\"red\")\n",
    "axs01.plot(range(len(policyexpectedreward)),policyexpectedreward,label=\"expected policy error\")\n",
    "axs01.plot(range(len(val_srate)),val_srate,label=\"validation rate\")\n",
    "axs01.legend()\n",
    "\n",
    "critic_a = torch.tensor(samp_rates).view(-1,1).to(torch.float32).to(device)\n",
    "#critic_s = torch.tensor([4/10,12/10,100/10,122/10]).repeat(len(samp_rates),1).to(torch.float32).to(device)\n",
    "critic_s = torch.tensor([4/10,12/10,2/15,49/10]).repeat(len(samp_rates),1).to(torch.float32).to(device)\n",
    "rates1 = {\"lam\": 2/15,\"mu\":49/10}\n",
    "critic_y = critic(critic_s,critic_a).cpu().detach()\n",
    "\n",
    "# printed estimated values \n",
    "axs10 = fig.add_subplot(gs[1,:])\n",
    "axs10.set_title('q across validation states')\n",
    "axs10.plot(samp_rates, critic_y, label='estimated error rate')\n",
    "axs10.plot(samp_rates, probs, label='true error rate')\n",
    "axs10.set_xscale('log', base=2)\n",
    "\n",
    "#fig.delaxes(fig.axes[-1])\n",
    "plt.tight_layout()\n",
    "plt.legend()\n",
    "\n",
    "plt.savefig('images/models/training_{}.png'.format(dtimestr))\n",
    "plt.show()"
   ]
  },
  {
   "cell_type": "code",
   "execution_count": 15,
   "metadata": {},
   "outputs": [
    {
     "data": {
      "text/plain": [
       "294592"
      ]
     },
     "execution_count": 15,
     "metadata": {},
     "output_type": "execute_result"
    }
   ],
   "source": [
    "buffer_file = open('./ReplayBuffer/new_buffer_len{}.pkl'.format(args2.num_samples),'wb')\n",
    "pickle.dump(rbuffer, buffer_file, protocol=pickle.HIGHEST_PROTOCOL)\n",
    "buffer_file.close()"
   ]
  },
  {
   "cell_type": "code",
   "execution_count": 26,
   "metadata": {},
   "outputs": [],
   "source": [
    "# Save the Models\n",
    "details = {\n",
    "    'QLosses' : qvalue_loss,\n",
    "    'Policy Expected Reward' : policyExpectedReward,\n",
    "    'PLosses' : plosses,\n",
    "    'Validation Rate' : val_srate,\n",
    "    'Sampling Rates' : samp_rates,\n",
    "    'critic_y' : critic_y,\n",
    "    'Validation Probs': probs\n",
    "}\n",
    "\n",
    "torch.save(critic.state_dict ,'Models/Critic_{}.pt'.format(dtimestr))\n",
    "torch.save(policy.state_dict ,'Models/Policy_{}.pt'.format(dtimestr))\n",
    "torch.save(details, 'Models/Details{}.bin'.format(dtimestr))"
   ]
  }
 ],
 "metadata": {
  "kernelspec": {
   "display_name": "rs39",
   "language": "python",
   "name": "python3"
  },
  "language_info": {
   "codemirror_mode": {
    "name": "ipython",
    "version": 3
   },
   "file_extension": ".py",
   "mimetype": "text/x-python",
   "name": "python",
   "nbconvert_exporter": "python",
   "pygments_lexer": "ipython3",
   "version": "3.9.15"
  },
  "orig_nbformat": 4
 },
 "nbformat": 4,
 "nbformat_minor": 2
}
